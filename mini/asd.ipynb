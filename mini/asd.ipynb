{
 "cells": [
  {
   "cell_type": "code",
   "execution_count": 200,
   "metadata": {},
   "outputs": [],
   "source": [
    "import re\n",
    "import pandas as pd\n",
    "from collections import Counter"
   ]
  },
  {
   "cell_type": "code",
   "execution_count": 137,
   "metadata": {},
   "outputs": [
    {
     "data": {
      "text/plain": [
       "500"
      ]
     },
     "execution_count": 137,
     "metadata": {},
     "output_type": "execute_result"
    }
   ],
   "source": [
    "asd = pd.read_csv('storeTitle.csv', encoding='utf-8')\n",
    "len(asd)"
   ]
  },
  {
   "cell_type": "code",
   "execution_count": 138,
   "metadata": {},
   "outputs": [],
   "source": [
    "qwe=[]\n",
    "for i in range(len(asd)):\n",
    "    qwe.append(asd['상호명'][i])"
   ]
  },
  {
   "cell_type": "code",
   "execution_count": 195,
   "metadata": {},
   "outputs": [],
   "source": [
    "from asyncio.windows_events import NULL\n",
    "\n",
    "\n",
    "a = re.compile(\"\\s.+점\")\n",
    "\n",
    "# for i in range(len(qwe)):\n",
    "#     try:\n",
    "#         qwe[i] = qwe[i].replace(a.findall(f\"{qwe[i]}\")[0],'')\n",
    "#     except:\n",
    "#         pass\n",
    "\n",
    "qwe_r =[]\n",
    "\n",
    "for i in range(len(qwe)):\n",
    "    qwe_r.append(a.findall(f\"{qwe[i]}\"))\n",
    "    \n",
    "    if a.findall(f\"{qwe[i]}\") ==[]:\n",
    "        qwe_r[i] = ['']\n",
    "\n",
    "for i in range(len(qwe)):   \n",
    "    qwe[i] = qwe[i].replace(qwe_r[i][0],'')"
   ]
  },
  {
   "cell_type": "code",
   "execution_count": 243,
   "metadata": {},
   "outputs": [
    {
     "data": {
      "text/plain": [
       "[('스타벅스', 6),\n",
       " ('투썸플레이스', 4),\n",
       " ('원조부안집', 2),\n",
       " ('비엔나커피하우스', 2),\n",
       " ('태양커피', 2),\n",
       " ('크래프트한스', 2),\n",
       " ('이고집쭈꾸미', 2),\n",
       " ('오늘와인한잔', 2),\n",
       " ('남오토코', 2),\n",
       " ('파리바게뜨', 2),\n",
       " ('매드포갈릭', 2),\n",
       " ('애플하우스 이수', 1),\n",
       " ('세녹', 1),\n",
       " ('스시로로', 1),\n",
       " ('방배김밥', 1),\n",
       " ('전주전집', 1),\n",
       " ('이수통닭', 1),\n",
       " ('소담촌', 1),\n",
       " ('호우양꼬치', 1),\n",
       " ('호요', 1)]"
      ]
     },
     "execution_count": 243,
     "metadata": {},
     "output_type": "execute_result"
    }
   ],
   "source": [
    "Counter(qwe).most_common(20)"
   ]
  },
  {
   "cell_type": "code",
   "execution_count": 246,
   "metadata": {},
   "outputs": [
    {
     "name": "stdout",
     "output_type": "stream",
     "text": [
      "        0\n",
      "36   스타벅스\n",
      "98   스타벅스\n",
      "172  스타벅스\n",
      "197  스타벅스\n",
      "310  스타벅스\n",
      "473  스타벅스           0\n",
      "199  투썸플레이스\n",
      "207  투썸플레이스\n",
      "455  투썸플레이스\n",
      "492  투썸플레이스          0\n",
      "1    원조부안집\n",
      "338  원조부안집             0\n",
      "17   비엔나커피하우스\n",
      "372  비엔나커피하우스        0\n",
      "39  태양커피\n",
      "63  태양커피           0\n",
      "84   크래프트한스\n",
      "304  크래프트한스           0\n",
      "118  이고집쭈꾸미\n",
      "420  이고집쭈꾸미           0\n",
      "190  오늘와인한잔\n",
      "220  오늘와인한잔         0\n",
      "285  남오토코\n",
      "357  남오토코          0\n",
      "311  파리바게뜨\n",
      "346  파리바게뜨          0\n",
      "493  매드포갈릭\n",
      "496  매드포갈릭\n"
     ]
    }
   ],
   "source": [
    "qwe_df = pd.DataFrame(qwe)\n",
    "print(\n",
    "qwe_df [qwe_df[0] == '스타벅스'],qwe_df [qwe_df[0] == '투썸플레이스'],qwe_df [qwe_df[0] == '원조부안집'],\n",
    "qwe_df [qwe_df[0] == '비엔나커피하우스'],qwe_df [qwe_df[0] == '태양커피'],qwe_df [qwe_df[0] == '크래프트한스'],\n",
    "qwe_df [qwe_df[0] == '이고집쭈꾸미'],qwe_df [qwe_df[0] == '오늘와인한잔'],qwe_df [qwe_df[0] == '남오토코'],\n",
    "qwe_df [qwe_df[0] == '파리바게뜨'],qwe_df [qwe_df[0] == '매드포갈릭'])"
   ]
  },
  {
   "cell_type": "code",
   "execution_count": 247,
   "metadata": {},
   "outputs": [
    {
     "data": {
      "text/html": [
       "<div>\n",
       "<style scoped>\n",
       "    .dataframe tbody tr th:only-of-type {\n",
       "        vertical-align: middle;\n",
       "    }\n",
       "\n",
       "    .dataframe tbody tr th {\n",
       "        vertical-align: top;\n",
       "    }\n",
       "\n",
       "    .dataframe thead th {\n",
       "        text-align: right;\n",
       "    }\n",
       "</style>\n",
       "<table border=\"1\" class=\"dataframe\">\n",
       "  <thead>\n",
       "    <tr style=\"text-align: right;\">\n",
       "      <th></th>\n",
       "      <th>0</th>\n",
       "    </tr>\n",
       "  </thead>\n",
       "  <tbody>\n",
       "    <tr>\n",
       "      <th>36</th>\n",
       "      <td>스타벅스</td>\n",
       "    </tr>\n",
       "    <tr>\n",
       "      <th>98</th>\n",
       "      <td>스타벅스</td>\n",
       "    </tr>\n",
       "    <tr>\n",
       "      <th>172</th>\n",
       "      <td>스타벅스</td>\n",
       "    </tr>\n",
       "    <tr>\n",
       "      <th>197</th>\n",
       "      <td>스타벅스</td>\n",
       "    </tr>\n",
       "    <tr>\n",
       "      <th>310</th>\n",
       "      <td>스타벅스</td>\n",
       "    </tr>\n",
       "    <tr>\n",
       "      <th>473</th>\n",
       "      <td>스타벅스</td>\n",
       "    </tr>\n",
       "  </tbody>\n",
       "</table>\n",
       "</div>"
      ],
      "text/plain": [
       "        0\n",
       "36   스타벅스\n",
       "98   스타벅스\n",
       "172  스타벅스\n",
       "197  스타벅스\n",
       "310  스타벅스\n",
       "473  스타벅스"
      ]
     },
     "execution_count": 247,
     "metadata": {},
     "output_type": "execute_result"
    }
   ],
   "source": []
  },
  {
   "cell_type": "code",
   "execution_count": null,
   "metadata": {},
   "outputs": [],
   "source": []
  }
 ],
 "metadata": {
  "kernelspec": {
   "display_name": "Python 3.9.12 ('base')",
   "language": "python",
   "name": "python3"
  },
  "language_info": {
   "codemirror_mode": {
    "name": "ipython",
    "version": 3
   },
   "file_extension": ".py",
   "mimetype": "text/x-python",
   "name": "python",
   "nbconvert_exporter": "python",
   "pygments_lexer": "ipython3",
   "version": "3.9.12"
  },
  "orig_nbformat": 4,
  "vscode": {
   "interpreter": {
    "hash": "a077222d77dfe082b8f1dd562ad70e458ac2ab76993a0b248ab0476e32e9e8dd"
   }
  }
 },
 "nbformat": 4,
 "nbformat_minor": 2
}
