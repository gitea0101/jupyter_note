{
 "cells": [
  {
   "cell_type": "markdown",
   "id": "86107872",
   "metadata": {},
   "source": [
    "  - 딕셔너리명 ={Key : Value, ...}\n",
    "  - Key 에는 변하지 않는 값을 사용하고,\n",
    "  - Value에는 변하는 값과 변하지 않는 값 모두 사용할 수 있다.\n",
    "  - Key 는 중복 X, 리스트 X"
   ]
  },
  {
   "cell_type": "code",
   "execution_count": 1,
   "id": "d89f07d1",
   "metadata": {},
   "outputs": [
    {
     "data": {
      "text/plain": [
       "{'이름': ['홍길동', '김철수', '최영희'], '나이': [20, 21, 22], '키': [168, 177, 204]}"
      ]
     },
     "execution_count": 1,
     "metadata": {},
     "output_type": "execute_result"
    }
   ],
   "source": [
    "csb = {\"이름\" : \"홍길동\", \"나이\" : 20, \"키\" : 168}\n",
    "\n",
    "class1_4={\"이름\" : [\"홍길동\", \"김철수\", \"최영희\"],\n",
    "          \"나이\" : [20,21,22],\n",
    "          \"키\" : [168, 177, 204]}\n",
    "class1_4"
   ]
  },
  {
   "cell_type": "code",
   "execution_count": 2,
   "id": "01ff3900",
   "metadata": {},
   "outputs": [
    {
     "data": {
      "text/plain": [
       "['홍길동', '김철수', '최영희']"
      ]
     },
     "execution_count": 2,
     "metadata": {},
     "output_type": "execute_result"
    }
   ],
   "source": [
    "class1_4[\"이름\"]"
   ]
  },
  {
   "cell_type": "code",
   "execution_count": 3,
   "id": "ffda42f4",
   "metadata": {},
   "outputs": [
    {
     "data": {
      "text/plain": [
       "{'이름': ['홍길동', '김철수', '최영희'],\n",
       " '나이': [20, 21, 22],\n",
       " '키': [168, 177, 204],\n",
       " '발 사이즈': [290, 275, 240]}"
      ]
     },
     "execution_count": 3,
     "metadata": {},
     "output_type": "execute_result"
    }
   ],
   "source": [
    "class1_4[\"발 사이즈\"] = [290, 275, 240]\n",
    "class1_4"
   ]
  },
  {
   "cell_type": "code",
   "execution_count": 4,
   "id": "b959c873",
   "metadata": {},
   "outputs": [
    {
     "data": {
      "text/plain": [
       "{'이름': ['홍길동', '김철수', '최영희'], '나이': [20, 21, 22], '키': [168, 177, 204]}"
      ]
     },
     "execution_count": 4,
     "metadata": {},
     "output_type": "execute_result"
    }
   ],
   "source": [
    "del class1_4[\"발 사이즈\"]\n",
    "class1_4"
   ]
  },
  {
   "cell_type": "code",
   "execution_count": 5,
   "id": "38d3a174",
   "metadata": {},
   "outputs": [
    {
     "data": {
      "text/plain": [
       "dict_keys(['이름', '나이', '키'])"
      ]
     },
     "execution_count": 5,
     "metadata": {},
     "output_type": "execute_result"
    }
   ],
   "source": [
    "class1_4.keys()"
   ]
  },
  {
   "cell_type": "code",
   "execution_count": 6,
   "id": "23166300",
   "metadata": {},
   "outputs": [
    {
     "data": {
      "text/plain": [
       "dict_values([['홍길동', '김철수', '최영희'], [20, 21, 22], [168, 177, 204]])"
      ]
     },
     "execution_count": 6,
     "metadata": {},
     "output_type": "execute_result"
    }
   ],
   "source": [
    "class1_4.values()"
   ]
  },
  {
   "cell_type": "code",
   "execution_count": 7,
   "id": "0de87bf6",
   "metadata": {},
   "outputs": [
    {
     "name": "stdout",
     "output_type": "stream",
     "text": [
      "이름\n",
      "나이\n",
      "키\n"
     ]
    }
   ],
   "source": [
    "for i in class1_4:\n",
    "    print(i)"
   ]
  },
  {
   "cell_type": "code",
   "execution_count": 8,
   "id": "7908820f",
   "metadata": {},
   "outputs": [
    {
     "data": {
      "text/plain": [
       "True"
      ]
     },
     "execution_count": 8,
     "metadata": {},
     "output_type": "execute_result"
    }
   ],
   "source": [
    "\"이름\" in class1_4"
   ]
  },
  {
   "cell_type": "code",
   "execution_count": 9,
   "id": "43841221",
   "metadata": {},
   "outputs": [
    {
     "data": {
      "text/plain": [
       "False"
      ]
     },
     "execution_count": 9,
     "metadata": {},
     "output_type": "execute_result"
    }
   ],
   "source": [
    "\"홍길동\" in class1_4"
   ]
  },
  {
   "cell_type": "code",
   "execution_count": 14,
   "id": "06fe0c26",
   "metadata": {},
   "outputs": [
    {
     "data": {
      "text/plain": [
       "True"
      ]
     },
     "execution_count": 14,
     "metadata": {},
     "output_type": "execute_result"
    }
   ],
   "source": [
    "\"홍길동\" in class1_4[\"이름\"]"
   ]
  },
  {
   "cell_type": "code",
   "execution_count": 12,
   "id": "1dc86bd5",
   "metadata": {
    "scrolled": true
   },
   "outputs": [
    {
     "data": {
      "text/plain": [
       "dict_keys(['이름', '나이', '키'])"
      ]
     },
     "execution_count": 12,
     "metadata": {},
     "output_type": "execute_result"
    }
   ],
   "source": [
    "class1_4.keys()"
   ]
  },
  {
   "cell_type": "code",
   "execution_count": 13,
   "id": "088eb512",
   "metadata": {},
   "outputs": [
    {
     "data": {
      "text/plain": [
       "dict_values([['홍길동', '김철수', '최영희'], [20, 21, 22], [168, 177, 204]])"
      ]
     },
     "execution_count": 13,
     "metadata": {},
     "output_type": "execute_result"
    }
   ],
   "source": [
    "class1_4.values()"
   ]
  },
  {
   "cell_type": "code",
   "execution_count": 55,
   "id": "4ce1e83a",
   "metadata": {},
   "outputs": [
    {
     "data": {
      "text/plain": [
       "{'이름': ['홍길동', '임꺽정', '장길산'],\n",
       " '나이': [20, 35, 52],\n",
       " '키': [160, 200, 180],\n",
       " '발 사이즈': [260, 290, 270],\n",
       " '평균들': [35.666666666666664, 180.0, 273.3333333333333]}"
      ]
     },
     "execution_count": 55,
     "metadata": {},
     "output_type": "execute_result"
    }
   ],
   "source": [
    "csb = {\"이름\" : [\"홍길동\", \"임꺽정\", \"장길산\"],\n",
    "      \"나이\" : [20, 35, 52],\n",
    "      \"키\" : [160, 200, 180],\n",
    "      \"발 사이즈\" : [260,290,270]}\n",
    "\n",
    "c = []\n",
    "l = len(csb[\"이름\"])\n",
    "\n",
    "for i in list(csb.keys())[1:]:\n",
    "    a = 0\n",
    "    for j in (range(l)):\n",
    "        a = a + csb[i][j]\n",
    "    c.append(a/l)\n",
    "\n",
    "\n",
    "csb[\"평균들\"] = c\n",
    "csb\n"
   ]
  },
  {
   "cell_type": "markdown",
   "id": "445ade21",
   "metadata": {},
   "source": [
    "  - 딕셔너리의 각 과일의 가격을 10% 올려주세요."
   ]
  },
  {
   "cell_type": "code",
   "execution_count": 1,
   "id": "5e5ba9a4",
   "metadata": {},
   "outputs": [
    {
     "data": {
      "text/plain": [
       "{'사과': 880, '바나나': 1100, '포도': 880}"
      ]
     },
     "execution_count": 1,
     "metadata": {},
     "output_type": "execute_result"
    }
   ],
   "source": [
    "gg = {\"사과\" : 800, \"바나나\" : 1000, \"포도\" : 800}\n",
    "\n",
    "for i in gg:\n",
    "    \n",
    "    gg[i] = int(gg[i]*1.1)\n",
    "\n",
    "gg"
   ]
  },
  {
   "cell_type": "markdown",
   "id": "3e612e7d",
   "metadata": {},
   "source": [
    " - 전국 사과 가격의 평균을 구해주세요."
   ]
  },
  {
   "cell_type": "code",
   "execution_count": 19,
   "id": "c18dab0a",
   "metadata": {},
   "outputs": [
    {
     "name": "stdout",
     "output_type": "stream",
     "text": [
      "750.0\n"
     ]
    }
   ],
   "source": [
    "ggg = {\"서울점\" : {\"사과\" : 800, \"바나나\" : 1000, \"포도\" : 800},\n",
    "       \"부산점\" : {\"사과\" : 700, \"바나나\" : 900, \"포도\" : 900},\n",
    "       \"대구점\" : {\"사과\" : 750, \"바나나\" : 800, \"포도\" : 1000}}\n",
    "a=0\n",
    "\n",
    "for i in ggg:\n",
    "    \n",
    "    a = a + ggg[i][\"사과\"]\n",
    "\n",
    "# print(a/len(ggg.keys()))\n",
    "print(a/len(ggg))"
   ]
  },
  {
   "cell_type": "markdown",
   "id": "2258be42",
   "metadata": {},
   "source": [
    "## class1_4의 \"이름\" key에 할당된 value들을 전부 성을 뺀 이름들로 출력하고 싶습니다.\n",
    " - 홍길동 > 길동\n",
    " - 김철수 > 철수\n",
    " - 김영희 > 영희"
   ]
  },
  {
   "cell_type": "code",
   "execution_count": 36,
   "id": "8b868a90",
   "metadata": {},
   "outputs": [
    {
     "data": {
      "text/plain": [
       "{'이름': ['길동', '철수', '영희'], '나이': [20, 21, 22], '키': [168, 177, 204]}"
      ]
     },
     "execution_count": 36,
     "metadata": {},
     "output_type": "execute_result"
    }
   ],
   "source": [
    "class1_4={\"이름\" : [\"홍길동\", \"김철수\", \"최영희\"],\n",
    "          \"나이\" : [20,21,22],\n",
    "          \"키\" : [168, 177, 204]}\n",
    "\n",
    "new_name = []\n",
    "for i in class1_4[\"이름\"]:\n",
    "    new_name.append(i[1:])\n",
    "class1_4[\"이름\"] = new_name\n",
    "class1_4\n"
   ]
  },
  {
   "cell_type": "code",
   "execution_count": 37,
   "id": "24dfcfa5",
   "metadata": {},
   "outputs": [
    {
     "data": {
      "text/plain": [
       "['길동', '철수', '영희']"
      ]
     },
     "execution_count": 37,
     "metadata": {},
     "output_type": "execute_result"
    }
   ],
   "source": [
    "new_name"
   ]
  },
  {
   "cell_type": "markdown",
   "id": "78956add",
   "metadata": {},
   "source": [
    " - 여러 학생의 성적 점수가 다음과 같은 Dictionary로 구성되어 있다."
   ]
  },
  {
   "cell_type": "code",
   "execution_count": 127,
   "id": "64f9883a",
   "metadata": {},
   "outputs": [],
   "source": [
    "scores = {'홍길동':{'수학':99,'영어':80,'국어':75},\n",
    "          '김미정':{'영어':67,'국어':87,'수학':55},\n",
    "          '정수진':{'수학':67,'국어':41,'영어':23}}"
   ]
  },
  {
   "cell_type": "markdown",
   "id": "d2364f2e",
   "metadata": {},
   "source": [
    " - 이 때, 학생들의 평균을 저장하는 새로운 항목을 추가하고 싶다.\n",
    " - scores에 학생들의 수학, 영어, 국어 평균 성적을 기록한 \"성적\"정보를 추가해주세요."
   ]
  },
  {
   "cell_type": "code",
   "execution_count": 122,
   "id": "031a6edc",
   "metadata": {},
   "outputs": [
    {
     "data": {
      "text/plain": [
       "{'홍길동': {'수학': 99, '영어': 80, '국어': 75},\n",
       " '김미정': {'영어': 67, '국어': 87, '수학': 55},\n",
       " '정수진': {'수학': 67, '국어': 41, '영어': 23},\n",
       " '평균점수': {'국어': 0, '영어': 0, '수학': 73.66666666666667}}"
      ]
     },
     "execution_count": 122,
     "metadata": {},
     "output_type": "execute_result"
    }
   ],
   "source": [
    "eng = 0\n",
    "meth = 0\n",
    "kor = 0\n",
    "\n",
    "n_m=1\n",
    "\n",
    "scores[\"평균점수\"] ={\"국어\" : 0, \"영어\" : 0, \"수학\" : 0}\n",
    "\n",
    "for i in scores:\n",
    "    for j in scores[i]:\n",
    "        if j == \"수학\":\n",
    "            meth += scores[i][j]\n",
    "            scores[\"평균점수\"][j] = meth/n_m\n",
    "            n_m += 1\n",
    "        if j == \"영어\":\n",
    "            eng += scores[i][j]\n",
    "#             scores[\"평균점수\"][j] = \n",
    "        if j == \"국어\":\n",
    "            kor += scores[i][j]\n",
    "#             scores[\"평균점수\"][j] = \n",
    "        \n",
    "\n",
    "scores\n",
    "\n",
    "\n"
   ]
  },
  {
   "cell_type": "code",
   "execution_count": 123,
   "id": "342acfad",
   "metadata": {},
   "outputs": [
    {
     "data": {
      "text/plain": [
       "{'홍길동': {'수학': 99, '영어': 80, '국어': 75},\n",
       " '김미정': {'영어': 67, '국어': 87, '수학': 55},\n",
       " '정수진': {'수학': 67, '국어': 41, '영어': 23},\n",
       " '평균점수': {'국어': 50.75, '영어': 42.5, '수학': 73.66666666666667}}"
      ]
     },
     "execution_count": 123,
     "metadata": {},
     "output_type": "execute_result"
    }
   ],
   "source": [
    "eng = 0\n",
    "math = 0\n",
    "kor = 0\n",
    "for i in scores:\n",
    "    math = math + scores[i][\"수학\"]\n",
    "    eng = eng + scores[i][\"영어\"]\n",
    "    kor = kor + scores[i][\"국어\"]\n",
    "    \n",
    "scores[\"평균점수\"] = {\"국어\" : kor/len(scores), \"영어\" : eng/len(scores), \"수학\" : meth/len(scores)}\n",
    "\n",
    "scores"
   ]
  },
  {
   "cell_type": "code",
   "execution_count": 138,
   "id": "86ebf48c",
   "metadata": {},
   "outputs": [
    {
     "data": {
      "text/plain": [
       "73.67"
      ]
     },
     "execution_count": 138,
     "metadata": {},
     "output_type": "execute_result"
    }
   ],
   "source": [
    "dirty = 73.666666666\n",
    "\n",
    "round(dirty, 2)"
   ]
  },
  {
   "cell_type": "code",
   "execution_count": 140,
   "id": "a09db670",
   "metadata": {},
   "outputs": [
    {
     "data": {
      "text/plain": [
       "73"
      ]
     },
     "execution_count": 140,
     "metadata": {},
     "output_type": "execute_result"
    }
   ],
   "source": [
    "import math\n",
    "\n",
    "math.floor(dirty)"
   ]
  },
  {
   "cell_type": "code",
   "execution_count": 131,
   "id": "54059f19",
   "metadata": {},
   "outputs": [
    {
     "data": {
      "text/plain": [
       "74"
      ]
     },
     "execution_count": 131,
     "metadata": {},
     "output_type": "execute_result"
    }
   ],
   "source": [
    "math.ceil(dirty)"
   ]
  },
  {
   "cell_type": "markdown",
   "id": "80c0c61c",
   "metadata": {},
   "source": [
    "https://tech.kakao.com/2021/01/25/2021-kakao-recruitment-round-1/"
   ]
  },
  {
   "cell_type": "code",
   "execution_count": 3,
   "id": "4669a71e",
   "metadata": {},
   "outputs": [
    {
     "name": "stdout",
     "output_type": "stream",
     "text": [
      "아이디를 입력해 주세요: 1(1\n",
      "111\n"
     ]
    }
   ],
   "source": [
    "new_id = input(\"아이디를 입력해 주세요: \")\n",
    "\n",
    "\n",
    "#1\n",
    "new_id = new_id.lower()\n",
    "\n",
    "\n",
    "#2\n",
    "\n",
    "q2 = ['a', 'b', 'c', 'd', 'e', 'f', 'g', 'h', 'i', 'j', 'k', 'l', 'm', 'n', 'o', 'p' ,'q', 'r', 's', 't', 'u', 'v', 'w', 'x', 'y', 'z', \"0\", \"1\", \"2\", \"3\", \"4\", \"5\", \"6\", \"7\", \"8\", \"9\", \"0\",  \"-\", \"_\", \".\"]\n",
    "\n",
    "\n",
    "for i in new_id:\n",
    "    if i not in q2:\n",
    "        new_id = new_id.replace(i,\"\")\n",
    "        \n",
    "#3\n",
    "while (\"..\" in new_id):\n",
    "\n",
    "    new_id = new_id.replace(\"..\",\".\")\n",
    "\n",
    "#4\n",
    "\n",
    "new_id = new_id.strip(\".\")\n",
    "\n",
    "#5\n",
    "\n",
    "if new_id == \"\":\n",
    "\n",
    "    new_id = \"a\"\n",
    "\n",
    "#6\n",
    "\n",
    "# if len(new_id) >= 16:\n",
    "    \n",
    "#     a = new_id[15:]\n",
    "    \n",
    "#     new_id = new_id.rstrip(a)\n",
    "\n",
    "new_id = new_id[0:15]\n",
    "\n",
    "new_id = new_id.rstrip(\".\")\n",
    "\n",
    "#7\n",
    "\n",
    "# for j in new_id:\n",
    "        \n",
    "#     lastw = j\n",
    "\n",
    "# while len(new_id) < 3:\n",
    "    \n",
    "#     new_id = new_id + lastw\n",
    "\n",
    "while len(new_id) < 3:\n",
    "    \n",
    "    lastw = new_id[len(new_id)-1]\n",
    "    \n",
    "    new_id = new_id + lastw\n",
    "    \n",
    "print(new_id)"
   ]
  },
  {
   "cell_type": "code",
   "execution_count": 63,
   "id": "651b2ff1",
   "metadata": {},
   "outputs": [
    {
     "data": {
      "text/plain": [
       "4"
      ]
     },
     "execution_count": 63,
     "metadata": {},
     "output_type": "execute_result"
    }
   ],
   "source": []
  }
 ],
 "metadata": {
  "kernelspec": {
   "display_name": "Python 3 (ipykernel)",
   "language": "python",
   "name": "python3"
  },
  "language_info": {
   "codemirror_mode": {
    "name": "ipython",
    "version": 3
   },
   "file_extension": ".py",
   "mimetype": "text/x-python",
   "name": "python",
   "nbconvert_exporter": "python",
   "pygments_lexer": "ipython3",
   "version": "3.9.12"
  }
 },
 "nbformat": 4,
 "nbformat_minor": 5
}
