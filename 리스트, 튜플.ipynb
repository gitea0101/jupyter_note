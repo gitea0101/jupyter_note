{
 "cells": [
  {
   "cell_type": "code",
   "execution_count": 5,
   "id": "de3a1c01",
   "metadata": {},
   "outputs": [
    {
     "data": {
      "text/plain": [
       "list"
      ]
     },
     "execution_count": 5,
     "metadata": {},
     "output_type": "execute_result"
    }
   ],
   "source": [
    "a = [1, 2, 3, 4]\n",
    "type(a)"
   ]
  },
  {
   "cell_type": "code",
   "execution_count": 6,
   "id": "bcc8c864",
   "metadata": {},
   "outputs": [
    {
     "data": {
      "text/plain": [
       "['My', 'name', 'is', 'ChangHyun']"
      ]
     },
     "execution_count": 6,
     "metadata": {},
     "output_type": "execute_result"
    }
   ],
   "source": [
    "b =[\"My\", \"name\", \"is\", \"ChangHyun\"]\n",
    "b"
   ]
  },
  {
   "cell_type": "code",
   "execution_count": 7,
   "id": "1432e889",
   "metadata": {},
   "outputs": [
    {
     "data": {
      "text/plain": [
       "[1, 2, 'My', 'name']"
      ]
     },
     "execution_count": 7,
     "metadata": {},
     "output_type": "execute_result"
    }
   ],
   "source": [
    "c = [1, 2, \"My\", \"name\"]\n",
    "c"
   ]
  },
  {
   "cell_type": "code",
   "execution_count": 8,
   "id": "78730986",
   "metadata": {},
   "outputs": [
    {
     "data": {
      "text/plain": [
       "'a'"
      ]
     },
     "execution_count": 8,
     "metadata": {},
     "output_type": "execute_result"
    }
   ],
   "source": [
    "d = [1, 2, [\"a\", \"b\"]]\n",
    "d[2][0]"
   ]
  },
  {
   "cell_type": "code",
   "execution_count": 9,
   "id": "621f5142",
   "metadata": {},
   "outputs": [
    {
     "data": {
      "text/plain": [
       "[]"
      ]
     },
     "execution_count": 9,
     "metadata": {},
     "output_type": "execute_result"
    }
   ],
   "source": [
    "e = []\n",
    "e"
   ]
  },
  {
   "cell_type": "code",
   "execution_count": 10,
   "id": "7b0813e8",
   "metadata": {},
   "outputs": [
    {
     "data": {
      "text/plain": [
       "[7, 8, 9]"
      ]
     },
     "execution_count": 10,
     "metadata": {},
     "output_type": "execute_result"
    }
   ],
   "source": [
    "l = [7, 8, 9, 10]\n",
    "l[:3]"
   ]
  },
  {
   "cell_type": "code",
   "execution_count": 11,
   "id": "79d53f4e",
   "metadata": {},
   "outputs": [
    {
     "data": {
      "text/plain": [
       "8"
      ]
     },
     "execution_count": 11,
     "metadata": {},
     "output_type": "execute_result"
    }
   ],
   "source": [
    "[7, 8, 9, 10] [1]"
   ]
  },
  {
   "cell_type": "code",
   "execution_count": 12,
   "id": "1d5e5e02",
   "metadata": {},
   "outputs": [],
   "source": [
    "a=()\n",
    "b=(1,2,3,4)\n",
    "c=(\"a\",\"b\",\"c\")\n",
    "d=(1,2,\"a\",\"b\")\n",
    "e=(1,2,[\"a\",\"b\"])\n",
    "f=(1,2,(\"a\",\"b\"))\n",
    "\n",
    "# ()튜플 안의 원소는 조작 불가능"
   ]
  },
  {
   "cell_type": "code",
   "execution_count": 13,
   "id": "b4906f8e",
   "metadata": {},
   "outputs": [
    {
     "data": {
      "text/plain": [
       "('a', 'b', 'c')"
      ]
     },
     "execution_count": 13,
     "metadata": {},
     "output_type": "execute_result"
    }
   ],
   "source": [
    "c[0:3]"
   ]
  },
  {
   "cell_type": "code",
   "execution_count": 14,
   "id": "7ac7d665",
   "metadata": {},
   "outputs": [
    {
     "data": {
      "text/plain": [
       "[1, 2, 3, 4, 5, 6, 7, 8]"
      ]
     },
     "execution_count": 14,
     "metadata": {},
     "output_type": "execute_result"
    }
   ],
   "source": [
    "a = [1, 2, 3, 4]\n",
    "b = [5, 6, 7, 8]\n",
    "a + b"
   ]
  },
  {
   "cell_type": "code",
   "execution_count": 15,
   "id": "34e487c1",
   "metadata": {},
   "outputs": [
    {
     "data": {
      "text/plain": [
       "[1, 2, 3, 4, 5]"
      ]
     },
     "execution_count": 15,
     "metadata": {},
     "output_type": "execute_result"
    }
   ],
   "source": [
    "a.append(5)\n",
    "a"
   ]
  },
  {
   "cell_type": "code",
   "execution_count": 16,
   "id": "85c9ec60",
   "metadata": {},
   "outputs": [
    {
     "data": {
      "text/plain": [
       "[8, 1, 2, 3, 4, 5]"
      ]
     },
     "execution_count": 16,
     "metadata": {},
     "output_type": "execute_result"
    }
   ],
   "source": [
    "a.insert(0, 8)\n",
    "a"
   ]
  },
  {
   "cell_type": "code",
   "execution_count": 17,
   "id": "0ecc36a2",
   "metadata": {},
   "outputs": [
    {
     "data": {
      "text/plain": [
       "[8, 1, 2, 3, 4, 20, 5]"
      ]
     },
     "execution_count": 17,
     "metadata": {},
     "output_type": "execute_result"
    }
   ],
   "source": [
    "a.insert(-1, 20)\n",
    "a"
   ]
  },
  {
   "cell_type": "code",
   "execution_count": 18,
   "id": "b5c4abd1",
   "metadata": {},
   "outputs": [
    {
     "data": {
      "text/plain": [
       "[1, 2, 3, 4, 20, 5]"
      ]
     },
     "execution_count": 18,
     "metadata": {},
     "output_type": "execute_result"
    }
   ],
   "source": [
    "del a[0]\n",
    "a"
   ]
  },
  {
   "cell_type": "code",
   "execution_count": 19,
   "id": "02607edd",
   "metadata": {},
   "outputs": [
    {
     "data": {
      "text/plain": [
       "[1, 2, 3, 4, 5]"
      ]
     },
     "execution_count": 19,
     "metadata": {},
     "output_type": "execute_result"
    }
   ],
   "source": [
    "a. remove(20)\n",
    "a"
   ]
  },
  {
   "cell_type": "code",
   "execution_count": 20,
   "id": "de87e685",
   "metadata": {},
   "outputs": [
    {
     "data": {
      "text/plain": [
       "[1, 2, 3, 4]"
      ]
     },
     "execution_count": 20,
     "metadata": {},
     "output_type": "execute_result"
    }
   ],
   "source": [
    "a.pop()\n",
    "a"
   ]
  },
  {
   "cell_type": "code",
   "execution_count": 21,
   "id": "d1ab4725",
   "metadata": {},
   "outputs": [
    {
     "data": {
      "text/plain": [
       "[1, 2, 3, 13, 4, 13]"
      ]
     },
     "execution_count": 21,
     "metadata": {},
     "output_type": "execute_result"
    }
   ],
   "source": [
    "a = [1,2,13,3,13,4,13]\n",
    "a. remove(13)\n",
    "a"
   ]
  },
  {
   "cell_type": "code",
   "execution_count": 22,
   "id": "f6819335",
   "metadata": {},
   "outputs": [
    {
     "data": {
      "text/plain": [
       "[1, 13, 3, 13, 4, 13]"
      ]
     },
     "execution_count": 22,
     "metadata": {},
     "output_type": "execute_result"
    }
   ],
   "source": [
    "a[1] = 13\n",
    "a"
   ]
  },
  {
   "cell_type": "code",
   "execution_count": 23,
   "id": "fc00a85a",
   "metadata": {},
   "outputs": [
    {
     "data": {
      "text/plain": [
       "[1, 3, 4, 13, 13, 13]"
      ]
     },
     "execution_count": 23,
     "metadata": {},
     "output_type": "execute_result"
    }
   ],
   "source": [
    "a.sort()\n",
    "a"
   ]
  },
  {
   "cell_type": "code",
   "execution_count": 24,
   "id": "e4a720e7",
   "metadata": {},
   "outputs": [
    {
     "data": {
      "text/plain": [
       "[13, 13, 13, 4, 3, 1]"
      ]
     },
     "execution_count": 24,
     "metadata": {},
     "output_type": "execute_result"
    }
   ],
   "source": [
    "a.sort(reverse = True)\n",
    "a"
   ]
  },
  {
   "cell_type": "code",
   "execution_count": 25,
   "id": "bf6f8f7b",
   "metadata": {},
   "outputs": [
    {
     "data": {
      "text/plain": [
       "[1, 3, 4, 13, 13, 13]"
      ]
     },
     "execution_count": 25,
     "metadata": {},
     "output_type": "execute_result"
    }
   ],
   "source": [
    "a.sort() #shift +tap 툴팁\n",
    "a"
   ]
  },
  {
   "cell_type": "code",
   "execution_count": 26,
   "id": "f4ed77d4",
   "metadata": {},
   "outputs": [
    {
     "data": {
      "text/plain": [
       "[13, 13, 13, 4, 3, 1]"
      ]
     },
     "execution_count": 26,
     "metadata": {},
     "output_type": "execute_result"
    }
   ],
   "source": [
    "a.reverse()\n",
    "a"
   ]
  },
  {
   "cell_type": "code",
   "execution_count": 27,
   "id": "0010632d",
   "metadata": {},
   "outputs": [
    {
     "data": {
      "text/plain": [
       "6"
      ]
     },
     "execution_count": 27,
     "metadata": {},
     "output_type": "execute_result"
    }
   ],
   "source": [
    "len(a) #길이 반환 (원소 개수)"
   ]
  },
  {
   "cell_type": "code",
   "execution_count": 24,
   "id": "dfe3fbaf",
   "metadata": {},
   "outputs": [
    {
     "data": {
      "text/plain": [
       "['TELL', 'ME']"
      ]
     },
     "execution_count": 24,
     "metadata": {},
     "output_type": "execute_result"
    }
   ],
   "source": [
    "# 함수 f(x) \n",
    "# 메소드 abc.메소드() ()는 메소드임을 지칭 하지만 안에 매개변수 추가 가능, 메소드는 이어붙이기 가능\n",
    "\n",
    "sentence = \"tell me\"\n",
    "sentence.upper().split()\n"
   ]
  },
  {
   "cell_type": "code",
   "execution_count": 50,
   "id": "dbc246da",
   "metadata": {},
   "outputs": [
    {
     "data": {
      "text/plain": [
       "True"
      ]
     },
     "execution_count": 50,
     "metadata": {},
     "output_type": "execute_result"
    }
   ],
   "source": [
    "cs = [\"사이다\",\"콜라\",\"주스\"]\n",
    "\n",
    "\"콜라\" in cs"
   ]
  },
  {
   "cell_type": "code",
   "execution_count": 51,
   "id": "da580cde",
   "metadata": {},
   "outputs": [
    {
     "data": {
      "text/plain": [
       "False"
      ]
     },
     "execution_count": 51,
     "metadata": {},
     "output_type": "execute_result"
    }
   ],
   "source": [
    "\"콜라\" not in cs"
   ]
  },
  {
   "cell_type": "code",
   "execution_count": 52,
   "id": "ed364546",
   "metadata": {
    "scrolled": true
   },
   "outputs": [
    {
     "data": {
      "text/plain": [
       "True"
      ]
     },
     "execution_count": 52,
     "metadata": {},
     "output_type": "execute_result"
    }
   ],
   "source": [
    "\"콜라\" in cs and \"사이다\" in cs"
   ]
  },
  {
   "cell_type": "code",
   "execution_count": 53,
   "id": "bf380583",
   "metadata": {
    "scrolled": true
   },
   "outputs": [
    {
     "data": {
      "text/plain": [
       "False"
      ]
     },
     "execution_count": 53,
     "metadata": {},
     "output_type": "execute_result"
    }
   ],
   "source": [
    "[\"사이다\",\"콜라\"] in cs"
   ]
  },
  {
   "cell_type": "code",
   "execution_count": 54,
   "id": "efcd8b06",
   "metadata": {},
   "outputs": [],
   "source": [
    "cs = [\"사이다\",\"콜라\",\"주스\",[\"사이다\",\"콜라\"]]"
   ]
  },
  {
   "cell_type": "code",
   "execution_count": 55,
   "id": "0b9c0ca0",
   "metadata": {
    "scrolled": true
   },
   "outputs": [
    {
     "data": {
      "text/plain": [
       "True"
      ]
     },
     "execution_count": 55,
     "metadata": {},
     "output_type": "execute_result"
    }
   ],
   "source": [
    "[\"사이다\",\"콜라\"] in cs"
   ]
  },
  {
   "cell_type": "code",
   "execution_count": 40,
   "id": "0d7817d6",
   "metadata": {},
   "outputs": [
    {
     "data": {
      "text/plain": [
       "True"
      ]
     },
     "execution_count": 40,
     "metadata": {},
     "output_type": "execute_result"
    }
   ],
   "source": [
    "like = \"나는 콜라가 좋아\"\n",
    "\"콜라\" in like"
   ]
  },
  {
   "cell_type": "code",
   "execution_count": 41,
   "id": "817d7413",
   "metadata": {},
   "outputs": [
    {
     "data": {
      "text/plain": [
       "'There is a grape in the market'"
      ]
     },
     "execution_count": 41,
     "metadata": {},
     "output_type": "execute_result"
    }
   ],
   "source": [
    "fruit = [\"mango\", \"grape\", \"apple\", \"banana\", \"melon\", \"watermelon\"]\n",
    "sentence = \"There is a mango in the market\"\n",
    "\n",
    "sentence.replace(fruit[0], fruit[1])"
   ]
  },
  {
   "cell_type": "code",
   "execution_count": 42,
   "id": "cd0ea62d",
   "metadata": {},
   "outputs": [],
   "source": [
    "import random"
   ]
  },
  {
   "cell_type": "code",
   "execution_count": 43,
   "id": "02a27608",
   "metadata": {},
   "outputs": [
    {
     "data": {
      "text/plain": [
       "0.5661473179885913"
      ]
     },
     "execution_count": 43,
     "metadata": {},
     "output_type": "execute_result"
    }
   ],
   "source": [
    "random.random()"
   ]
  },
  {
   "cell_type": "code",
   "execution_count": 44,
   "id": "6c201446",
   "metadata": {},
   "outputs": [
    {
     "data": {
      "text/plain": [
       "3"
      ]
     },
     "execution_count": 44,
     "metadata": {},
     "output_type": "execute_result"
    }
   ],
   "source": [
    "l = [1, 2, 3, 4, 5]\n",
    "random. choice(l)"
   ]
  },
  {
   "cell_type": "markdown",
   "id": "5a936212",
   "metadata": {},
   "source": [
    "## 데이터 추가\n",
    " - 문자열: +\n",
    " - 리스트: append,insert\n",
    "\n",
    "## 데이터 제거\n",
    " - 문자열: replace\n",
    " - 리스트: del, remove, pop\n",
    "\n",
    "## 데이터 교체\n",
    " - 문자열: replace\n",
    " - 리스트: 함수x"
   ]
  },
  {
   "cell_type": "code",
   "execution_count": 25,
   "id": "c2da7181",
   "metadata": {},
   "outputs": [
    {
     "data": {
      "text/plain": [
       "[['mango', 'grape'], ['pineapple', 'banana', ['melon', 'watermelon']]]"
      ]
     },
     "execution_count": 25,
     "metadata": {},
     "output_type": "execute_result"
    }
   ],
   "source": [
    "fruit = [[\"mango\", \"grape\"], [\"apple\", \"banana\", [\"melon\", \"watermelon\"]]]\n",
    "\n",
    "fruit[1][0] = \"pine\" + fruit[1][0] \n",
    "\n",
    "fruit"
   ]
  },
  {
   "cell_type": "markdown",
   "id": "dc26e131",
   "metadata": {},
   "source": [
    "# 가위바위보 게임 만들기\n",
    " - 플레이어에게 가위, 바위, 보 중 하나를 입력하게 합니다.\n",
    " - 플레이어가 말을 안듣고, 가위, 바위, 보 중 어느 것도 내지 않았을 때에는 \"잘못된 입력입니다.\"를 출력하세요.\n",
    " - 컴퓨터는 동일한 확률로 가위, 바위, 보 중 하나를 냅니다.\n",
    " - 플레이어의 입력과, 컴퓨터의 입력을 비교하여 승부를 결정합니다.\n",
    " - 출력문은 \"당신은 00를 냈고, 컴퓨터는 00를 냈습니다. 당신이 이겼습니다.\" 와 같은 형식으로 합니다."
   ]
  },
  {
   "cell_type": "code",
   "execution_count": 62,
   "id": "71ac15db",
   "metadata": {},
   "outputs": [
    {
     "name": "stdout",
     "output_type": "stream",
     "text": [
      "가위, 바위, 보 중 하나를 입력하세요.: 보\n",
      "당신은 보를 냈고, 컴퓨터는 보를 냈습니다. 당신이 비겼습니다.\n"
     ]
    }
   ],
   "source": [
    "import random\n",
    "\n",
    "rps = [\"가위\", \"바위\", \"보\"]\n",
    "\n",
    "player = input(\"가위, 바위, 보 중 하나를 입력하세요.: \")\n",
    "\n",
    "if player not in rps:\n",
    "    print(\"잘못된 입력입니다.\")\n",
    "\n",
    "else:\n",
    "    \n",
    "    if player == \"가위\":\n",
    "        pd=0\n",
    "    elif player == \"바위\":\n",
    "        pd=1\n",
    "    elif player == \"보\":\n",
    "        pd=2\n",
    "    \n",
    "    \n",
    "    cc = random.choice(rps)    \n",
    "    \n",
    "    if rps[pd] == cc:\n",
    "        r = \"비겼습니다.\"\n",
    "    \n",
    "    elif rps[pd-1] == cc:\n",
    "        r = \"이겼습니다.\"\n",
    "        \n",
    "    else:\n",
    "        r = \"졌습니다.\"\n",
    "\n",
    "    print(f\"당신은 {player}를 냈고, 컴퓨터는 {cc}를 냈습니다. 당신이 {r}\")\n"
   ]
  },
  {
   "cell_type": "markdown",
   "id": "a767ec79",
   "metadata": {},
   "source": [
    "# 아이템 강화 시스템\n",
    " - 플레이어로부터 아이템의 강화 등급을 입력받습니다.(0~10)\n",
    " - 강화 성공률 0등급일때 70% 1등급일 때 65% ... 1등급이 올라갈수록 5%씩 하랍합니다.\n",
    " - 강화 실패 시 50% 확률로 아이템이 파괴됩니다.\n",
    " - 강화 성공 시 \"강화 성공\", 강화 실패시 \"강화 실패\", 아이템 파괴 시 \"아이템 파괴\"를 출력해주세요."
   ]
  },
  {
   "cell_type": "code",
   "execution_count": 185,
   "id": "59d1a91e",
   "metadata": {},
   "outputs": [
    {
     "name": "stdout",
     "output_type": "stream",
     "text": [
      "아이템의 등급을 입력해 주세요.0\n",
      "0.14995771209705788\n",
      "아이템 파괴\n",
      "0.7688312058638421 0.7\n"
     ]
    }
   ],
   "source": [
    "import random\n",
    "\n",
    "ori = int(input(\"아이템의 등급을 입력해 주세요.\"))\n",
    "\n",
    "if not 0 <= ori <= 10:\n",
    "    print(\"잘못된 등급이 입력되었습니다.\")\n",
    "\n",
    "else:\n",
    "    \n",
    "    ran = random.random()\n",
    "    pro = 0.7 - (0.05 * ori)\n",
    "    \n",
    "    if ran <= pro:\n",
    "        print(\"강화 성공\")\n",
    "    \n",
    "    else:\n",
    "        \n",
    "        ran1 = random.random()\n",
    "        \n",
    "        if ran1 > 0.5:\n",
    "            print(\"강화 실패\")\n",
    "        \n",
    "        else:\n",
    "            print(\"아이템 파괴\")\n",
    "            "
   ]
  },
  {
   "cell_type": "code",
   "execution_count": null,
   "id": "de74cc66",
   "metadata": {},
   "outputs": [],
   "source": []
  }
 ],
 "metadata": {
  "kernelspec": {
   "display_name": "Python 3.9.12 ('base')",
   "language": "python",
   "name": "python3"
  },
  "language_info": {
   "codemirror_mode": {
    "name": "ipython",
    "version": 3
   },
   "file_extension": ".py",
   "mimetype": "text/x-python",
   "name": "python",
   "nbconvert_exporter": "python",
   "pygments_lexer": "ipython3",
   "version": "3.9.12"
  },
  "vscode": {
   "interpreter": {
    "hash": "a077222d77dfe082b8f1dd562ad70e458ac2ab76993a0b248ab0476e32e9e8dd"
   }
  }
 },
 "nbformat": 4,
 "nbformat_minor": 5
}
