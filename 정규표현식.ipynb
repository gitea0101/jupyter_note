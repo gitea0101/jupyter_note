{
 "cells": [
  {
   "cell_type": "code",
   "execution_count": 8,
   "id": "a9230021",
   "metadata": {},
   "outputs": [],
   "source": [
    "import re\n",
    "# regular expression"
   ]
  },
  {
   "cell_type": "code",
   "execution_count": 9,
   "id": "e1af1fae",
   "metadata": {},
   "outputs": [
    {
     "data": {
      "text/plain": [
       "re.compile(r'배고파', re.UNICODE)"
      ]
     },
     "execution_count": 9,
     "metadata": {},
     "output_type": "execute_result"
    }
   ],
   "source": [
    "a = re.compile(\"배고파\")\n",
    "a"
   ]
  },
  {
   "cell_type": "code",
   "execution_count": 10,
   "id": "93c04eb8",
   "metadata": {},
   "outputs": [
    {
     "data": {
      "text/plain": [
       "<re.Match object; span=(0, 3), match='배고파'>"
      ]
     },
     "execution_count": 10,
     "metadata": {},
     "output_type": "execute_result"
    }
   ],
   "source": [
    "a.match(\"배고파\") # compile 된것이 있으면 출력"
   ]
  },
  {
   "cell_type": "code",
   "execution_count": 14,
   "id": "fdc3c7b0",
   "metadata": {},
   "outputs": [
    {
     "name": "stdout",
     "output_type": "stream",
     "text": [
      "<re.Match object; span=(0, 3), match='배고파'>\n",
      "<re.Match object; span=(0, 3), match='배아파'>\n"
     ]
    }
   ],
   "source": [
    "a = re.compile(\"배.파\") # . 모든 입력에 대응\n",
    "print(a.match(\"배고파\"))\n",
    "print(a.match(\"배아파\"))"
   ]
  },
  {
   "cell_type": "code",
   "execution_count": 16,
   "id": "55801cb8",
   "metadata": {},
   "outputs": [
    {
     "data": {
      "text/plain": [
       "['배고파', '배고파', '배고파']"
      ]
     },
     "execution_count": 16,
     "metadata": {},
     "output_type": "execute_result"
    }
   ],
   "source": [
    "a.findall(\"배고파서 아 배고파 배고파 노래를\") #compile 된것들을 모두 검색"
   ]
  },
  {
   "cell_type": "code",
   "execution_count": 17,
   "id": "8cfb7584",
   "metadata": {},
   "outputs": [
    {
     "data": {
      "text/plain": [
       "<re.Match object; span=(0, 3), match='배고파'>"
      ]
     },
     "execution_count": 17,
     "metadata": {},
     "output_type": "execute_result"
    }
   ],
   "source": [
    "a.search(\"배고파서 아 배고파 배고파 노래를\") # compile 맨앞 1개 위치도 출력"
   ]
  },
  {
   "cell_type": "markdown",
   "id": "9368a848",
   "metadata": {},
   "source": [
    "## 정규표현식 기본 문법 1\n",
    " 1. . : 모든것\n",
    " 2. \\* : 0번 이상 반복\n",
    " 3. \\+ : 1번 이상 반복\n",
    " 4. {m} : m번 반복\n",
    " 5. {m,n} : m번 이상, n번 이하 반복\n",
    " 6. ? : 있어도되고 없어도됨 (반복 되는건x)"
   ]
  },
  {
   "cell_type": "code",
   "execution_count": 21,
   "id": "7eae3304",
   "metadata": {},
   "outputs": [
    {
     "name": "stdout",
     "output_type": "stream",
     "text": [
      "<re.Match object; span=(0, 4), match='배가고파'>\n",
      "None\n"
     ]
    }
   ],
   "source": [
    "b = re.compile(\"배..파\")\n",
    "print(b.match(\"배가고파\"))\n",
    "print(b.match(\"배고파\"))"
   ]
  },
  {
   "cell_type": "code",
   "execution_count": 27,
   "id": "8655f7da",
   "metadata": {},
   "outputs": [
    {
     "name": "stdout",
     "output_type": "stream",
     "text": [
      "<re.Match object; span=(0, 2), match='배파'>\n",
      "<re.Match object; span=(0, 3), match='배고파'>\n",
      "<re.Match object; span=(0, 4), match='배고고파'>\n",
      "<re.Match object; span=(0, 5), match='배고고고파'>\n"
     ]
    }
   ],
   "source": [
    "b = re.compile(\"배고*파\")\n",
    "print(b.match(\"배파\"))\n",
    "print(b.match(\"배고파\"))\n",
    "print(b.match(\"배고고파\"))\n",
    "print(b.match(\"배고고고파\"))\n"
   ]
  },
  {
   "cell_type": "code",
   "execution_count": 28,
   "id": "7a9b3ce7",
   "metadata": {},
   "outputs": [
    {
     "name": "stdout",
     "output_type": "stream",
     "text": [
      "None\n",
      "<re.Match object; span=(0, 3), match='배고파'>\n",
      "<re.Match object; span=(0, 4), match='배고고파'>\n",
      "<re.Match object; span=(0, 5), match='배고고고파'>\n"
     ]
    }
   ],
   "source": [
    "b = re.compile(\"배고+파\")\n",
    "print(b.match(\"배파\"))\n",
    "print(b.match(\"배고파\"))\n",
    "print(b.match(\"배고고파\"))\n",
    "print(b.match(\"배고고고파\"))"
   ]
  },
  {
   "cell_type": "code",
   "execution_count": 29,
   "id": "217abe21",
   "metadata": {},
   "outputs": [
    {
     "name": "stdout",
     "output_type": "stream",
     "text": [
      "None\n",
      "None\n",
      "<re.Match object; span=(0, 4), match='배고고파'>\n",
      "None\n"
     ]
    }
   ],
   "source": [
    "b = re.compile(\"배고{2}파\")\n",
    "print(b.match(\"배파\"))\n",
    "print(b.match(\"배고파\"))\n",
    "print(b.match(\"배고고파\"))\n",
    "print(b.match(\"배고고고파\"))"
   ]
  },
  {
   "cell_type": "code",
   "execution_count": 30,
   "id": "263b23cf",
   "metadata": {},
   "outputs": [
    {
     "name": "stdout",
     "output_type": "stream",
     "text": [
      "None\n",
      "<re.Match object; span=(0, 3), match='배고파'>\n",
      "<re.Match object; span=(0, 4), match='배고고파'>\n",
      "None\n"
     ]
    }
   ],
   "source": [
    "b = re.compile(\"배고{1,2}파\")\n",
    "print(b.match(\"배파\"))\n",
    "print(b.match(\"배고파\"))\n",
    "print(b.match(\"배고고파\"))\n",
    "print(b.match(\"배고고고파\"))"
   ]
  },
  {
   "cell_type": "code",
   "execution_count": 31,
   "id": "383e79a1",
   "metadata": {},
   "outputs": [
    {
     "name": "stdout",
     "output_type": "stream",
     "text": [
      "<re.Match object; span=(0, 2), match='배파'>\n",
      "<re.Match object; span=(0, 3), match='배고파'>\n",
      "None\n",
      "None\n"
     ]
    }
   ],
   "source": [
    "b = re.compile(\"배고?파\")\n",
    "print(b.match(\"배파\"))\n",
    "print(b.match(\"배고파\"))\n",
    "print(b.match(\"배고고파\"))\n",
    "print(b.match(\"배고고고파\"))"
   ]
  },
  {
   "cell_type": "code",
   "execution_count": 36,
   "id": "e2eb8e12",
   "metadata": {},
   "outputs": [
    {
     "name": "stdout",
     "output_type": "stream",
     "text": [
      "<re.Match object; span=(0, 10), match='나는 밥을 먹었다.'>\n",
      "None\n"
     ]
    }
   ],
   "source": [
    "b = re.compile(\"나는 밥을 먹었다\\.\")\n",
    "print(b.match(\"나는 밥을 먹었다.\"))\n",
    "print(b.match(\"나는 밥을 먹었다ㅋ\"))"
   ]
  },
  {
   "cell_type": "markdown",
   "id": "db08bab0",
   "metadata": {},
   "source": [
    "## 괄호의 활용"
   ]
  },
  {
   "cell_type": "code",
   "execution_count": 39,
   "id": "beff2de2",
   "metadata": {},
   "outputs": [
    {
     "name": "stdout",
     "output_type": "stream",
     "text": [
      "None\n",
      "<re.Match object; span=(0, 3), match='배고파'>\n",
      "<re.Match object; span=(0, 5), match='배고파고파'>\n",
      "None\n"
     ]
    }
   ],
   "source": [
    "c = re.compile(\"배(고파)+\") # and\n",
    "print(c.match(\"배\"))\n",
    "print(c.match(\"배고파\"))\n",
    "print(c.match(\"배고파고파\"))\n",
    "print(c.match(\"배고고파\"))"
   ]
  },
  {
   "cell_type": "code",
   "execution_count": 48,
   "id": "56ecce4e",
   "metadata": {},
   "outputs": [
    {
     "name": "stdout",
     "output_type": "stream",
     "text": [
      "None\n",
      "<re.Match object; span=(0, 2), match='배고'>\n",
      "<re.Match object; span=(0, 2), match='배파'>\n",
      "<re.Match object; span=(0, 3), match='배고파'>\n"
     ]
    }
   ],
   "source": [
    "c = re.compile(\"배[고파]+\") # 고 or 파 한글자만 \n",
    "print(c.match(\"배\"))\n",
    "print(c.match(\"배고\"))\n",
    "print(c.match(\"배파\"))\n",
    "print(c.match(\"배고파\"))"
   ]
  },
  {
   "cell_type": "code",
   "execution_count": 50,
   "id": "b93a80a4",
   "metadata": {},
   "outputs": [
    {
     "name": "stdout",
     "output_type": "stream",
     "text": [
      "<re.Match object; span=(0, 2), match='여고'>\n",
      "<re.Match object; span=(0, 2), match='남고'>\n",
      "<re.Match object; span=(0, 2), match='공고'>\n",
      "<re.Match object; span=(0, 2), match='외고'>\n",
      "None\n"
     ]
    }
   ],
   "source": [
    "c=re.compile(\"[여남공외]고\")\n",
    "print(c.match(\"여고\"))\n",
    "print(c.match(\"남고\"))\n",
    "print(c.match(\"공고\"))\n",
    "print(c.match(\"외고\"))\n",
    "print(c.match(\"남공고\"))"
   ]
  },
  {
   "cell_type": "code",
   "execution_count": 56,
   "id": "27ccacf9",
   "metadata": {},
   "outputs": [
    {
     "name": "stdout",
     "output_type": "stream",
     "text": [
      "<re.Match object; span=(0, 6), match='여자고등학교'>\n",
      "<re.Match object; span=(0, 6), match='남자고등학교'>\n",
      "<re.Match object; span=(0, 6), match='공업고등학교'>\n",
      "<re.Match object; span=(0, 7), match='외국어고등학교'>\n",
      "<re.Match object; span=(0, 8), match='여자공업고등학교'>\n"
     ]
    }
   ],
   "source": [
    "c=re.compile(\"(여자|외국어|남자|공업)+고등학교\")\n",
    "print(c.match(\"여자고등학교\"))\n",
    "print(c.match(\"남자고등학교\"))\n",
    "print(c.match(\"공업고등학교\"))\n",
    "print(c.match(\"외국어고등학교\"))\n",
    "print(c.match(\"여자공업고등학교\"))"
   ]
  },
  {
   "cell_type": "code",
   "execution_count": 58,
   "id": "0b71f2d1",
   "metadata": {},
   "outputs": [
    {
     "name": "stdout",
     "output_type": "stream",
     "text": [
      "<re.Match object; span=(0, 1), match='1'>\n"
     ]
    }
   ],
   "source": [
    "c=re.compile(\"[0-9]\") # re.compile(\"[0123456789]\")\n",
    "print(c.match(\"10\"))"
   ]
  },
  {
   "cell_type": "code",
   "execution_count": 61,
   "id": "f1a2b4f8",
   "metadata": {},
   "outputs": [
    {
     "name": "stdout",
     "output_type": "stream",
     "text": [
      "<re.Match object; span=(0, 1), match='k'>\n"
     ]
    }
   ],
   "source": [
    "c=re.compile(\"[a-z]\")\n",
    "print(c.match(\"k\"))"
   ]
  },
  {
   "cell_type": "code",
   "execution_count": 64,
   "id": "49857240",
   "metadata": {},
   "outputs": [
    {
     "name": "stdout",
     "output_type": "stream",
     "text": [
      "<re.Match object; span=(0, 1), match='갉'>\n"
     ]
    }
   ],
   "source": [
    "c = re.compile(\"[가-힣]\")\n",
    "print(c.match(\"갉\"))"
   ]
  },
  {
   "cell_type": "code",
   "execution_count": 66,
   "id": "38b98fb1",
   "metadata": {},
   "outputs": [
    {
     "name": "stdout",
     "output_type": "stream",
     "text": [
      "<re.Match object; span=(0, 1), match='ㅋ'>\n"
     ]
    }
   ],
   "source": [
    "c = re.compile(\"[ㄱ-ㅎ]\")\n",
    "print(c.match(\"ㅋ\"))"
   ]
  },
  {
   "cell_type": "code",
   "execution_count": 68,
   "id": "3d58fe1f",
   "metadata": {},
   "outputs": [
    {
     "name": "stdout",
     "output_type": "stream",
     "text": [
      "<re.Match object; span=(0, 1), match='ㅔ'>\n"
     ]
    }
   ],
   "source": [
    "c = re.compile(\"[ㅏ-ㅣ]\")\n",
    "print(c.match(\"ㅔ\"))"
   ]
  },
  {
   "cell_type": "code",
   "execution_count": 73,
   "id": "7c093d68",
   "metadata": {},
   "outputs": [
    {
     "name": "stdout",
     "output_type": "stream",
     "text": [
      "<re.Match object; span=(0, 1), match='a'>\n",
      "<re.Match object; span=(0, 1), match='B'>\n",
      "<re.Match object; span=(0, 1), match='3'>\n"
     ]
    }
   ],
   "source": [
    "c = re.compile(\"[a-zA-Z0-9]\")\n",
    "print(c.match(\"a\"))\n",
    "print(c.match(\"B\"))\n",
    "print(c.match(\"3\"))"
   ]
  },
  {
   "cell_type": "code",
   "execution_count": 76,
   "id": "00292b57",
   "metadata": {},
   "outputs": [
    {
     "name": "stdout",
     "output_type": "stream",
     "text": [
      "<re.Match object; span=(0, 1), match='B'>\n",
      "None\n"
     ]
    }
   ],
   "source": [
    "c = re.compile(\"[^0-9]\") # ^ 여집합\n",
    "print(c.match(\"B\"))\n",
    "print(c.match(\"3\"))"
   ]
  },
  {
   "cell_type": "markdown",
   "id": "e733d7c2",
   "metadata": {},
   "source": [
    "## 정규표현식 특수문법"
   ]
  },
  {
   "cell_type": "code",
   "execution_count": 79,
   "id": "2f1ef4fc",
   "metadata": {},
   "outputs": [
    {
     "name": "stdout",
     "output_type": "stream",
     "text": [
      "<re.Match object; span=(0, 1), match='9'>\n"
     ]
    }
   ],
   "source": [
    "d = re.compile(\"\\d\") # 0~9 까지\n",
    "print(d.match(\"9\"))"
   ]
  },
  {
   "cell_type": "code",
   "execution_count": 83,
   "id": "9c8fb8dc",
   "metadata": {},
   "outputs": [
    {
     "name": "stdout",
     "output_type": "stream",
     "text": [
      "<re.Match object; span=(0, 1), match='가'>\n"
     ]
    }
   ],
   "source": [
    "d = re.compile(\"\\D\") # 대문자 -> 여집합\n",
    "print(d.match(\"가\"))"
   ]
  },
  {
   "cell_type": "code",
   "execution_count": 85,
   "id": "6eb11b61",
   "metadata": {},
   "outputs": [
    {
     "name": "stdout",
     "output_type": "stream",
     "text": [
      "<re.Match object; span=(0, 1), match=' '>\n"
     ]
    }
   ],
   "source": [
    "d = re.compile(\"\\s\") # 빈칸\n",
    "print(d.match(\" \"))"
   ]
  },
  {
   "cell_type": "code",
   "execution_count": 87,
   "id": "18c2f49f",
   "metadata": {},
   "outputs": [
    {
     "name": "stdout",
     "output_type": "stream",
     "text": [
      "<re.Match object; span=(0, 1), match='가'>\n"
     ]
    }
   ],
   "source": [
    "d = re.compile(\"\\S\")\n",
    "print(d.match(\"가\"))"
   ]
  },
  {
   "cell_type": "code",
   "execution_count": 98,
   "id": "3d659069",
   "metadata": {},
   "outputs": [
    {
     "name": "stdout",
     "output_type": "stream",
     "text": [
      "<re.Match object; span=(0, 1), match='가'>\n",
      "None\n",
      "<re.Match object; span=(0, 1), match='_'>\n"
     ]
    }
   ],
   "source": [
    "d = re.compile(\"\\w\") # 특수문자가 아닌것\n",
    "print(d.match(\"가\"))\n",
    "print(d.match(\" \"))\n",
    "print(d.match(\"_\")) #예외"
   ]
  },
  {
   "cell_type": "code",
   "execution_count": 100,
   "id": "d41d0a96",
   "metadata": {},
   "outputs": [
    {
     "name": "stdout",
     "output_type": "stream",
     "text": [
      "<re.Match object; span=(0, 1), match=' '>\n",
      "<re.Match object; span=(0, 1), match='$'>\n"
     ]
    }
   ],
   "source": [
    "d = re.compile(\"\\W\")\n",
    "print(d.match(\" \"))\n",
    "print(d.match(\"$\"))"
   ]
  },
  {
   "cell_type": "markdown",
   "id": "f9ac823b",
   "metadata": {},
   "source": [
    "## 이메일 지칭하기\n",
    " - abcdefg@gmail.com\n",
    " - abcdefg@daum.net\n",
    " - abcdefg@yahoo.co.kr"
   ]
  },
  {
   "cell_type": "code",
   "execution_count": 202,
   "id": "59604d21",
   "metadata": {},
   "outputs": [
    {
     "name": "stdout",
     "output_type": "stream",
     "text": [
      "<re.Match object; span=(0, 13), match='asd@gmail.com'>\n",
      "<re.Match object; span=(0, 12), match='asd@daum.net'>\n",
      "<re.Match object; span=(0, 15), match='asd@yahoo.co.kr'>\n"
     ]
    }
   ],
   "source": [
    "e= re.compile(\"\\S+@[a-zA-Z0-9]+\\.([a-zA-Z0-9]{3}|[a-zA-Z0-9]{2}\\.[a-zA-Z0-9]{2})\")\n",
    "\n",
    "print(e.match(\"asd@gmail.com\"))\n",
    "print(e.match(\"asd@daum.net\"))\n",
    "print(e.match(\"asd@yahoo.co.kr\"))"
   ]
  },
  {
   "cell_type": "markdown",
   "id": "0f696415",
   "metadata": {},
   "source": [
    "## 전화번호 지칭하기\n",
    " - 010-1234-5678\n",
    " - 02-123-4567\n",
    " - 031)123-456\n",
    " - 0321234567\n",
    " - 112\n",
    " - 1588-5588"
   ]
  },
  {
   "cell_type": "code",
   "execution_count": 307,
   "id": "1c4e9ac4",
   "metadata": {},
   "outputs": [
    {
     "name": "stdout",
     "output_type": "stream",
     "text": [
      "<re.Match object; span=(0, 13), match='010-1234-5678'>\n",
      "<re.Match object; span=(0, 11), match='02-123-5678'>\n",
      "<re.Match object; span=(0, 13), match='031)1234-5678'>\n",
      "<re.Match object; span=(0, 10), match='0321234567'>\n",
      "<re.Match object; span=(0, 3), match='112'>\n",
      "<re.Match object; span=(0, 9), match='1588-5588'>\n",
      "<re.Match object; span=(0, 4), match='1234'>\n"
     ]
    }
   ],
   "source": [
    "f= re.compile(\"(02|0(1-7)(0-5)(-\\d{2,4}-\\d{4}|-\\d{4}|[)]\\d{3,4}-\\d{4}|\\d{6}))|\\d{3}\")\n",
    "f=re.compile(\"[0-9]+\\W?[0-9]+-?[0-9]+\")\n",
    "\n",
    "print(f.match(\"010-1234-5678\"))\n",
    "print(f.match(\"02-123-5678\"))\n",
    "print(f.match(\"031)1234-5678\"))\n",
    "print(f.match(\"0321234567\"))\n",
    "print(f.match(\"112\"))\n",
    "print(f.match(\"1588-5588\"))\n",
    "print(f.match(\"1234\"))"
   ]
  },
  {
   "cell_type": "code",
   "execution_count": null,
   "id": "280d886d",
   "metadata": {},
   "outputs": [],
   "source": []
  }
 ],
 "metadata": {
  "kernelspec": {
   "display_name": "Python 3 (ipykernel)",
   "language": "python",
   "name": "python3"
  },
  "language_info": {
   "codemirror_mode": {
    "name": "ipython",
    "version": 3
   },
   "file_extension": ".py",
   "mimetype": "text/x-python",
   "name": "python",
   "nbconvert_exporter": "python",
   "pygments_lexer": "ipython3",
   "version": "3.9.12"
  }
 },
 "nbformat": 4,
 "nbformat_minor": 5
}
