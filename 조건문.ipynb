{
 "cells": [
  {
   "cell_type": "code",
   "execution_count": 17,
   "id": "c6f88bc9",
   "metadata": {},
   "outputs": [
    {
     "name": "stdout",
     "output_type": "stream",
     "text": [
      "내가 가진 돈: 2000\n",
      "버스를 타고 가자.\n",
      "우와 집이다!\n"
     ]
    }
   ],
   "source": [
    "money = int(input(\"내가 가진 돈: \"))\n",
    "\n",
    "if money >=4000 and money< 100000:\n",
    "    print(\"택시를 타고 가자.\")\n",
    "    \n",
    "elif money >= 1300 and money < 4000:\n",
    "    print(\"버스를 타고 가자.\")\n",
    "    \n",
    "elif money >= 100000:\n",
    "    print(\"리무진을 타고 가자.\")\n",
    "    \n",
    "else:\n",
    "    print(\"걸어가자.\")\n",
    "\n",
    "print(\"우와 집이다!\")\n",
    "\n",
    "if 1000>money>500:\n",
    "    print(\"ㅇㅅㅇ\")"
   ]
  },
  {
   "cell_type": "code",
   "execution_count": 8,
   "id": "a2192335",
   "metadata": {},
   "outputs": [
    {
     "data": {
      "text/plain": [
       "True"
      ]
     },
     "execution_count": 8,
     "metadata": {},
     "output_type": "execute_result"
    }
   ],
   "source": [
    "fruit = [\"mango\", \"grape\", \"apple\", \"banana\", \"melon\", \"watermelon\"]\n",
    "\n",
    "\"mango\" and \"grape\" in fruit"
   ]
  },
  {
   "cell_type": "code",
   "execution_count": 14,
   "id": "b3a2772e",
   "metadata": {},
   "outputs": [
    {
     "data": {
      "text/plain": [
       "True"
      ]
     },
     "execution_count": 14,
     "metadata": {},
     "output_type": "execute_result"
    }
   ],
   "source": [
    "(\"mango\" or \"a\") in fruit"
   ]
  },
  {
   "cell_type": "code",
   "execution_count": 13,
   "id": "0fa2ff12",
   "metadata": {},
   "outputs": [
    {
     "data": {
      "text/plain": [
       "True"
      ]
     },
     "execution_count": 13,
     "metadata": {},
     "output_type": "execute_result"
    }
   ],
   "source": [
    "(\"mango\" in fruit) and (\"grape\" in fruit)"
   ]
  },
  {
   "cell_type": "markdown",
   "id": "9037b2bf",
   "metadata": {},
   "source": [
    " - input 함수로 정수를 받습니다.\n",
    " - 만약 주어진 수가 3의 배수라면 \"3의 배수 입니다.\"를 출력합니다.\n",
    " - 만약 주어진 수가 3의 배수가 아니라면 \"3의 배수가 아닙니다.\"를 출력합니다."
   ]
  },
  {
   "cell_type": "code",
   "execution_count": 5,
   "id": "f664c681",
   "metadata": {},
   "outputs": [
    {
     "name": "stdout",
     "output_type": "stream",
     "text": [
      "정수: 10\n",
      "3의 배수가 아닙니다.\n"
     ]
    }
   ],
   "source": [
    "num = int(input(\"정수: \"))\n",
    "\n",
    "if num%3 == 0:\n",
    "    print(\"3의 배수입니다.\")\n",
    "else:\n",
    "    print(\"3의 배수가 아닙니다.\")"
   ]
  },
  {
   "cell_type": "markdown",
   "id": "fe2ca628",
   "metadata": {},
   "source": [
    "# 추석 선물 세트 구매\n",
    " - 추석 선물 세트는 1개에 1만원입니다.\n",
    " - 추석 선물 세트를 11개 이상 사면, 11개째부터 10% 할인됩니다.\n",
    " - 추석 선물 세트를 몇개 샀는지 input 함수로 받아, 총 얼마인지를 출력해주세요."
   ]
  },
  {
   "cell_type": "code",
   "execution_count": 31,
   "id": "1da7999d",
   "metadata": {},
   "outputs": [
    {
     "name": "stdout",
     "output_type": "stream",
     "text": [
      "추석선물 세트를 몇개 구매 합니까? :20\n",
      "190000원 입니다.\n"
     ]
    }
   ],
   "source": [
    "num = int(input(\"추석선물 세트를 몇개 구매 합니까? :\"))\n",
    "\n",
    "if num <= 10:\n",
    "    num3 = num * 10000\n",
    "    print(f\"{num3}원 입니다.\")\n",
    "\n",
    "    \n",
    "elif num >= 11:\n",
    "    num1= num - 10\n",
    "    \n",
    "    num2 = num1 * 9000 + 100000\n",
    "    \n",
    "    print(f\"{num2}원 입니다.\")\n"
   ]
  },
  {
   "cell_type": "code",
   "execution_count": 34,
   "id": "114cf9ea",
   "metadata": {},
   "outputs": [
    {
     "name": "stdout",
     "output_type": "stream",
     "text": [
      "20\n",
      "190000\n"
     ]
    }
   ],
   "source": [
    "num = int(input())\n",
    "gp = 10000\n",
    "\n",
    "if num<=10:\n",
    "    p= num * gp\n",
    "else:\n",
    "    p=num * gp - ((num-10)*gp*0.1)\n",
    "\n",
    "print(int(p))"
   ]
  },
  {
   "cell_type": "code",
   "execution_count": 23,
   "id": "9e556583",
   "metadata": {},
   "outputs": [
    {
     "name": "stdout",
     "output_type": "stream",
     "text": [
      "제목이 가사에 포함 됩니다.\n"
     ]
    }
   ],
   "source": [
    "lyrics = '\\n너도 날 좋아할 줄은 몰랐어\\n어쩌면 좋아 너무나 좋아\\n꿈만 같아서 나 내 자신을 자꾸 꼬집어봐\\n너무나 좋아 니가 날 혹시 안 좋아할까 봐\\n혼자 얼마나 애태운 지 몰라\\n그런데 너도 날 사랑한다니\\n어머나 다시 한 번 말해봐\\n\\nTell me, tell me, tell tell tell tell tell tell me\\n나를 사랑한다고 날 기다려왔다고\\nTell me, tell me, tell tell tell tell tell tell me\\n내가 필요하다 말해 말해줘요\\nTell me tell me, tell tell tell tell tell tell me\\n자꾸만 듣고 싶어 계속 내게 말해줘\\nTell me, tell me, tell tell tell tell tell tell me\\n꿈이 아니라고 말해 말해줘요\\n\\n어쩜 내 가슴이 이렇게 뛰니\\n가슴이 정말 터질 것 같아 니가 날 볼 때면\\n전기에 감전된 사람처럼 전기가 올라\\n\\n얼마나 오래 기다린 지 몰라\\n얼마나 오래 꿈 꿨는지 몰라\\n그런데 너도 날 사랑한다니\\n어머나 다시 한 번 말해봐\\n\\nTell me, tell me, tell tell tell tell tell tell me\\n나를 사랑한다고 날 기다려왔다고\\nTell me, tell me, tell tell tell tell tell tell me\\n내가 필요하다 말해 말해줘요\\nTell me tell me, tell tell tell tell tell tell me\\n자꾸만 듣고 싶어 계속 내게 말해줘\\nTell me, tell me, tell tell tell tell tell tell me\\n꿈이 아니라고 말해 말해줘요\\n\\n♬\\n\\nTell me, tell me, tell me you want me\\nwant me, want me too. Tell me, tell me\\ntell me you love me too, love me too.\\n\\nHit me one time baby 다시 한번\\nOkay 방금한 건 알지만 또 한번\\n예 계속 말해줘 들어도 들어도 듣고 싶어\\n어쩜 이런 일이 꿈인가 싶어\\n어머나 좋아서 어쩌나 Baby baby\\n\\nTell me, tell me, tell tell tell tell tell tell me\\n나를 사랑한다고 날 기다려왔다고\\nTell me, tell me, tell tell tell tell tell tell me\\n내가 필요하다 말해 말해줘요\\nTell me tell me, tell tell tell tell tell tell me\\n자꾸만 듣고 싶어 계속 내게 말해줘\\nTell me, tell me, tell tell tell tell tell tell me\\n꿈이 아니라고 말해 말해줘요\\nTell me, tell me, tell tell tell tell tell tell me\\n'\n",
    "\n",
    "\n",
    "if \"tell me\" in lyrics:\n",
    "    print(\"제목이 가사에 포함 됩니다.\")\n",
    "    \n",
    "else:\n",
    "    print(\"제목이 가사에 포함 되지 않습니다.\")"
   ]
  },
  {
   "cell_type": "code",
   "execution_count": 26,
   "id": "eda6ce6b",
   "metadata": {},
   "outputs": [
    {
     "data": {
      "text/plain": [
       "' 너도 날 좋아할 줄은 몰랐어 어쩌면 좋아 너무나 좋아 꿈만 같아서 나 내 자신을 자꾸 꼬집어봐 너무나 좋아 니가 날 혹시 안 좋아할까 봐 혼자 얼마나 애태운 지 몰라 그런데 너도 날 사랑한다니 어머나 다시 한 번 말해봐  Tell me, tell me, tell tell tell tell tell tell me 나를 사랑한다고 날 기다려왔다고 Tell me, tell me, tell tell tell tell tell tell me 내가 필요하다 말해 말해줘요 Tell me tell me, tell tell tell tell tell tell me 자꾸만 듣고 싶어 계속 내게 말해줘 Tell me, tell me, tell tell tell tell tell tell me 꿈이 아니라고 말해 말해줘요  어쩜 내 가슴이 이렇게 뛰니 가슴이 정말 터질 것 같아 니가 날 볼 때면 전기에 감전된 사람처럼 전기가 올라  얼마나 오래 기다린 지 몰라 얼마나 오래 꿈 꿨는지 몰라 그런데 너도 날 사랑한다니 어머나 다시 한 번 말해봐  Tell me, tell me, tell tell tell tell tell tell me 나를 사랑한다고 날 기다려왔다고 Tell me, tell me, tell tell tell tell tell tell me 내가 필요하다 말해 말해줘요 Tell me tell me, tell tell tell tell tell tell me 자꾸만 듣고 싶어 계속 내게 말해줘 Tell me, tell me, tell tell tell tell tell tell me 꿈이 아니라고 말해 말해줘요  ♬  Tell me, tell me, tell me you want me want me, want me too. Tell me, tell me tell me you love me too, love me too.  Hit me one time baby 다시 한번 Okay 방금한 건 알지만 또 한번 예 계속 말해줘 들어도 들어도 듣고 싶어 어쩜 이런 일이 꿈인가 싶어 어머나 좋아서 어쩌나 Baby baby  Tell me, tell me, tell tell tell tell tell tell me 나를 사랑한다고 날 기다려왔다고 Tell me, tell me, tell tell tell tell tell tell me 내가 필요하다 말해 말해줘요 Tell me tell me, tell tell tell tell tell tell me 자꾸만 듣고 싶어 계속 내게 말해줘 Tell me, tell me, tell tell tell tell tell tell me 꿈이 아니라고 말해 말해줘요 Tell me, tell me, tell tell tell tell tell tell me '"
      ]
     },
     "execution_count": 26,
     "metadata": {},
     "output_type": "execute_result"
    }
   ],
   "source": [
    "lyrics = lyrics.replace(\"\\n\",\" \")\n",
    "lyrics"
   ]
  },
  {
   "cell_type": "code",
   "execution_count": 27,
   "id": "fe522cc6",
   "metadata": {},
   "outputs": [
    {
     "data": {
      "text/plain": [
       "' 너도 날 좋아할 줄은 몰랐어 어쩌면 좋아 너무나 좋아 꿈만 같아서 나 내 자신을 자꾸 꼬집어봐 너무나 좋아 니가 날 혹시 안 좋아할까 봐 혼자 얼마나 애태운 지 몰라 그런데 너도 날 사랑한다니 어머나 다시 한 번 말해봐  , , tell tell tell tell tell  나를 사랑한다고 날 기다려왔다고 , , tell tell tell tell tell  내가 필요하다 말해 말해줘요  , tell tell tell tell tell  자꾸만 듣고 싶어 계속 내게 말해줘 , , tell tell tell tell tell  꿈이 아니라고 말해 말해줘요  어쩜 내 가슴이 이렇게 뛰니 가슴이 정말 터질 것 같아 니가 날 볼 때면 전기에 감전된 사람처럼 전기가 올라  얼마나 오래 기다린 지 몰라 얼마나 오래 꿈 꿨는지 몰라 그런데 너도 날 사랑한다니 어머나 다시 한 번 말해봐  , , tell tell tell tell tell  나를 사랑한다고 날 기다려왔다고 , , tell tell tell tell tell  내가 필요하다 말해 말해줘요  , tell tell tell tell tell  자꾸만 듣고 싶어 계속 내게 말해줘 , , tell tell tell tell tell  꿈이 아니라고 말해 말해줘요  ♬  , ,  you want me want me, want me too. ,   you love me too, love me too.  hit me one time baby 다시 한번 okay 방금한 건 알지만 또 한번 예 계속 말해줘 들어도 들어도 듣고 싶어 어쩜 이런 일이 꿈인가 싶어 어머나 좋아서 어쩌나 baby baby  , , tell tell tell tell tell  나를 사랑한다고 날 기다려왔다고 , , tell tell tell tell tell  내가 필요하다 말해 말해줘요  , tell tell tell tell tell  자꾸만 듣고 싶어 계속 내게 말해줘 , , tell tell tell tell tell  꿈이 아니라고 말해 말해줘요 , , tell tell tell tell tell  '"
      ]
     },
     "execution_count": 27,
     "metadata": {},
     "output_type": "execute_result"
    }
   ],
   "source": [
    "lyrics = lyrics.lower()\n",
    "\n",
    "lyrics = lyrics.replace(\"tell me\", \"\")\n",
    "\n",
    "lyrics"
   ]
  },
  {
   "cell_type": "code",
   "execution_count": 33,
   "id": "c3e077f9",
   "metadata": {},
   "outputs": [
    {
     "data": {
      "text/plain": [
       "'너도 날 좋아할 줄은 몰랐어 어쩌면 좋아 너무나 좋아 꿈만 같아서 나 내 자신을 자꾸 꼬집어봐 너무나 좋아 니가 날 혹시 안 좋아할까 봐 혼자 얼마나 애태운 지 몰라 그런데 너도 날 사랑한다니 어머나 다시 한 번 말해봐 @@@@@@@, @@@@@@@, tell tell tell tell tell @@@@@@@ 나를 사랑한다고 날 기다려왔다고 @@@@@@@, @@@@@@@, tell tell tell tell tell @@@@@@@ 내가 필요하다 말해 말해줘요 @@@@@@@ @@@@@@@, tell tell tell tell tell @@@@@@@ 자꾸만 듣고 싶어 계속 내게 말해줘 @@@@@@@, @@@@@@@, tell tell tell tell tell @@@@@@@ 꿈이 아니라고 말해 말해줘요 어쩜 내 가슴이 이렇게 뛰니 가슴이 정말 터질 것 같아 니가 날 볼 때면 전기에 감전된 사람처럼 전기가 올라 얼마나 오래 기다린 지 몰라 얼마나 오래 꿈 꿨는지 몰라 그런데 너도 날 사랑한다니 어머나 다시 한 번 말해봐 @@@@@@@, @@@@@@@, tell tell tell tell tell @@@@@@@ 나를 사랑한다고 날 기다려왔다고 @@@@@@@, @@@@@@@, tell tell tell tell tell @@@@@@@ 내가 필요하다 말해 말해줘요 @@@@@@@ @@@@@@@, tell tell tell tell tell @@@@@@@ 자꾸만 듣고 싶어 계속 내게 말해줘 @@@@@@@, @@@@@@@, tell tell tell tell tell @@@@@@@ 꿈이 아니라고 말해 말해줘요 ♬ @@@@@@@, @@@@@@@, @@@@@@@ you want me want me, want me too. @@@@@@@, @@@@@@@ @@@@@@@ you love me too, love me too. hit me one time baby 다시 한번 okay 방금한 건 알지만 또 한번 예 계속 말해줘 들어도 들어도 듣고 싶어 어쩜 이런 일이 꿈인가 싶어 어머나 좋아서 어쩌나 baby baby @@@@@@@, @@@@@@@, tell tell tell tell tell @@@@@@@ 나를 사랑한다고 날 기다려왔다고 @@@@@@@, @@@@@@@, tell tell tell tell tell @@@@@@@ 내가 필요하다 말해 말해줘요 @@@@@@@ @@@@@@@, tell tell tell tell tell @@@@@@@ 자꾸만 듣고 싶어 계속 내게 말해줘 @@@@@@@, @@@@@@@, tell tell tell tell tell @@@@@@@ 꿈이 아니라고 말해 말해줘요 @@@@@@@, @@@@@@@, tell tell tell tell tell @@@@@@@'"
      ]
     },
     "execution_count": 33,
     "metadata": {},
     "output_type": "execute_result"
    }
   ],
   "source": [
    "lyrics = '\\n너도 날 좋아할 줄은 몰랐어\\n어쩌면 좋아 너무나 좋아\\n꿈만 같아서 나 내 자신을 자꾸 꼬집어봐\\n너무나 좋아 니가 날 혹시 안 좋아할까 봐\\n혼자 얼마나 애태운 지 몰라\\n그런데 너도 날 사랑한다니\\n어머나 다시 한 번 말해봐\\n\\nTell me, tell me, tell tell tell tell tell tell me\\n나를 사랑한다고 날 기다려왔다고\\nTell me, tell me, tell tell tell tell tell tell me\\n내가 필요하다 말해 말해줘요\\nTell me tell me, tell tell tell tell tell tell me\\n자꾸만 듣고 싶어 계속 내게 말해줘\\nTell me, tell me, tell tell tell tell tell tell me\\n꿈이 아니라고 말해 말해줘요\\n\\n어쩜 내 가슴이 이렇게 뛰니\\n가슴이 정말 터질 것 같아 니가 날 볼 때면\\n전기에 감전된 사람처럼 전기가 올라\\n\\n얼마나 오래 기다린 지 몰라\\n얼마나 오래 꿈 꿨는지 몰라\\n그런데 너도 날 사랑한다니\\n어머나 다시 한 번 말해봐\\n\\nTell me, tell me, tell tell tell tell tell tell me\\n나를 사랑한다고 날 기다려왔다고\\nTell me, tell me, tell tell tell tell tell tell me\\n내가 필요하다 말해 말해줘요\\nTell me tell me, tell tell tell tell tell tell me\\n자꾸만 듣고 싶어 계속 내게 말해줘\\nTell me, tell me, tell tell tell tell tell tell me\\n꿈이 아니라고 말해 말해줘요\\n\\n♬\\n\\nTell me, tell me, tell me you want me\\nwant me, want me too. Tell me, tell me\\ntell me you love me too, love me too.\\n\\nHit me one time baby 다시 한번\\nOkay 방금한 건 알지만 또 한번\\n예 계속 말해줘 들어도 들어도 듣고 싶어\\n어쩜 이런 일이 꿈인가 싶어\\n어머나 좋아서 어쩌나 Baby baby\\n\\nTell me, tell me, tell tell tell tell tell tell me\\n나를 사랑한다고 날 기다려왔다고\\nTell me, tell me, tell tell tell tell tell tell me\\n내가 필요하다 말해 말해줘요\\nTell me tell me, tell tell tell tell tell tell me\\n자꾸만 듣고 싶어 계속 내게 말해줘\\nTell me, tell me, tell tell tell tell tell tell me\\n꿈이 아니라고 말해 말해줘요\\nTell me, tell me, tell tell tell tell tell tell me\\n'\n",
    "\n",
    "lyrics = lyrics.replace(\"\\n\",\" \")\n",
    "\n",
    "lyrics = lyrics.lower()\n",
    "\n",
    "lyrics = lyrics.replace(\"tell me\", \"@@@@@@@\")\n",
    "\n",
    "lyrics = lyrics.replace(\"  \", \" \")\n",
    "\n",
    "# lyrics = lyrics.strip()\n",
    "\n",
    "lyrics = lyrics[1:-1]\n",
    "\n",
    "lyrics\n"
   ]
  },
  {
   "cell_type": "code",
   "execution_count": null,
   "id": "8b1a2aee",
   "metadata": {},
   "outputs": [],
   "source": []
  }
 ],
 "metadata": {
  "kernelspec": {
   "display_name": "Python 3 (ipykernel)",
   "language": "python",
   "name": "python3"
  },
  "language_info": {
   "codemirror_mode": {
    "name": "ipython",
    "version": 3
   },
   "file_extension": ".py",
   "mimetype": "text/x-python",
   "name": "python",
   "nbconvert_exporter": "python",
   "pygments_lexer": "ipython3",
   "version": "3.9.12"
  }
 },
 "nbformat": 4,
 "nbformat_minor": 5
}
