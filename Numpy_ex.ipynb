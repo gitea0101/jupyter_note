{
 "cells": [
  {
   "cell_type": "code",
   "execution_count": 1,
   "metadata": {},
   "outputs": [],
   "source": [
    "import numpy as np"
   ]
  },
  {
   "cell_type": "code",
   "execution_count": 2,
   "metadata": {},
   "outputs": [],
   "source": [
    "a = np.full(10,0.)\n",
    "a[4] = 1"
   ]
  },
  {
   "cell_type": "code",
   "execution_count": 3,
   "metadata": {},
   "outputs": [
    {
     "data": {
      "text/plain": [
       "array([10, 11, 12, 13, 14, 15, 16, 17, 18, 19, 20, 21, 22, 23, 24, 25, 26,\n",
       "       27, 28, 29, 30, 31, 32, 33, 34, 35, 36, 37, 38, 39, 40, 41, 42, 43,\n",
       "       44, 45, 46, 47, 48, 49])"
      ]
     },
     "execution_count": 3,
     "metadata": {},
     "output_type": "execute_result"
    }
   ],
   "source": [
    "b = np.arange(10,50)\n",
    "b"
   ]
  },
  {
   "cell_type": "code",
   "execution_count": 4,
   "metadata": {},
   "outputs": [
    {
     "data": {
      "text/plain": [
       "array([[0, 1, 2],\n",
       "       [3, 4, 5],\n",
       "       [6, 7, 8]])"
      ]
     },
     "execution_count": 4,
     "metadata": {},
     "output_type": "execute_result"
    }
   ],
   "source": [
    "c = np.arange(9).reshape(3,3)\n",
    "c"
   ]
  },
  {
   "cell_type": "code",
   "execution_count": 5,
   "metadata": {},
   "outputs": [
    {
     "data": {
      "text/plain": [
       "array([[[0.41875435, 0.1467061 , 0.32677995],\n",
       "        [0.77461296, 0.31744298, 0.33156326],\n",
       "        [0.2660874 , 0.68880167, 0.8225672 ]],\n",
       "\n",
       "       [[0.45554914, 0.85429323, 0.89902107],\n",
       "        [0.83041714, 0.36008937, 0.51475841],\n",
       "        [0.04793546, 0.97995595, 0.682712  ]],\n",
       "\n",
       "       [[0.56501393, 0.52336807, 0.45968066],\n",
       "        [0.73863866, 0.15364385, 0.06493311],\n",
       "        [0.93877482, 0.77604786, 0.72933625]]])"
      ]
     },
     "execution_count": 5,
     "metadata": {},
     "output_type": "execute_result"
    }
   ],
   "source": [
    "d = np.random.random(size=(3,3,3))\n",
    "d"
   ]
  },
  {
   "cell_type": "code",
   "execution_count": 6,
   "metadata": {},
   "outputs": [
    {
     "data": {
      "text/plain": [
       "0.4597530945152347"
      ]
     },
     "execution_count": 6,
     "metadata": {},
     "output_type": "execute_result"
    }
   ],
   "source": [
    "e = np.random.random(size=30)\n",
    "e.mean()"
   ]
  },
  {
   "cell_type": "code",
   "execution_count": 7,
   "metadata": {},
   "outputs": [
    {
     "data": {
      "text/plain": [
       "array([ 80, 100, 120])"
      ]
     },
     "execution_count": 7,
     "metadata": {},
     "output_type": "execute_result"
    }
   ],
   "source": [
    "mid_score = [10,20,30]\n",
    "final_score = [70,80,90]\n",
    "\n",
    "mid_score = np.array(mid_score)\n",
    "final_score = np.array(final_score)\n",
    "\n",
    "total_score = mid_score + final_score\n",
    "total_score"
   ]
  },
  {
   "cell_type": "code",
   "execution_count": 8,
   "metadata": {},
   "outputs": [
    {
     "name": "stdout",
     "output_type": "stream",
     "text": [
      "[0 1 2 3 4 5 6 7 8 9]\n",
      "[0 1 2 3 4 5 6 7 8 9]\n",
      "[0 2 4 6 8]\n",
      "(5,) 1 int32 5 4\n"
     ]
    }
   ],
   "source": [
    "array_a = np.arange(10)\n",
    "array_b = np.array(range(10))\n",
    "array_c = np.arange(0,10,2)\n",
    "print(array_a)\n",
    "print(array_b)\n",
    "print(array_c)\n",
    "print(array_c.shape, array_c.ndim, array_c.dtype, array_c.size, array_c.itemsize) # 원소의 데이터 크기 (Byte)"
   ]
  },
  {
   "cell_type": "code",
   "execution_count": 9,
   "metadata": {},
   "outputs": [
    {
     "data": {
      "text/plain": [
       "array([320, 350, 330])"
      ]
     },
     "execution_count": 9,
     "metadata": {},
     "output_type": "execute_result"
    }
   ],
   "source": [
    "salary = np.array([220, 250, 230])\n",
    "salary = salary + 100\n",
    "salary"
   ]
  },
  {
   "cell_type": "code",
   "execution_count": 10,
   "metadata": {},
   "outputs": [
    {
     "data": {
      "text/plain": [
       "array([640, 700, 660])"
      ]
     },
     "execution_count": 10,
     "metadata": {},
     "output_type": "execute_result"
    }
   ],
   "source": [
    "salary = salary * 2\n",
    "salary"
   ]
  },
  {
   "cell_type": "code",
   "execution_count": 11,
   "metadata": {},
   "outputs": [
    {
     "name": "stdout",
     "output_type": "stream",
     "text": [
      "[[183.   86.2]\n",
      " [176.   80.1]]\n",
      "[[183.   86.2]]\n"
     ]
    }
   ],
   "source": [
    "players=[[170,76.4],[183,86.2],[171,73.5],[176,80.1]]\n",
    "np_players = np.array(players)\n",
    "print(np_players[np_players[:,1] >= 80])\n",
    "print(np_players[np_players[:,0] >= 180])"
   ]
  },
  {
   "cell_type": "code",
   "execution_count": 12,
   "metadata": {},
   "outputs": [
    {
     "data": {
      "text/plain": [
       "array([175, 175, 267, 288, 198, 297, 128, 167, 123, 185, 231, 110, 201,\n",
       "       162, 117, 190, 168, 212, 145, 207, 184, 252, 263, 177, 277, 231,\n",
       "       133, 227, 123, 221])"
      ]
     },
     "execution_count": 12,
     "metadata": {},
     "output_type": "execute_result"
    }
   ],
   "source": [
    "revenue_in_yen = np.random.randint(100,300,30)\n",
    "revenue_in_yen"
   ]
  },
  {
   "cell_type": "code",
   "execution_count": 13,
   "metadata": {},
   "outputs": [
    {
     "data": {
      "text/plain": [
       "array([1697.5, 1697.5, 2589.9, 2793.6, 1920.6, 2880.9, 1241.6, 1619.9,\n",
       "       1193.1, 1794.5, 2240.7, 1067. , 1949.7, 1571.4, 1134.9, 1843. ,\n",
       "       1629.6, 2056.4, 1406.5, 2007.9, 1784.8, 2444.4, 2551.1, 1716.9,\n",
       "       2686.9, 2240.7, 1290.1, 2201.9, 1193.1, 2143.7])"
      ]
     },
     "execution_count": 13,
     "metadata": {},
     "output_type": "execute_result"
    }
   ],
   "source": [
    "won_array = revenue_in_yen * 9.70\n",
    "won_array"
   ]
  },
  {
   "cell_type": "code",
   "execution_count": 14,
   "metadata": {},
   "outputs": [
    {
     "data": {
      "text/plain": [
       "array([26429, 22256, 19474, 22256, 19474, 23647, 26429, 23647, 25038,\n",
       "       18083, 19474, 22256, 18083, 25038, 20865, 25038, 18083, 15301,\n",
       "       15301, 26429, 23647, 25038, 15301, 18083, 16692, 23647, 25038,\n",
       "       25038, 16692, 23647])"
      ]
     },
     "execution_count": 14,
     "metadata": {},
     "output_type": "execute_result"
    }
   ],
   "source": [
    "revenue_in_doller = np.random.randint(10,20,30)\n",
    "won_array2 = revenue_in_doller * 1391\n",
    "won_array2"
   ]
  },
  {
   "cell_type": "code",
   "execution_count": 15,
   "metadata": {},
   "outputs": [
    {
     "data": {
      "text/plain": [
       "array([19877, 19712, 17357, 16707, 17852, 19799, 19378, 17885],\n",
       "      dtype=int64)"
      ]
     },
     "execution_count": 15,
     "metadata": {},
     "output_type": "execute_result"
    }
   ],
   "source": [
    "ta = won_array+won_array2\n",
    "ta = ta.astype(\"int64\")\n",
    "ta[ta < 20000]"
   ]
  },
  {
   "cell_type": "code",
   "execution_count": 16,
   "metadata": {},
   "outputs": [
    {
     "data": {
      "text/plain": [
       "array([ 2,  4,  6,  8, 10, 12, 14, 16, 18, 20, 22, 24, 26, 28, 30, 32, 34,\n",
       "       36, 38, 40, 42, 44, 46, 48, 50])"
      ]
     },
     "execution_count": 16,
     "metadata": {},
     "output_type": "execute_result"
    }
   ],
   "source": [
    "arr = np.arange(2,51,2)\n",
    "arr"
   ]
  },
  {
   "cell_type": "code",
   "execution_count": 17,
   "metadata": {},
   "outputs": [
    {
     "name": "stdout",
     "output_type": "stream",
     "text": [
      "[[0. 0. 0. 0.]\n",
      " [0. 0. 0. 0.]\n",
      " [0. 0. 0. 0.]\n",
      " [0. 0. 0. 0.]]\n",
      "[[1 1 1 1 1 1 1 1 1 1]\n",
      " [1 1 1 1 1 1 1 1 1 1]\n",
      " [1 1 1 1 1 1 1 1 1 1]\n",
      " [1 1 1 1 1 1 1 1 1 1]\n",
      " [1 1 1 1 1 1 1 1 1 1]\n",
      " [1 1 1 1 1 1 1 1 1 1]\n",
      " [1 1 1 1 1 1 1 1 1 1]\n",
      " [1 1 1 1 1 1 1 1 1 1]\n",
      " [1 1 1 1 1 1 1 1 1 1]\n",
      " [1 1 1 1 1 1 1 1 1 1]]\n",
      "[[ 0  1  2  3]\n",
      " [ 4  5  6  7]\n",
      " [ 8  9 10 11]\n",
      " [12 13 14 15]\n",
      " [16 17 18 19]\n",
      " [20 21 22 23]\n",
      " [24 25 26 27]]\n"
     ]
    }
   ],
   "source": [
    "arr = np.zeros((4,4))\n",
    "print(arr)\n",
    "arr = np.full((10,10),1)\n",
    "print(arr)\n",
    "arr = np.arange(0,28).reshape(7,4)\n",
    "print(arr)"
   ]
  },
  {
   "cell_type": "code",
   "execution_count": 18,
   "metadata": {},
   "outputs": [
    {
     "data": {
      "text/plain": [
       "array([ 3,  6,  9, 12, 15, 18, 21, 24, 27, 30, 33, 36, 39, 42, 45, 48, 51,\n",
       "       54, 57, 60, 63, 66, 69, 72, 75, 78, 81, 84, 87, 90, 93, 96, 99])"
      ]
     },
     "execution_count": 18,
     "metadata": {},
     "output_type": "execute_result"
    }
   ],
   "source": [
    "arr = np.arange(3,101,3)\n",
    "arr"
   ]
  },
  {
   "cell_type": "code",
   "execution_count": 19,
   "metadata": {},
   "outputs": [
    {
     "name": "stdout",
     "output_type": "stream",
     "text": [
      "33\n",
      "[[ 3  6  9 12 15 18 21 24 27 30 33]\n",
      " [36 39 42 45 48 51 54 57 60 63 66]\n",
      " [69 72 75 78 81 84 87 90 93 96 99]]\n",
      "33\n"
     ]
    }
   ],
   "source": [
    "print(arr.size)\n",
    "print(arr.reshape(3,11))\n",
    "print(arr.reshape(3,11).size)"
   ]
  },
  {
   "cell_type": "code",
   "execution_count": 20,
   "metadata": {},
   "outputs": [],
   "source": [
    "import random"
   ]
  },
  {
   "cell_type": "code",
   "execution_count": 52,
   "metadata": {},
   "outputs": [
    {
     "name": "stdout",
     "output_type": "stream",
     "text": [
      "[[0.31079165 0.0092977  0.63500308 0.81859506]\n",
      " [0.76100516 0.57741685 0.78871584 0.46973598]\n",
      " [0.24967044 0.63835685 0.13336453 0.8338536 ]\n",
      " [0.88315608 0.73208774 0.72728076 0.85930775]\n",
      " [0.02494525 0.99511112 0.2932743  0.46823928]\n",
      " [0.23146832 0.17939022 0.9198914  0.15625378]]\n",
      "[[50 70 27 49 28]\n",
      " [90 96 68 96  2]\n",
      " [37 84 87 63 76]\n",
      " [30  6 50 28 14]\n",
      " [70 69  4 61  7]]\n",
      "[[50. 70. 27. 49. 28.]\n",
      " [90. 96. 68. 96.  2.]\n",
      " [37. 84. 87. 63. 76.]\n",
      " [30.  6. 50. 28. 14.]\n",
      " [70. 69.  4. 61.  7.]]\n"
     ]
    }
   ],
   "source": [
    "print(np.random.rand(6,4))\n",
    "arr = np.random.randint(1,100,size=(5,5))\n",
    "print(arr)\n",
    "print(arr.astype(\"float64\"))"
   ]
  },
  {
   "cell_type": "code",
   "execution_count": 27,
   "metadata": {},
   "outputs": [
    {
     "name": "stdout",
     "output_type": "stream",
     "text": [
      "[[3 4]\n",
      " [8 9]]\n",
      "[6 7 8]\n"
     ]
    }
   ],
   "source": [
    "x = np.arange(10).reshape(2,5)\n",
    "print(x[:,3:])\n",
    "print(x[1,1:4])"
   ]
  },
  {
   "cell_type": "code",
   "execution_count": 45,
   "metadata": {},
   "outputs": [
    {
     "name": "stdout",
     "output_type": "stream",
     "text": [
      "[[ 3]\n",
      " [ 8]\n",
      " [13]]\n",
      "[5 6 7 8 9]\n",
      "[[1 2 3]\n",
      " [6 7 8]]\n"
     ]
    }
   ],
   "source": [
    "y=np.arange(15).reshape(3,5)\n",
    "print(y[:,3:4])\n",
    "print(y[1,:])\n",
    "print(y[:2,1:4])"
   ]
  },
  {
   "cell_type": "code",
   "execution_count": 50,
   "metadata": {},
   "outputs": [
    {
     "name": "stdout",
     "output_type": "stream",
     "text": [
      "[1 2 3 4 5]\n"
     ]
    },
    {
     "data": {
      "text/plain": [
       "array([ 3,  6,  9, 12])"
      ]
     },
     "execution_count": 50,
     "metadata": {},
     "output_type": "execute_result"
    }
   ],
   "source": [
    "y = np.arange(1,13).reshape(3,4)\n",
    "print(y[y<=5])\n",
    "y[y % 3 == 0]"
   ]
  },
  {
   "cell_type": "code",
   "execution_count": 60,
   "metadata": {},
   "outputs": [
    {
     "name": "stdout",
     "output_type": "stream",
     "text": [
      "[66 40 76 12 52 14]\n",
      "[66 76 85]\n"
     ]
    }
   ],
   "source": [
    "x = np.random.randint(1, 100, size = 10)\n",
    "print(x[x % 2 == 0])\n",
    "print(x[x >= 60])"
   ]
  },
  {
   "cell_type": "code",
   "execution_count": 63,
   "metadata": {},
   "outputs": [
    {
     "name": "stdout",
     "output_type": "stream",
     "text": [
      "[66 40 52 53]\n",
      "[66  7 76 25 53 85]\n"
     ]
    }
   ],
   "source": [
    "print(x[(x > 30) & (x < 70)])\n",
    "print(x[(x > 60) | (x % 2 != 0)])"
   ]
  },
  {
   "cell_type": "code",
   "execution_count": 65,
   "metadata": {},
   "outputs": [
    {
     "data": {
      "text/plain": [
       "31"
      ]
     },
     "execution_count": 65,
     "metadata": {},
     "output_type": "execute_result"
    }
   ],
   "source": [
    "temp = np.array(\n",
    "        [23.9, 24.4, 24.1, 25.4, 27.6, 29.7,\n",
    "         26.7, 25.1, 25.0, 22.7, 21.9, 23.6, \n",
    "         24.9, 25.9, 23.8, 24.7, 25.6, 26.9, \n",
    "         28.6, 28.0, 25.1, 26.7, 28.1, 26.5, \n",
    "         26.3, 25.9, 28.4, 26.1, 27.5, 28.1, 25.8])\n",
    "len(temp)"
   ]
  },
  {
   "cell_type": "code",
   "execution_count": 78,
   "metadata": {},
   "outputs": [
    {
     "name": "stdout",
     "output_type": "stream",
     "text": [
      "21\n",
      "26.857142857142858\n"
     ]
    }
   ],
   "source": [
    "print(temp[temp> 25.0].size)\n",
    "print(np.mean(temp[temp > 25]))"
   ]
  }
 ],
 "metadata": {
  "kernelspec": {
   "display_name": "Python 3.9.12 ('base')",
   "language": "python",
   "name": "python3"
  },
  "language_info": {
   "codemirror_mode": {
    "name": "ipython",
    "version": 3
   },
   "file_extension": ".py",
   "mimetype": "text/x-python",
   "name": "python",
   "nbconvert_exporter": "python",
   "pygments_lexer": "ipython3",
   "version": "3.9.12"
  },
  "orig_nbformat": 4,
  "vscode": {
   "interpreter": {
    "hash": "a077222d77dfe082b8f1dd562ad70e458ac2ab76993a0b248ab0476e32e9e8dd"
   }
  }
 },
 "nbformat": 4,
 "nbformat_minor": 2
}
