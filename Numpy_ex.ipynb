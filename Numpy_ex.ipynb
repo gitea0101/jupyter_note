{
 "cells": [
  {
   "cell_type": "code",
   "execution_count": 2,
   "metadata": {},
   "outputs": [],
   "source": [
    "import numpy as np"
   ]
  },
  {
   "cell_type": "code",
   "execution_count": 3,
   "metadata": {},
   "outputs": [],
   "source": [
    "a = np.full(10,0.)\n",
    "a[4] = 1"
   ]
  },
  {
   "cell_type": "code",
   "execution_count": 4,
   "metadata": {},
   "outputs": [
    {
     "data": {
      "text/plain": [
       "array([10, 11, 12, 13, 14, 15, 16, 17, 18, 19, 20, 21, 22, 23, 24, 25, 26,\n",
       "       27, 28, 29, 30, 31, 32, 33, 34, 35, 36, 37, 38, 39, 40, 41, 42, 43,\n",
       "       44, 45, 46, 47, 48, 49])"
      ]
     },
     "execution_count": 4,
     "metadata": {},
     "output_type": "execute_result"
    }
   ],
   "source": [
    "b = np.arange(10,50)\n",
    "b"
   ]
  },
  {
   "cell_type": "code",
   "execution_count": 5,
   "metadata": {},
   "outputs": [
    {
     "data": {
      "text/plain": [
       "array([[0, 1, 2],\n",
       "       [3, 4, 5],\n",
       "       [6, 7, 8]])"
      ]
     },
     "execution_count": 5,
     "metadata": {},
     "output_type": "execute_result"
    }
   ],
   "source": [
    "c = np.arange(9).reshape(3,3)\n",
    "c"
   ]
  },
  {
   "cell_type": "code",
   "execution_count": 6,
   "metadata": {},
   "outputs": [
    {
     "data": {
      "text/plain": [
       "array([[[0.56175597, 0.29570904, 0.79615834],\n",
       "        [0.24909691, 0.56864419, 0.80442293],\n",
       "        [0.46017529, 0.62120485, 0.25211254]],\n",
       "\n",
       "       [[0.4004696 , 0.30861711, 0.57472476],\n",
       "        [0.07170656, 0.95223012, 0.78951585],\n",
       "        [0.77203443, 0.28325861, 0.17986995]],\n",
       "\n",
       "       [[0.37803186, 0.59112436, 0.10051705],\n",
       "        [0.20746136, 0.8910256 , 0.89562076],\n",
       "        [0.76726067, 0.36255037, 0.36251455]]])"
      ]
     },
     "execution_count": 6,
     "metadata": {},
     "output_type": "execute_result"
    }
   ],
   "source": [
    "d = np.random.random(size=(3,3,3))\n",
    "d"
   ]
  },
  {
   "cell_type": "code",
   "execution_count": 7,
   "metadata": {},
   "outputs": [
    {
     "data": {
      "text/plain": [
       "0.4753446194165809"
      ]
     },
     "execution_count": 7,
     "metadata": {},
     "output_type": "execute_result"
    }
   ],
   "source": [
    "e = np.random.random(size=30)\n",
    "e.mean()"
   ]
  },
  {
   "cell_type": "code",
   "execution_count": 14,
   "metadata": {},
   "outputs": [
    {
     "data": {
      "text/plain": [
       "array([ 80, 100, 120])"
      ]
     },
     "execution_count": 14,
     "metadata": {},
     "output_type": "execute_result"
    }
   ],
   "source": [
    "mid_score = [10,20,30]\n",
    "final_score = [70,80,90]\n",
    "\n",
    "mid_score = np.array(mid_score)\n",
    "final_score = np.array(final_score)\n",
    "\n",
    "total_score = mid_score + final_score\n",
    "total_score"
   ]
  },
  {
   "cell_type": "code",
   "execution_count": 27,
   "metadata": {},
   "outputs": [
    {
     "name": "stdout",
     "output_type": "stream",
     "text": [
      "[0 1 2 3 4 5 6 7 8 9]\n",
      "[0 1 2 3 4 5 6 7 8 9]\n",
      "[0 2 4 6 8]\n",
      "(5,) 1 int32 5 4\n"
     ]
    }
   ],
   "source": [
    "array_a = np.arange(10)\n",
    "array_b = np.array(range(10))\n",
    "array_c = np.arange(0,10,2)\n",
    "print(array_a)\n",
    "print(array_b)\n",
    "print(array_c)\n",
    "print(array_c.shape, array_c.ndim, array_c.dtype, array_c.size, array_c.itemsize) # 원소의 데이터 크기 (Byte)"
   ]
  },
  {
   "cell_type": "code",
   "execution_count": 32,
   "metadata": {},
   "outputs": [],
   "source": [
    "salary = np.array([220, 250, 230])\n",
    "salary = salary + 100\n",
    "salary"
   ]
  },
  {
   "cell_type": "code",
   "execution_count": 34,
   "metadata": {},
   "outputs": [
    {
     "data": {
      "text/plain": [
       "array([640, 700, 660])"
      ]
     },
     "execution_count": 34,
     "metadata": {},
     "output_type": "execute_result"
    }
   ],
   "source": [
    "salary = salary * 2\n",
    "salary"
   ]
  },
  {
   "cell_type": "code",
   "execution_count": 67,
   "metadata": {},
   "outputs": [
    {
     "name": "stdout",
     "output_type": "stream",
     "text": [
      "[[183.   86.2]\n",
      " [176.   80.1]]\n",
      "[[183.   86.2]]\n"
     ]
    }
   ],
   "source": [
    "players=[[170,76.4],[183,86.2],[171,73.5],[176,80.1]]\n",
    "np_players = np.array(players)\n",
    "print(np_players[np_players[:,1] >= 80])\n",
    "print(np_players[np_players[:,0] >= 180])"
   ]
  },
  {
   "cell_type": "code",
   "execution_count": 96,
   "metadata": {},
   "outputs": [
    {
     "data": {
      "text/plain": [
       "array([185, 164, 173, 133, 151, 120, 208, 175, 157, 188, 290, 107, 229,\n",
       "       137, 141, 271, 171, 237, 196, 239, 282, 165, 182, 156, 132, 114,\n",
       "       189, 151, 197, 185])"
      ]
     },
     "execution_count": 96,
     "metadata": {},
     "output_type": "execute_result"
    }
   ],
   "source": [
    "revenue_in_yen = np.random.randint(100,300,30)\n",
    "revenue_in_yen"
   ]
  },
  {
   "cell_type": "code",
   "execution_count": 100,
   "metadata": {},
   "outputs": [
    {
     "data": {
      "text/plain": [
       "array([1794.5, 1590.8, 1678.1, 1290.1, 1464.7, 1164. , 2017.6, 1697.5,\n",
       "       1522.9, 1823.6, 2813. , 1037.9, 2221.3, 1328.9, 1367.7, 2628.7,\n",
       "       1658.7, 2298.9, 1901.2, 2318.3, 2735.4, 1600.5, 1765.4, 1513.2,\n",
       "       1280.4, 1105.8, 1833.3, 1464.7, 1910.9, 1794.5])"
      ]
     },
     "execution_count": 100,
     "metadata": {},
     "output_type": "execute_result"
    }
   ],
   "source": [
    "won_array = revenue_in_yen * 9.70\n",
    "won_array"
   ]
  },
  {
   "cell_type": "code",
   "execution_count": 112,
   "metadata": {},
   "outputs": [
    {
     "data": {
      "text/plain": [
       "array([18083, 22256, 20865, 15301, 13910, 13910, 20865, 23647, 13910,\n",
       "       18083, 26429, 13910, 15301, 25038, 15301, 22256, 13910, 15301,\n",
       "       26429, 15301, 13910, 20865, 25038, 23647, 15301, 20865, 20865,\n",
       "       15301, 20865, 22256])"
      ]
     },
     "execution_count": 112,
     "metadata": {},
     "output_type": "execute_result"
    }
   ],
   "source": [
    "revenue_in_doller = np.random.randint(10,20,30)\n",
    "won_array2 = revenue_in_doller * 1391\n",
    "won_array2"
   ]
  },
  {
   "cell_type": "code",
   "execution_count": 122,
   "metadata": {},
   "outputs": [
    {
     "data": {
      "text/plain": [
       "array([19877, 16591, 15374, 15074, 15432, 19906, 14947, 17522, 16668,\n",
       "       15568, 17599, 17619, 16645, 16581, 16765], dtype=int64)"
      ]
     },
     "execution_count": 122,
     "metadata": {},
     "output_type": "execute_result"
    }
   ],
   "source": [
    "ta = won_array+won_array2\n",
    "ta = ta.astype(\"int64\")\n",
    "ta[ta < 20000]"
   ]
  }
 ],
 "metadata": {
  "kernelspec": {
   "display_name": "Python 3.9.12 ('base')",
   "language": "python",
   "name": "python3"
  },
  "language_info": {
   "codemirror_mode": {
    "name": "ipython",
    "version": 3
   },
   "file_extension": ".py",
   "mimetype": "text/x-python",
   "name": "python",
   "nbconvert_exporter": "python",
   "pygments_lexer": "ipython3",
   "version": "3.9.12"
  },
  "orig_nbformat": 4,
  "vscode": {
   "interpreter": {
    "hash": "a077222d77dfe082b8f1dd562ad70e458ac2ab76993a0b248ab0476e32e9e8dd"
   }
  }
 },
 "nbformat": 4,
 "nbformat_minor": 2
}
