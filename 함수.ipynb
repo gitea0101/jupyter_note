{
 "cells": [
  {
   "cell_type": "code",
   "execution_count": 2,
   "id": "676da026",
   "metadata": {},
   "outputs": [],
   "source": [
    "import 제곱"
   ]
  },
  {
   "cell_type": "code",
   "execution_count": 3,
   "id": "9fa6e896",
   "metadata": {},
   "outputs": [
    {
     "data": {
      "text/plain": [
       "25164150"
      ]
     },
     "execution_count": 3,
     "metadata": {},
     "output_type": "execute_result"
    }
   ],
   "source": [
    "제곱.jegop(1,100)"
   ]
  },
  {
   "cell_type": "code",
   "execution_count": null,
   "id": "09d55a28",
   "metadata": {},
   "outputs": [],
   "source": []
  }
 ],
 "metadata": {
  "kernelspec": {
   "display_name": "Python 3 (ipykernel)",
   "language": "python",
   "name": "python3"
  },
  "language_info": {
   "codemirror_mode": {
    "name": "ipython",
    "version": 3
   },
   "file_extension": ".py",
   "mimetype": "text/x-python",
   "name": "python",
   "nbconvert_exporter": "python",
   "pygments_lexer": "ipython3",
   "version": "3.9.12"
  }
 },
 "nbformat": 4,
 "nbformat_minor": 5
}
