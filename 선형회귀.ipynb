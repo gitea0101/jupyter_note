{
 "cells": [
  {
   "cell_type": "code",
   "execution_count": 2,
   "metadata": {},
   "outputs": [],
   "source": [
    "import numpy as np\n",
    "import pandas as pd\n",
    "import matplotlib.pyplot as plt\n",
    "import statsmodels.api as sm"
   ]
  },
  {
   "cell_type": "code",
   "execution_count": 16,
   "metadata": {},
   "outputs": [],
   "source": [
    "x_val =[1,2,3]\n",
    "y_val =[3,4,5]"
   ]
  },
  {
   "cell_type": "code",
   "execution_count": 26,
   "metadata": {},
   "outputs": [
    {
     "data": {
      "text/plain": [
       "1.8571428571428572"
      ]
     },
     "execution_count": 26,
     "metadata": {},
     "output_type": "execute_result"
    }
   ],
   "source": [
    "xy_val = [[1,3],[2,4],[3,5]]\n",
    "xi2 =0\n",
    "xi = 0\n",
    "yi = 0\n",
    "xyi = 0\n",
    "\n",
    "\n",
    "for i in x_val:\n",
    "    xi2 = xi2 + i**2\n",
    "\n",
    "for i in x_val:\n",
    "    xi = xi + i\n",
    "\n",
    "for i in y_val:\n",
    "    yi = yi + i\n",
    "    \n",
    "for i,j in xy_val:\n",
    "    xyi = xyi + i*j \n",
    "    \n",
    "d = (len(x_val)*xi2) - (xi * xi)\n",
    "\n",
    "a =( (xi2*yi)-(xi*xyi) )/ d\n",
    "b =( (len(x_val) * xyi) - xi*yi) / d\n",
    "\n",
    "b = xyi / xi2\n",
    "b"
   ]
  },
  {
   "cell_type": "code",
   "execution_count": 23,
   "metadata": {},
   "outputs": [
    {
     "name": "stdout",
     "output_type": "stream",
     "text": [
      "                                 OLS Regression Results                                \n",
      "=======================================================================================\n",
      "Dep. Variable:                      y   R-squared (uncentered):                   0.966\n",
      "Model:                            OLS   Adj. R-squared (uncentered):              0.949\n",
      "Method:                 Least Squares   F-statistic:                              56.33\n",
      "Date:                Fri, 30 Sep 2022   Prob (F-statistic):                      0.0173\n",
      "Time:                        14:49:00   Log-Likelihood:                         -3.4174\n",
      "No. Observations:                   3   AIC:                                      8.835\n",
      "Df Residuals:                       2   BIC:                                      7.933\n",
      "Df Model:                           1                                                  \n",
      "Covariance Type:            nonrobust                                                  \n",
      "==============================================================================\n",
      "                 coef    std err          t      P>|t|      [0.025      0.975]\n",
      "------------------------------------------------------------------------------\n",
      "x1             1.8571      0.247      7.506      0.017       0.793       2.922\n",
      "==============================================================================\n",
      "Omnibus:                          nan   Durbin-Watson:                   0.857\n",
      "Prob(Omnibus):                    nan   Jarque-Bera (JB):                0.281\n",
      "Skew:                           0.000   Prob(JB):                        0.869\n",
      "Kurtosis:                       1.500   Cond. No.                         1.00\n",
      "==============================================================================\n",
      "\n",
      "Notes:\n",
      "[1] R² is computed without centering (uncentered) since the model does not contain a constant.\n",
      "[2] Standard Errors assume that the covariance matrix of the errors is correctly specified.\n"
     ]
    },
    {
     "name": "stderr",
     "output_type": "stream",
     "text": [
      "c:\\Users\\user\\anaconda3\\lib\\site-packages\\statsmodels\\stats\\stattools.py:74: ValueWarning: omni_normtest is not valid with less than 8 observations; 3 samples were given.\n",
      "  warn(\"omni_normtest is not valid with less than 8 observations; %i \"\n"
     ]
    }
   ],
   "source": [
    "res2 = sm.OLS(endog = y_val, exog = x_val).fit()\n",
    "print(res2.summary())"
   ]
  }
 ],
 "metadata": {
  "kernelspec": {
   "display_name": "Python 3.9.12 ('base')",
   "language": "python",
   "name": "python3"
  },
  "language_info": {
   "codemirror_mode": {
    "name": "ipython",
    "version": 3
   },
   "file_extension": ".py",
   "mimetype": "text/x-python",
   "name": "python",
   "nbconvert_exporter": "python",
   "pygments_lexer": "ipython3",
   "version": "3.9.12"
  },
  "orig_nbformat": 4,
  "vscode": {
   "interpreter": {
    "hash": "a077222d77dfe082b8f1dd562ad70e458ac2ab76993a0b248ab0476e32e9e8dd"
   }
  }
 },
 "nbformat": 4,
 "nbformat_minor": 2
}
