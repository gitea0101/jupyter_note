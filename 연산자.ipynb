{
 "cells": [
  {
   "cell_type": "code",
   "execution_count": 12,
   "id": "f55bbb71",
   "metadata": {},
   "outputs": [
    {
     "data": {
      "text/plain": [
       "1"
      ]
     },
     "execution_count": 12,
     "metadata": {},
     "output_type": "execute_result"
    }
   ],
   "source": [
    "int(2/2)"
   ]
  },
  {
   "cell_type": "markdown",
   "id": "311e2a15",
   "metadata": {},
   "source": [
    "# 지수연산"
   ]
  },
  {
   "cell_type": "code",
   "execution_count": 13,
   "id": "ad86ea70",
   "metadata": {},
   "outputs": [
    {
     "data": {
      "text/plain": [
       "27"
      ]
     },
     "execution_count": 13,
     "metadata": {},
     "output_type": "execute_result"
    }
   ],
   "source": [
    "3 ** 3"
   ]
  },
  {
   "cell_type": "markdown",
   "id": "6dc2c993",
   "metadata": {},
   "source": [
    "# 몫 연산, 나머지 연산"
   ]
  },
  {
   "cell_type": "code",
   "execution_count": 14,
   "id": "ee74d9ee",
   "metadata": {},
   "outputs": [
    {
     "data": {
      "text/plain": [
       "2"
      ]
     },
     "execution_count": 14,
     "metadata": {},
     "output_type": "execute_result"
    }
   ],
   "source": [
    "7//3"
   ]
  },
  {
   "cell_type": "code",
   "execution_count": 15,
   "id": "bda159ec",
   "metadata": {},
   "outputs": [
    {
     "data": {
      "text/plain": [
       "1"
      ]
     },
     "execution_count": 15,
     "metadata": {},
     "output_type": "execute_result"
    }
   ],
   "source": [
    "7%3"
   ]
  },
  {
   "cell_type": "code",
   "execution_count": 16,
   "id": "df0aae48",
   "metadata": {},
   "outputs": [
    {
     "data": {
      "text/plain": [
       "'안녕하세요.'"
      ]
     },
     "execution_count": 16,
     "metadata": {},
     "output_type": "execute_result"
    }
   ],
   "source": [
    "\"안녕\" + \"하세요.\""
   ]
  },
  {
   "cell_type": "code",
   "execution_count": 17,
   "id": "2a7bce0b",
   "metadata": {},
   "outputs": [
    {
     "data": {
      "text/plain": [
       "'안녕안녕안녕'"
      ]
     },
     "execution_count": 17,
     "metadata": {},
     "output_type": "execute_result"
    }
   ],
   "source": [
    "\"안녕\" * 3"
   ]
  },
  {
   "cell_type": "code",
   "execution_count": 18,
   "id": "fd7c85f1",
   "metadata": {},
   "outputs": [
    {
     "name": "stdout",
     "output_type": "stream",
     "text": [
      "정수 1\n"
     ]
    }
   ],
   "source": [
    "a = int(input(\"정수 \"))"
   ]
  },
  {
   "cell_type": "code",
   "execution_count": 19,
   "id": "b0d4e717",
   "metadata": {},
   "outputs": [
    {
     "data": {
      "text/plain": [
       "1"
      ]
     },
     "execution_count": 19,
     "metadata": {},
     "output_type": "execute_result"
    }
   ],
   "source": [
    "a"
   ]
  },
  {
   "cell_type": "markdown",
   "id": "b4a1207d",
   "metadata": {},
   "source": [
    "# 시간 파싱하기\n",
    "\n",
    " - \"2022년 8월 10일 14시 32분 10초\""
   ]
  },
  {
   "cell_type": "code",
   "execution_count": 11,
   "id": "9e15cf4e",
   "metadata": {},
   "outputs": [
    {
     "data": {
      "text/plain": [
       "'2022-08-10 14:54:26'"
      ]
     },
     "execution_count": 11,
     "metadata": {},
     "output_type": "execute_result"
    }
   ],
   "source": [
    "import datetime\n",
    "datetime.datetime.now().strftime(\"%Y-%m-%d %H:%M:%S\")"
   ]
  },
  {
   "cell_type": "code",
   "execution_count": 9,
   "id": "59a49bf4",
   "metadata": {},
   "outputs": [
    {
     "ename": "NameError",
     "evalue": "name 'datetime' is not defined",
     "output_type": "error",
     "traceback": [
      "\u001b[1;31m---------------------------------------------------------------------------\u001b[0m",
      "\u001b[1;31mNameError\u001b[0m                                 Traceback (most recent call last)",
      "Input \u001b[1;32mIn [9]\u001b[0m, in \u001b[0;36m<cell line: 1>\u001b[1;34m()\u001b[0m\n\u001b[1;32m----> 1\u001b[0m now \u001b[38;5;241m=\u001b[39m \u001b[43mdatetime\u001b[49m\u001b[38;5;241m.\u001b[39mdatetime\u001b[38;5;241m.\u001b[39mnow()\u001b[38;5;241m.\u001b[39mstrftime(\u001b[38;5;124m\"\u001b[39m\u001b[38;5;124m%\u001b[39m\u001b[38;5;124mY-\u001b[39m\u001b[38;5;124m%\u001b[39m\u001b[38;5;124mm-\u001b[39m\u001b[38;5;132;01m%d\u001b[39;00m\u001b[38;5;124m \u001b[39m\u001b[38;5;124m%\u001b[39m\u001b[38;5;124mH:\u001b[39m\u001b[38;5;124m%\u001b[39m\u001b[38;5;124mM:\u001b[39m\u001b[38;5;124m%\u001b[39m\u001b[38;5;124mS\u001b[39m\u001b[38;5;124m\"\u001b[39m)\n\u001b[0;32m      3\u001b[0m year \u001b[38;5;241m=\u001b[39m now[:\u001b[38;5;241m4\u001b[39m]\n\u001b[0;32m      4\u001b[0m month \u001b[38;5;241m=\u001b[39m now[\u001b[38;5;241m5\u001b[39m:\u001b[38;5;241m7\u001b[39m]\n",
      "\u001b[1;31mNameError\u001b[0m: name 'datetime' is not defined"
     ]
    }
   ],
   "source": [
    "now = datetime.datetime.now().strftime(\"%Y-%m-%d %H:%M:%S\")\n",
    "\n",
    "year = now[:4]\n",
    "month = now[5:7]\n",
    "day = now[8:10]\n",
    "hour = now[11:13]\n",
    "minute = now[14:16]\n",
    "second = now[17:]\n",
    "\n",
    "print(f\"{year}년 {month}월 {day}일 {hour}시 {minute}분 {second}초\")"
   ]
  },
  {
   "cell_type": "markdown",
   "id": "859fb51e",
   "metadata": {},
   "source": [
    " - input 함수로 초 단위의 시간을 받습니다.\n",
    " - 그 시간을 시간, 분, 초로 나누어서 출력합니다.\n",
    " - 예시 3653 -> 1시간 0분 53초"
   ]
  },
  {
   "cell_type": "code",
   "execution_count": null,
   "id": "e41414bc",
   "metadata": {},
   "outputs": [],
   "source": [
    "time = int(input())\n",
    "\n",
    "second = time % 60\n",
    "\n",
    "mi0 = time // 60\n",
    "\n",
    "mi1 = mi0 % 60\n",
    "\n",
    "hour = mi0 // 60\n",
    "\n",
    "print(f\"{hour}시간 {mi1}분 {second}초\")"
   ]
  },
  {
   "cell_type": "code",
   "execution_count": 21,
   "id": "c2f0bcda",
   "metadata": {},
   "outputs": [
    {
     "name": "stdout",
     "output_type": "stream",
     "text": [
      "3000000\n",
      "833시 20분 0초\n"
     ]
    }
   ],
   "source": [
    "time = int(input())\n",
    "\n",
    "hour = time//3600\n",
    "minute = time%3600//60\n",
    "second = time %60\n",
    "\n",
    "print(f\"{hour}시 {minute}분 {second}초\")"
   ]
  },
  {
   "cell_type": "code",
   "execution_count": 25,
   "id": "b0a92a77",
   "metadata": {},
   "outputs": [
    {
     "data": {
      "text/plain": [
       "6"
      ]
     },
     "execution_count": 25,
     "metadata": {},
     "output_type": "execute_result"
    }
   ],
   "source": [
    "num = 3\n",
    "num +=3\n",
    "num"
   ]
  },
  {
   "cell_type": "code",
   "execution_count": 26,
   "id": "0437c4e8",
   "metadata": {},
   "outputs": [
    {
     "data": {
      "text/plain": [
       "True"
      ]
     },
     "execution_count": 26,
     "metadata": {},
     "output_type": "execute_result"
    }
   ],
   "source": [
    "1 < 2"
   ]
  },
  {
   "cell_type": "code",
   "execution_count": 28,
   "id": "699ca49a",
   "metadata": {},
   "outputs": [
    {
     "data": {
      "text/plain": [
       "bool"
      ]
     },
     "execution_count": 28,
     "metadata": {},
     "output_type": "execute_result"
    }
   ],
   "source": [
    "type(1 == 2)"
   ]
  },
  {
   "cell_type": "code",
   "execution_count": 29,
   "id": "8866e3e7",
   "metadata": {},
   "outputs": [
    {
     "data": {
      "text/plain": [
       "2"
      ]
     },
     "execution_count": 29,
     "metadata": {},
     "output_type": "execute_result"
    }
   ],
   "source": [
    "True + 1"
   ]
  },
  {
   "cell_type": "code",
   "execution_count": 30,
   "id": "69c1a31b",
   "metadata": {},
   "outputs": [
    {
     "data": {
      "text/plain": [
       "True"
      ]
     },
     "execution_count": 30,
     "metadata": {},
     "output_type": "execute_result"
    }
   ],
   "source": [
    "1.0 == 1"
   ]
  },
  {
   "cell_type": "code",
   "execution_count": 35,
   "id": "3f83704d",
   "metadata": {},
   "outputs": [
    {
     "name": "stdout",
     "output_type": "stream",
     "text": [
      "정수: 1\n"
     ]
    },
    {
     "data": {
      "text/plain": [
       "True"
      ]
     },
     "execution_count": 35,
     "metadata": {},
     "output_type": "execute_result"
    }
   ],
   "source": [
    "num = int(input(\"정수: \"))\n",
    "\n",
    "num == 0 or num == 1"
   ]
  },
  {
   "cell_type": "markdown",
   "id": "af9dc47d",
   "metadata": {},
   "source": [
    " - input 함수로 num에 임의의 정수를 입력받습니다.\n",
    " - 입력된 수가 2의 배수이자 3의 배수이면 True, 그렇지 않으면 False를 출력합니다.\n",
    " - 입력된 수가 2의 배수이거나 3의 배수이면 True, 그렇지 않으면 False를 출력합니다."
   ]
  },
  {
   "cell_type": "code",
   "execution_count": 37,
   "id": "78cfba2c",
   "metadata": {},
   "outputs": [
    {
     "name": "stdout",
     "output_type": "stream",
     "text": [
      "정수 : 4\n",
      "False\n",
      "True\n"
     ]
    }
   ],
   "source": [
    "num = int(input(\"정수 : \"))\n",
    "\n",
    "print(num%2 == 0 and num%3 == 0)\n",
    "\n",
    "print(num%2 == 0 or num%3 ==0)"
   ]
  },
  {
   "cell_type": "code",
   "execution_count": null,
   "id": "d987eb12",
   "metadata": {},
   "outputs": [],
   "source": []
  }
 ],
 "metadata": {
  "kernelspec": {
   "display_name": "Python 3 (ipykernel)",
   "language": "python",
   "name": "python3"
  },
  "language_info": {
   "codemirror_mode": {
    "name": "ipython",
    "version": 3
   },
   "file_extension": ".py",
   "mimetype": "text/x-python",
   "name": "python",
   "nbconvert_exporter": "python",
   "pygments_lexer": "ipython3",
   "version": "3.9.12"
  }
 },
 "nbformat": 4,
 "nbformat_minor": 5
}
