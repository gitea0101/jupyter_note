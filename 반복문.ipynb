{
 "cells": [
  {
   "cell_type": "code",
   "execution_count": 1,
   "id": "ff3c63e9",
   "metadata": {
    "scrolled": true
   },
   "outputs": [
    {
     "name": "stdout",
     "output_type": "stream",
     "text": [
      "0\n",
      "1\n",
      "2\n"
     ]
    }
   ],
   "source": [
    "n = 0\n",
    "while n < 3:\n",
    "    print(n)\n",
    "    n += 1"
   ]
  },
  {
   "cell_type": "markdown",
   "id": "f02a91a6",
   "metadata": {},
   "source": [
    "## while문을 사용해서 \"Hello Python\"을 10번 출력합니다."
   ]
  },
  {
   "cell_type": "code",
   "execution_count": 28,
   "id": "db463477",
   "metadata": {},
   "outputs": [
    {
     "name": "stdout",
     "output_type": "stream",
     "text": [
      "Hello Python\n",
      "Hello Python\n",
      "Hello Python\n",
      "Hello Python\n",
      "Hello Python\n",
      "Hello Python\n",
      "Hello Python\n",
      "Hello Python\n",
      "Hello Python\n",
      "Hello Python\n"
     ]
    }
   ],
   "source": [
    "n = 0\n",
    "while n < 10:\n",
    "    print(\"Hello Python\")\n",
    "    n += 1"
   ]
  },
  {
   "cell_type": "code",
   "execution_count": 31,
   "id": "e5747d48",
   "metadata": {},
   "outputs": [
    {
     "name": "stdout",
     "output_type": "stream",
     "text": [
      "1\n"
     ]
    }
   ],
   "source": [
    "while 1 < 2:\n",
    "    print(1)\n",
    "    break"
   ]
  },
  {
   "cell_type": "code",
   "execution_count": null,
   "id": "a5fec837",
   "metadata": {},
   "outputs": [],
   "source": [
    "n = 1\n",
    "while True:\n",
    "    print(n)\n",
    "    if n < 10:\n",
    "        n += 1\n",
    "    else:\n",
    "        break"
   ]
  },
  {
   "cell_type": "markdown",
   "id": "cbe7059a",
   "metadata": {},
   "source": [
    "## 1000이 넘는 43의 배수 중 가장 작은 수를 찾고 싶습니다."
   ]
  },
  {
   "cell_type": "code",
   "execution_count": 6,
   "id": "5b1b2fbc",
   "metadata": {},
   "outputs": [
    {
     "data": {
      "text/plain": [
       "1032"
      ]
     },
     "execution_count": 6,
     "metadata": {},
     "output_type": "execute_result"
    }
   ],
   "source": [
    "n = 1000\n",
    "while n % 43 != 0:\n",
    "    \n",
    "    n += 1\n",
    "    \n",
    "n"
   ]
  },
  {
   "cell_type": "code",
   "execution_count": 25,
   "id": "30c8eb05",
   "metadata": {},
   "outputs": [
    {
     "data": {
      "text/plain": [
       "1032"
      ]
     },
     "execution_count": 25,
     "metadata": {},
     "output_type": "execute_result"
    }
   ],
   "source": [
    "n = 1\n",
    "while not ((n % 43 == 0) and (n>1000)):\n",
    "    \n",
    "    n += 1\n",
    "    \n",
    "n"
   ]
  },
  {
   "cell_type": "code",
   "execution_count": 26,
   "id": "3e38b639",
   "metadata": {},
   "outputs": [
    {
     "data": {
      "text/plain": [
       "1032"
      ]
     },
     "execution_count": 26,
     "metadata": {},
     "output_type": "execute_result"
    }
   ],
   "source": [
    "n = 0\n",
    "while n * 43 < 1000:\n",
    "    n= n+1\n",
    "n*43"
   ]
  },
  {
   "cell_type": "markdown",
   "id": "eeb75a06",
   "metadata": {},
   "source": [
    "## 10000이 넘는 수 중에서, 가장 작은 43과 67의 공배수를 구해주세요."
   ]
  },
  {
   "cell_type": "code",
   "execution_count": 77,
   "id": "df1eaef3",
   "metadata": {},
   "outputs": [
    {
     "data": {
      "text/plain": [
       "11524"
      ]
     },
     "execution_count": 77,
     "metadata": {},
     "output_type": "execute_result"
    }
   ],
   "source": [
    "n = 1\n",
    "\n",
    "while ((n % 43 != 0) or (n % 67 != 0)) or not (n > 10000):\n",
    "    n += 1\n",
    "    \n",
    "n"
   ]
  },
  {
   "cell_type": "code",
   "execution_count": 85,
   "id": "24d720f8",
   "metadata": {},
   "outputs": [
    {
     "data": {
      "text/plain": [
       "11524"
      ]
     },
     "execution_count": 85,
     "metadata": {},
     "output_type": "execute_result"
    }
   ],
   "source": [
    "n = 1\n",
    "\n",
    "while not ((n % 43 == 0) and (n % 67 == 0) and n > 10000):\n",
    "    n += 1\n",
    "    \n",
    "n"
   ]
  },
  {
   "cell_type": "markdown",
   "id": "bdd493e2",
   "metadata": {},
   "source": [
    " - 두개의 정수를 입력받습니다.\n",
    " - 입력받은 두 저수의 합을 출력합니다.\n",
    " - 두개의 정수로 0과 0을 입력받은 경우, 반복문에서 이탈합니다."
   ]
  },
  {
   "cell_type": "code",
   "execution_count": 54,
   "id": "cb0a78da",
   "metadata": {},
   "outputs": [
    {
     "name": "stdout",
     "output_type": "stream",
     "text": [
      "정수1: 1\n",
      "정수2: -1\n",
      "합: 0\n",
      "정수1: -1\n",
      "정수2: 1\n",
      "합: 0\n",
      "정수1: 0\n",
      "정수2: 0\n"
     ]
    }
   ],
   "source": [
    "while True:\n",
    "    a = int(input(\"정수1: \"))\n",
    "    b = int(input(\"정수2: \"))\n",
    "    \n",
    "    if a == b == 0:\n",
    "        break\n",
    "    \n",
    "    c = a + b\n",
    "    print(f\"합: {c}\")\n",
    "    \n",
    "    "
   ]
  },
  {
   "cell_type": "markdown",
   "id": "4d73cea5",
   "metadata": {},
   "source": [
    "## 다이어트 관리 프로그램\n",
    " - 목표 몸무게를 입력합니다.\n",
    " - 현재 몸무게를 입력합니다.\n",
    " - 매 주 감량한 몸무게를 입력한 뒤, 현재 몸무게가 목표 몸무게보다 적어지면, 프로그램을 종료합니다.\n",
    " - 출력 값은 \"축하합니다! ___ 주 걸리셧습니다.\" 형태입니다."
   ]
  },
  {
   "cell_type": "code",
   "execution_count": 67,
   "id": "eca50cc8",
   "metadata": {},
   "outputs": [
    {
     "name": "stdout",
     "output_type": "stream",
     "text": [
      "목표 몸무게를 입력하세요: 1\n",
      "현재 몸무게를 입력하세요: 1\n",
      "감량한 몸무게를 입력하세요: 1\n",
      "현재 몸무게는 0 입니다.\n",
      "축하합니다! \\1주 걸렸습니다.\n"
     ]
    }
   ],
   "source": [
    "goal = int(input(\"목표 몸무게를 입력하세요: \"))\n",
    "now = int(input(\"현재 몸무게를 입력하세요: \"))\n",
    "\n",
    "n = 0\n",
    "\n",
    "while goal <= now:\n",
    "    a = int(input(\"감량한 몸무게를 입력하세요: \"))\n",
    "    \n",
    "    now -= a\n",
    "    \n",
    "    print(f\"현재 몸무게는 {now} 입니다.\")\n",
    "    \n",
    "    n += 1\n",
    "    \n",
    "print(f\"축하합니다! {n}주 걸렸습니다.\")"
   ]
  },
  {
   "cell_type": "code",
   "execution_count": 75,
   "id": "1f566367",
   "metadata": {},
   "outputs": [
    {
     "data": {
      "text/plain": [
       "[0, 1, 2, 3, 4, 5, 6, 7, 8, 9]"
      ]
     },
     "execution_count": 75,
     "metadata": {},
     "output_type": "execute_result"
    }
   ],
   "source": [
    "a = range(10)\n",
    "list(a)"
   ]
  },
  {
   "cell_type": "markdown",
   "id": "cc69134d",
   "metadata": {},
   "source": [
    "# for 변수 in 문자열(or 리스트 or 튜플)"
   ]
  },
  {
   "cell_type": "code",
   "execution_count": 76,
   "id": "4133eeca",
   "metadata": {},
   "outputs": [
    {
     "name": "stdout",
     "output_type": "stream",
     "text": [
      "햄버거\n",
      "치킨\n",
      "피자\n"
     ]
    }
   ],
   "source": [
    "list_food = [\"햄버거\", \"치킨\", \"피자\"]\n",
    "for food in list_food:\n",
    "    print(food)"
   ]
  },
  {
   "cell_type": "code",
   "execution_count": 79,
   "id": "4eb444be",
   "metadata": {},
   "outputs": [
    {
     "name": "stdout",
     "output_type": "stream",
     "text": [
      "5050\n"
     ]
    }
   ],
   "source": [
    "n = 0\n",
    "for i in range(100):\n",
    "    n = n + i + 1\n",
    "print(n)"
   ]
  },
  {
   "cell_type": "code",
   "execution_count": 74,
   "id": "5c31fbc7",
   "metadata": {},
   "outputs": [
    {
     "name": "stdout",
     "output_type": "stream",
     "text": [
      "3 x 1 = 3\n",
      "3 x 2 = 6\n",
      "3 x 3 = 9\n",
      "3 x 4 = 12\n",
      "3 x 5 = 15\n",
      "3 x 6 = 18\n",
      "3 x 7 = 21\n",
      "3 x 8 = 24\n",
      "3 x 9 = 27\n"
     ]
    }
   ],
   "source": [
    "for i in range(1,10):\n",
    "    \n",
    "    print(f\"3 x {i} = {3*i}\")"
   ]
  },
  {
   "cell_type": "code",
   "execution_count": 1,
   "id": "de7e06c4",
   "metadata": {},
   "outputs": [
    {
     "data": {
      "text/plain": [
       "[0, 1, 4, 9, 16, 25, 36, 49, 64, 81]"
      ]
     },
     "execution_count": 1,
     "metadata": {},
     "output_type": "execute_result"
    }
   ],
   "source": [
    "jegop = [i**2 for i in range(10)]\n",
    "jegop"
   ]
  },
  {
   "cell_type": "code",
   "execution_count": 2,
   "id": "bcdefb17",
   "metadata": {},
   "outputs": [
    {
     "data": {
      "text/plain": [
       "[0, 1, 4, 9, 16, 25, 36, 49, 64, 81]"
      ]
     },
     "execution_count": 2,
     "metadata": {},
     "output_type": "execute_result"
    }
   ],
   "source": [
    "jegop =[]\n",
    "for i in range(10):\n",
    "    jegop.append(i**2)\n",
    "jegop"
   ]
  },
  {
   "cell_type": "code",
   "execution_count": 92,
   "id": "647e2fcd",
   "metadata": {},
   "outputs": [
    {
     "data": {
      "text/plain": [
       "5"
      ]
     },
     "execution_count": 92,
     "metadata": {},
     "output_type": "execute_result"
    }
   ],
   "source": [
    "n=0\n",
    "a = [1,2,3,4,5,6,7]\n",
    "b = [1,2,3,4,5,7,6]\n",
    "\n",
    "for i in range (len(a)):\n",
    "    if a[i] == b[i]:\n",
    "    \n",
    "        n+=1\n",
    "    \n",
    "    else:\n",
    "        pass\n",
    "n"
   ]
  },
  {
   "cell_type": "code",
   "execution_count": 95,
   "id": "c2f2a11a",
   "metadata": {},
   "outputs": [
    {
     "data": {
      "text/plain": [
       "3"
      ]
     },
     "execution_count": 95,
     "metadata": {},
     "output_type": "execute_result"
    }
   ],
   "source": [
    "n=0\n",
    "a = [\"가\",\"나\",\"다\",\"라\",\"마\",\"바\",\"사\"]\n",
    "b = [\"나\",\"라\",\"다\",\"바\",\"마\",\"나\",\"사\"]\n",
    "\n",
    "for w, i in enumerate(a):\n",
    "#     if a[w] == b[w]:\n",
    "    \n",
    "    if i == b[w]:\n",
    "        \n",
    "        n +=1\n",
    "    else:\n",
    "        pass\n",
    "n"
   ]
  },
  {
   "cell_type": "code",
   "execution_count": 102,
   "id": "26e3cfe6",
   "metadata": {
    "scrolled": true
   },
   "outputs": [
    {
     "name": "stdout",
     "output_type": "stream",
     "text": [
      "1 x 1 = 1\n",
      "1 x 2 = 2\n",
      "1 x 3 = 3\n",
      "1 x 4 = 4\n",
      "1 x 5 = 5\n",
      "1 x 6 = 6\n",
      "1 x 7 = 7\n",
      "1 x 8 = 8\n",
      "1 x 9 = 9\n",
      "2 x 1 = 2\n",
      "2 x 2 = 4\n",
      "2 x 3 = 6\n",
      "2 x 4 = 8\n",
      "2 x 5 = 10\n",
      "2 x 6 = 12\n",
      "2 x 7 = 14\n",
      "2 x 8 = 16\n",
      "2 x 9 = 18\n",
      "3 x 1 = 3\n",
      "3 x 2 = 6\n",
      "3 x 3 = 9\n",
      "3 x 4 = 12\n",
      "3 x 5 = 15\n",
      "3 x 6 = 18\n",
      "3 x 7 = 21\n",
      "3 x 8 = 24\n",
      "3 x 9 = 27\n",
      "4 x 1 = 4\n",
      "4 x 2 = 8\n",
      "4 x 3 = 12\n",
      "4 x 4 = 16\n",
      "4 x 5 = 20\n",
      "4 x 6 = 24\n",
      "4 x 7 = 28\n",
      "4 x 8 = 32\n",
      "4 x 9 = 36\n",
      "5 x 1 = 5\n",
      "5 x 2 = 10\n",
      "5 x 3 = 15\n",
      "5 x 4 = 20\n",
      "5 x 5 = 25\n",
      "5 x 6 = 30\n",
      "5 x 7 = 35\n",
      "5 x 8 = 40\n",
      "5 x 9 = 45\n",
      "6 x 1 = 6\n",
      "6 x 2 = 12\n",
      "6 x 3 = 18\n",
      "6 x 4 = 24\n",
      "6 x 5 = 30\n",
      "6 x 6 = 36\n",
      "6 x 7 = 42\n",
      "6 x 8 = 48\n",
      "6 x 9 = 54\n",
      "7 x 1 = 7\n",
      "7 x 2 = 14\n",
      "7 x 3 = 21\n",
      "7 x 4 = 28\n",
      "7 x 5 = 35\n",
      "7 x 6 = 42\n",
      "7 x 7 = 49\n",
      "7 x 8 = 56\n",
      "7 x 9 = 63\n",
      "8 x 1 = 8\n",
      "8 x 2 = 16\n",
      "8 x 3 = 24\n",
      "8 x 4 = 32\n",
      "8 x 5 = 40\n",
      "8 x 6 = 48\n",
      "8 x 7 = 56\n",
      "8 x 8 = 64\n",
      "8 x 9 = 72\n",
      "9 x 1 = 9\n",
      "9 x 2 = 18\n",
      "9 x 3 = 27\n",
      "9 x 4 = 36\n",
      "9 x 5 = 45\n",
      "9 x 6 = 54\n",
      "9 x 7 = 63\n",
      "9 x 8 = 72\n",
      "9 x 9 = 81\n"
     ]
    }
   ],
   "source": [
    "\n",
    "for i in range(1,10):\n",
    "    for j in range(1, 10):\n",
    "        \n",
    "        print(f\"{i} x {j} = {i*j}\")\n"
   ]
  },
  {
   "cell_type": "code",
   "execution_count": null,
   "id": "3b7d8c0b",
   "metadata": {},
   "outputs": [],
   "source": []
  },
  {
   "cell_type": "markdown",
   "id": "67f92fda",
   "metadata": {},
   "source": [
    "## 1에서 100 사이의 숫자 중 3의 배수인 값들의 합을 구하시오."
   ]
  },
  {
   "cell_type": "code",
   "execution_count": 123,
   "id": "865ed1a1",
   "metadata": {},
   "outputs": [
    {
     "name": "stdout",
     "output_type": "stream",
     "text": [
      "1683\n"
     ]
    }
   ],
   "source": [
    "n = 0\n",
    "\n",
    "for i in range(1, 101):\n",
    "    if i % 3 == 0:\n",
    "        n = n + i\n",
    "    else:\n",
    "        pass\n",
    "print(n)"
   ]
  },
  {
   "cell_type": "markdown",
   "id": "d60b4bd6",
   "metadata": {},
   "source": [
    "# 1에서 100 사이의 숫자 중 소수의 합을 구하시오."
   ]
  },
  {
   "cell_type": "code",
   "execution_count": 116,
   "id": "a4a70bef",
   "metadata": {},
   "outputs": [
    {
     "name": "stdout",
     "output_type": "stream",
     "text": [
      "1060\n"
     ]
    }
   ],
   "source": [
    "n = 0\n",
    "\n",
    "for i in range(100):\n",
    "    \n",
    "    j = i+1\n",
    "    \n",
    "    k = j\n",
    "    \n",
    "    while True:\n",
    "        \n",
    "        k = k - 1\n",
    "        \n",
    "        if k == 0:\n",
    "            break\n",
    "        \n",
    "        if (j % k) == 0:\n",
    "            break\n",
    "    \n",
    "    if j == 1:\n",
    "        k = 0\n",
    "    \n",
    "    \n",
    "    if k == 1:\n",
    "        n = n + j\n",
    "    \n",
    "print(n)"
   ]
  },
  {
   "cell_type": "code",
   "execution_count": 3,
   "id": "40f7b8f4",
   "metadata": {},
   "outputs": [
    {
     "name": "stdout",
     "output_type": "stream",
     "text": [
      "1060\n"
     ]
    }
   ],
   "source": [
    "n = 0\n",
    "\n",
    "for i in range(2,101):\n",
    "    \n",
    "    k = i\n",
    "    \n",
    "    while True:\n",
    "        \n",
    "        k = k - 1\n",
    "               \n",
    "        if (i % k) == 0:\n",
    "            break\n",
    "    \n",
    "    if k == 1:\n",
    "        n = n + i\n",
    "    \n",
    "print(n)"
   ]
  },
  {
   "cell_type": "code",
   "execution_count": 9,
   "id": "871caecc",
   "metadata": {},
   "outputs": [
    {
     "name": "stdout",
     "output_type": "stream",
     "text": [
      "1060\n"
     ]
    }
   ],
   "source": [
    "n = 0\n",
    "\n",
    "for i in range(2,101):\n",
    "    \n",
    "    for j in range(2,i+1):\n",
    "               \n",
    "        if (i % j) == 0:\n",
    "            break\n",
    "    \n",
    "    if i == j:\n",
    "        n = n + i\n",
    "    \n",
    "print(n)"
   ]
  },
  {
   "cell_type": "code",
   "execution_count": 127,
   "id": "4d3a571a",
   "metadata": {},
   "outputs": [
    {
     "data": {
      "text/plain": [
       "1060"
      ]
     },
     "execution_count": 127,
     "metadata": {},
     "output_type": "execute_result"
    }
   ],
   "source": [
    "result = 0\n",
    "for i in range(2, 101):\n",
    "    nmj = []\n",
    "    for w in range(2, i):\n",
    "        nmj.append(i%w)\n",
    "    if 0 not in nmj:\n",
    "        result = result + i\n",
    "result"
   ]
  },
  {
   "cell_type": "markdown",
   "id": "a013831e",
   "metadata": {},
   "source": [
    "## 구구단 출력\n",
    " - 3단부터 19단까지 출력해주세요.\n",
    " - 출력은 \"2 x 2 = 4\" 형식입니다."
   ]
  },
  {
   "cell_type": "code",
   "execution_count": 133,
   "id": "4e4af4c1",
   "metadata": {},
   "outputs": [
    {
     "name": "stdout",
     "output_type": "stream",
     "text": [
      "3 x 1 = 3\n",
      "3 x 2 = 6\n",
      "3 x 3 = 9\n",
      "3 x 4 = 12\n",
      "3 x 5 = 15\n",
      "3 x 6 = 18\n",
      "3 x 7 = 21\n",
      "3 x 8 = 24\n",
      "3 x 9 = 27\n",
      "3 x 10 = 30\n",
      "3 x 11 = 33\n",
      "3 x 12 = 36\n",
      "3 x 13 = 39\n",
      "3 x 14 = 42\n",
      "3 x 15 = 45\n",
      "3 x 16 = 48\n",
      "3 x 17 = 51\n",
      "3 x 18 = 54\n",
      "3 x 19 = 57\n",
      "------------------------\n",
      "4 x 1 = 4\n",
      "4 x 2 = 8\n",
      "4 x 3 = 12\n",
      "4 x 4 = 16\n",
      "4 x 5 = 20\n",
      "4 x 6 = 24\n",
      "4 x 7 = 28\n",
      "4 x 8 = 32\n",
      "4 x 9 = 36\n",
      "4 x 10 = 40\n",
      "4 x 11 = 44\n",
      "4 x 12 = 48\n",
      "4 x 13 = 52\n",
      "4 x 14 = 56\n",
      "4 x 15 = 60\n",
      "4 x 16 = 64\n",
      "4 x 17 = 68\n",
      "4 x 18 = 72\n",
      "4 x 19 = 76\n",
      "------------------------\n",
      "5 x 1 = 5\n",
      "5 x 2 = 10\n",
      "5 x 3 = 15\n",
      "5 x 4 = 20\n",
      "5 x 5 = 25\n",
      "5 x 6 = 30\n",
      "5 x 7 = 35\n",
      "5 x 8 = 40\n",
      "5 x 9 = 45\n",
      "5 x 10 = 50\n",
      "5 x 11 = 55\n",
      "5 x 12 = 60\n",
      "5 x 13 = 65\n",
      "5 x 14 = 70\n",
      "5 x 15 = 75\n",
      "5 x 16 = 80\n",
      "5 x 17 = 85\n",
      "5 x 18 = 90\n",
      "5 x 19 = 95\n",
      "------------------------\n",
      "6 x 1 = 6\n",
      "6 x 2 = 12\n",
      "6 x 3 = 18\n",
      "6 x 4 = 24\n",
      "6 x 5 = 30\n",
      "6 x 6 = 36\n",
      "6 x 7 = 42\n",
      "6 x 8 = 48\n",
      "6 x 9 = 54\n",
      "6 x 10 = 60\n",
      "6 x 11 = 66\n",
      "6 x 12 = 72\n",
      "6 x 13 = 78\n",
      "6 x 14 = 84\n",
      "6 x 15 = 90\n",
      "6 x 16 = 96\n",
      "6 x 17 = 102\n",
      "6 x 18 = 108\n",
      "6 x 19 = 114\n",
      "------------------------\n",
      "7 x 1 = 7\n",
      "7 x 2 = 14\n",
      "7 x 3 = 21\n",
      "7 x 4 = 28\n",
      "7 x 5 = 35\n",
      "7 x 6 = 42\n",
      "7 x 7 = 49\n",
      "7 x 8 = 56\n",
      "7 x 9 = 63\n",
      "7 x 10 = 70\n",
      "7 x 11 = 77\n",
      "7 x 12 = 84\n",
      "7 x 13 = 91\n",
      "7 x 14 = 98\n",
      "7 x 15 = 105\n",
      "7 x 16 = 112\n",
      "7 x 17 = 119\n",
      "7 x 18 = 126\n",
      "7 x 19 = 133\n",
      "------------------------\n",
      "8 x 1 = 8\n",
      "8 x 2 = 16\n",
      "8 x 3 = 24\n",
      "8 x 4 = 32\n",
      "8 x 5 = 40\n",
      "8 x 6 = 48\n",
      "8 x 7 = 56\n",
      "8 x 8 = 64\n",
      "8 x 9 = 72\n",
      "8 x 10 = 80\n",
      "8 x 11 = 88\n",
      "8 x 12 = 96\n",
      "8 x 13 = 104\n",
      "8 x 14 = 112\n",
      "8 x 15 = 120\n",
      "8 x 16 = 128\n",
      "8 x 17 = 136\n",
      "8 x 18 = 144\n",
      "8 x 19 = 152\n",
      "------------------------\n",
      "9 x 1 = 9\n",
      "9 x 2 = 18\n",
      "9 x 3 = 27\n",
      "9 x 4 = 36\n",
      "9 x 5 = 45\n",
      "9 x 6 = 54\n",
      "9 x 7 = 63\n",
      "9 x 8 = 72\n",
      "9 x 9 = 81\n",
      "9 x 10 = 90\n",
      "9 x 11 = 99\n",
      "9 x 12 = 108\n",
      "9 x 13 = 117\n",
      "9 x 14 = 126\n",
      "9 x 15 = 135\n",
      "9 x 16 = 144\n",
      "9 x 17 = 153\n",
      "9 x 18 = 162\n",
      "9 x 19 = 171\n",
      "------------------------\n",
      "10 x 1 = 10\n",
      "10 x 2 = 20\n",
      "10 x 3 = 30\n",
      "10 x 4 = 40\n",
      "10 x 5 = 50\n",
      "10 x 6 = 60\n",
      "10 x 7 = 70\n",
      "10 x 8 = 80\n",
      "10 x 9 = 90\n",
      "10 x 10 = 100\n",
      "10 x 11 = 110\n",
      "10 x 12 = 120\n",
      "10 x 13 = 130\n",
      "10 x 14 = 140\n",
      "10 x 15 = 150\n",
      "10 x 16 = 160\n",
      "10 x 17 = 170\n",
      "10 x 18 = 180\n",
      "10 x 19 = 190\n",
      "------------------------\n",
      "11 x 1 = 11\n",
      "11 x 2 = 22\n",
      "11 x 3 = 33\n",
      "11 x 4 = 44\n",
      "11 x 5 = 55\n",
      "11 x 6 = 66\n",
      "11 x 7 = 77\n",
      "11 x 8 = 88\n",
      "11 x 9 = 99\n",
      "11 x 10 = 110\n",
      "11 x 11 = 121\n",
      "11 x 12 = 132\n",
      "11 x 13 = 143\n",
      "11 x 14 = 154\n",
      "11 x 15 = 165\n",
      "11 x 16 = 176\n",
      "11 x 17 = 187\n",
      "11 x 18 = 198\n",
      "11 x 19 = 209\n",
      "------------------------\n",
      "12 x 1 = 12\n",
      "12 x 2 = 24\n",
      "12 x 3 = 36\n",
      "12 x 4 = 48\n",
      "12 x 5 = 60\n",
      "12 x 6 = 72\n",
      "12 x 7 = 84\n",
      "12 x 8 = 96\n",
      "12 x 9 = 108\n",
      "12 x 10 = 120\n",
      "12 x 11 = 132\n",
      "12 x 12 = 144\n",
      "12 x 13 = 156\n",
      "12 x 14 = 168\n",
      "12 x 15 = 180\n",
      "12 x 16 = 192\n",
      "12 x 17 = 204\n",
      "12 x 18 = 216\n",
      "12 x 19 = 228\n",
      "------------------------\n",
      "13 x 1 = 13\n",
      "13 x 2 = 26\n",
      "13 x 3 = 39\n",
      "13 x 4 = 52\n",
      "13 x 5 = 65\n",
      "13 x 6 = 78\n",
      "13 x 7 = 91\n",
      "13 x 8 = 104\n",
      "13 x 9 = 117\n",
      "13 x 10 = 130\n",
      "13 x 11 = 143\n",
      "13 x 12 = 156\n",
      "13 x 13 = 169\n",
      "13 x 14 = 182\n",
      "13 x 15 = 195\n",
      "13 x 16 = 208\n",
      "13 x 17 = 221\n",
      "13 x 18 = 234\n",
      "13 x 19 = 247\n",
      "------------------------\n",
      "14 x 1 = 14\n",
      "14 x 2 = 28\n",
      "14 x 3 = 42\n",
      "14 x 4 = 56\n",
      "14 x 5 = 70\n",
      "14 x 6 = 84\n",
      "14 x 7 = 98\n",
      "14 x 8 = 112\n",
      "14 x 9 = 126\n",
      "14 x 10 = 140\n",
      "14 x 11 = 154\n",
      "14 x 12 = 168\n",
      "14 x 13 = 182\n",
      "14 x 14 = 196\n",
      "14 x 15 = 210\n",
      "14 x 16 = 224\n",
      "14 x 17 = 238\n",
      "14 x 18 = 252\n",
      "14 x 19 = 266\n",
      "------------------------\n",
      "15 x 1 = 15\n",
      "15 x 2 = 30\n",
      "15 x 3 = 45\n",
      "15 x 4 = 60\n",
      "15 x 5 = 75\n",
      "15 x 6 = 90\n",
      "15 x 7 = 105\n",
      "15 x 8 = 120\n",
      "15 x 9 = 135\n",
      "15 x 10 = 150\n",
      "15 x 11 = 165\n",
      "15 x 12 = 180\n",
      "15 x 13 = 195\n",
      "15 x 14 = 210\n",
      "15 x 15 = 225\n",
      "15 x 16 = 240\n",
      "15 x 17 = 255\n",
      "15 x 18 = 270\n",
      "15 x 19 = 285\n",
      "------------------------\n",
      "16 x 1 = 16\n",
      "16 x 2 = 32\n",
      "16 x 3 = 48\n",
      "16 x 4 = 64\n",
      "16 x 5 = 80\n",
      "16 x 6 = 96\n",
      "16 x 7 = 112\n",
      "16 x 8 = 128\n",
      "16 x 9 = 144\n",
      "16 x 10 = 160\n",
      "16 x 11 = 176\n",
      "16 x 12 = 192\n",
      "16 x 13 = 208\n",
      "16 x 14 = 224\n",
      "16 x 15 = 240\n",
      "16 x 16 = 256\n",
      "16 x 17 = 272\n",
      "16 x 18 = 288\n",
      "16 x 19 = 304\n",
      "------------------------\n",
      "17 x 1 = 17\n",
      "17 x 2 = 34\n",
      "17 x 3 = 51\n",
      "17 x 4 = 68\n",
      "17 x 5 = 85\n",
      "17 x 6 = 102\n",
      "17 x 7 = 119\n",
      "17 x 8 = 136\n",
      "17 x 9 = 153\n",
      "17 x 10 = 170\n",
      "17 x 11 = 187\n",
      "17 x 12 = 204\n",
      "17 x 13 = 221\n",
      "17 x 14 = 238\n",
      "17 x 15 = 255\n",
      "17 x 16 = 272\n",
      "17 x 17 = 289\n",
      "17 x 18 = 306\n",
      "17 x 19 = 323\n",
      "------------------------\n",
      "18 x 1 = 18\n",
      "18 x 2 = 36\n",
      "18 x 3 = 54\n",
      "18 x 4 = 72\n",
      "18 x 5 = 90\n",
      "18 x 6 = 108\n",
      "18 x 7 = 126\n",
      "18 x 8 = 144\n",
      "18 x 9 = 162\n",
      "18 x 10 = 180\n",
      "18 x 11 = 198\n",
      "18 x 12 = 216\n",
      "18 x 13 = 234\n",
      "18 x 14 = 252\n",
      "18 x 15 = 270\n",
      "18 x 16 = 288\n",
      "18 x 17 = 306\n",
      "18 x 18 = 324\n",
      "18 x 19 = 342\n",
      "------------------------\n",
      "19 x 1 = 19\n",
      "19 x 2 = 38\n",
      "19 x 3 = 57\n",
      "19 x 4 = 76\n",
      "19 x 5 = 95\n",
      "19 x 6 = 114\n",
      "19 x 7 = 133\n",
      "19 x 8 = 152\n",
      "19 x 9 = 171\n",
      "19 x 10 = 190\n",
      "19 x 11 = 209\n",
      "19 x 12 = 228\n",
      "19 x 13 = 247\n",
      "19 x 14 = 266\n",
      "19 x 15 = 285\n",
      "19 x 16 = 304\n",
      "19 x 17 = 323\n",
      "19 x 18 = 342\n",
      "19 x 19 = 361\n",
      "------------------------\n"
     ]
    }
   ],
   "source": [
    "\n",
    "for a in range(3, 20):\n",
    "    for b in range(1,20):\n",
    "        \n",
    "        c = a*b\n",
    "        \n",
    "        print(f\"{a} x {b} = {c}\")\n",
    "    print(\"------------------------\")"
   ]
  },
  {
   "cell_type": "markdown",
   "id": "80e9dba5",
   "metadata": {},
   "source": [
    "## 업다운 게임\n",
    " - 컴퓨터는 1부터 100 사이의 임의의 자연수를 생각합니다.\n",
    " - 플레이어는 1부터 100 사이의 임의의 자연수를 input으로 입력합니다.\n",
    " - 컴퓨터가 생각한 수가 플레이어가 입력한 수보다 크다면 Up, 작다면 Down을 출력합니다.\n",
    " - 플레이어가 입력한 수가 컴퓨터가 생각한 수와 일치하면 몇번만에 맞췄는지 출력하고 프로그램을 종료합니다."
   ]
  },
  {
   "cell_type": "code",
   "execution_count": 17,
   "id": "1d8a67c5",
   "metadata": {},
   "outputs": [
    {
     "name": "stdout",
     "output_type": "stream",
     "text": [
      "1부터 100사이의 자연수를 입력하세요.: 30\n",
      "Down\n",
      "1부터 100사이의 자연수를 입력하세요.: 20\n",
      "Down\n",
      "1부터 100사이의 자연수를 입력하세요.: 10\n",
      "Down\n",
      "1부터 100사이의 자연수를 입력하세요.: 5\n",
      "Down\n",
      "1부터 100사이의 자연수를 입력하세요.: 2\n",
      "5 번째에 맞췄습니다.\n",
      "2\n"
     ]
    }
   ],
   "source": [
    "import random\n",
    "num = random.randint(1,100)\n",
    "n = 1\n",
    "\n",
    "while True:\n",
    "    \n",
    "    play = int(input(\"1부터 100사이의 자연수를 입력하세요.: \"))\n",
    "    \n",
    "    if not 0 <= play <= 100:\n",
    "        \n",
    "        print(\"잘못된 입력입니다.\")\n",
    "        \n",
    "    else:\n",
    "        if play == num:\n",
    "        \n",
    "            print(f\"{n} 번째에 맞췄습니다.\")\n",
    "        \n",
    "            print(f\"{num}\")\n",
    "        \n",
    "            break\n",
    "        \n",
    "        elif play < num:\n",
    "        \n",
    "            print(\"Up\")\n",
    "    \n",
    "        elif play > num:\n",
    "        \n",
    "            print(\"Down\")\n",
    "    \n",
    "    n += 1"
   ]
  },
  {
   "cell_type": "markdown",
   "id": "e44f274e",
   "metadata": {},
   "source": [
    "## 반복문\n",
    " - 10,000 보다 큰 57과 83의 공배수 중 가장 작은 수를 출력"
   ]
  },
  {
   "cell_type": "code",
   "execution_count": 22,
   "id": "f66565eb",
   "metadata": {},
   "outputs": [
    {
     "data": {
      "text/plain": [
       "14193"
      ]
     },
     "execution_count": 22,
     "metadata": {},
     "output_type": "execute_result"
    }
   ],
   "source": [
    "n = 10000\n",
    "while True:\n",
    "    if ((n%57 == 0) and (n%83 == 0)):\n",
    "        break\n",
    "    n = n+1\n",
    "n"
   ]
  },
  {
   "cell_type": "code",
   "execution_count": null,
   "id": "629a84cd",
   "metadata": {},
   "outputs": [],
   "source": []
  }
 ],
 "metadata": {
  "kernelspec": {
   "display_name": "Python 3 (ipykernel)",
   "language": "python",
   "name": "python3"
  },
  "language_info": {
   "codemirror_mode": {
    "name": "ipython",
    "version": 3
   },
   "file_extension": ".py",
   "mimetype": "text/x-python",
   "name": "python",
   "nbconvert_exporter": "python",
   "pygments_lexer": "ipython3",
   "version": "3.9.12"
  }
 },
 "nbformat": 4,
 "nbformat_minor": 5
}
