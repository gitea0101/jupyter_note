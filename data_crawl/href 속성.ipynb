{
 "cells": [
  {
   "cell_type": "markdown",
   "metadata": {},
   "source": [
    " - a href = \"참조 url\"\n",
    " - 기본 추출코드 변수 = soup.select('a[href]')"
   ]
  },
  {
   "cell_type": "markdown",
   "metadata": {},
   "source": [
    "## 뉴스 페이지의 url 가져오기\n",
    " - 다음 페이지로 클릭 후 url 수집\n",
    " - 수집한 url이 열리는지 확인하기"
   ]
  },
  {
   "cell_type": "code",
   "execution_count": 61,
   "metadata": {},
   "outputs": [],
   "source": [
    "from selenium import webdriver\n",
    "from webdriver_manager.chrome import ChromeDriverManager\n",
    "from bs4 import BeautifulSoup as bs\n",
    "\n",
    "import time\n",
    "from selenium.webdriver.common.keys import Keys\n",
    "from selenium.webdriver.common.action_chains import ActionChains"
   ]
  },
  {
   "cell_type": "code",
   "execution_count": 44,
   "metadata": {},
   "outputs": [],
   "source": [
    "driver = webdriver.Chrome(ChromeDriverManager().install())\n",
    "\n",
    "driver.get(\"https://news.sbs.co.kr/news/newsflash.do?plink=NEW&cooper=SBSNEWSMAIN&pageIdx=1\")"
   ]
  },
  {
   "cell_type": "code",
   "execution_count": 79,
   "metadata": {},
   "outputs": [],
   "source": [
    "url_list = []\n",
    "title_list = []\n",
    "for n in range(1,2):\n",
    "    driver.get(f\"https://news.sbs.co.kr/news/newsflash.do?plink=NEW&cooper=SBSNEWSMAIN&pageIdx={n}\")\n",
    "    driver.implicitly_wait(1)\n",
    "    \n",
    "    soup = bs(driver.page_source, 'html.parser')\n",
    "    search = soup.select('a.news')\n",
    "    # serch2 = soup.find_all('a', class_='news')\n",
    "    \n",
    "    for i in search:\n",
    "        driver.get('https://news.sbs.co.kr' + i['href'])\n",
    "        driver.implicitly_wait(1)\n",
    "        \n",
    "        title = driver.find_element_by_css_selector('#vmNewsTitle')\n",
    "        title_list.append(title.text)\n",
    "        \n",
    "        driver.back()\n",
    "        \n",
    "        url_list.append('https://news.sbs.co.kr' + i['href'])\n",
    "\n"
   ]
  },
  {
   "cell_type": "code",
   "execution_count": 78,
   "metadata": {},
   "outputs": [
    {
     "data": {
      "text/plain": [
       "['[Pick] 시각장애인이 산 그 우유, 유통기한 점자 표시도 없었다',\n",
       " '윤 대통령 \"태양광, 이권 카르텔 비리에 혈세 사용돼 개탄…사법 처리\"',\n",
       " '미 \"EU와 전기차 세액공제안 계속 논의\"…한미도 곧 실무협의',\n",
       " \"[취재파일] '음주운전' 김민석, 밀라노올림픽 출전 불투명\",\n",
       " \"인천공항, 세계 유일 '5성급' 공인…고객경험인증 최고등급\",\n",
       " '인천상륙작전 72주년 전승 행사 개최…\"자유 · 평화 지킨 승리\"',\n",
       " '조응천 \"\\'탄핵\\' 입에 올릴 단어 아냐…언급할 가치도 없어\"',\n",
       " '친정팀 울린 홀란의 결승골…맨시티, 도르트문트에 2대 1 역전승',\n",
       " '국방차관, 미 국방 연구차관과 국방 · 방산 협력 논의',\n",
       " '[친절한 경제] 네이버 · 쿠팡서 면세품 살 수 있다…입국 수령도 가능']"
      ]
     },
     "execution_count": 78,
     "metadata": {},
     "output_type": "execute_result"
    }
   ],
   "source": [
    "title_list"
   ]
  },
  {
   "cell_type": "code",
   "execution_count": null,
   "metadata": {},
   "outputs": [],
   "source": []
  }
 ],
 "metadata": {
  "kernelspec": {
   "display_name": "Python 3.9.12 ('base')",
   "language": "python",
   "name": "python3"
  },
  "language_info": {
   "codemirror_mode": {
    "name": "ipython",
    "version": 3
   },
   "file_extension": ".py",
   "mimetype": "text/x-python",
   "name": "python",
   "nbconvert_exporter": "python",
   "pygments_lexer": "ipython3",
   "version": "3.9.12"
  },
  "orig_nbformat": 4,
  "vscode": {
   "interpreter": {
    "hash": "a077222d77dfe082b8f1dd562ad70e458ac2ab76993a0b248ab0476e32e9e8dd"
   }
  }
 },
 "nbformat": 4,
 "nbformat_minor": 2
}
