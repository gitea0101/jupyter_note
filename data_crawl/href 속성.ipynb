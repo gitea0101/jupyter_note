{
 "cells": [
  {
   "cell_type": "markdown",
   "metadata": {},
   "source": [
    " - a href = \"참조 url\"\n",
    " - 기본 추출코드 변수 = soup.select('a[href]')"
   ]
  },
  {
   "cell_type": "markdown",
   "metadata": {},
   "source": [
    "## 뉴스 페이지의 url 가져오기\n",
    " - 다음 페이지로 클릭 후 url 수집\n",
    " - 수집한 url이 열리는지 확인하기"
   ]
  },
  {
   "cell_type": "code",
   "execution_count": 5,
   "metadata": {},
   "outputs": [],
   "source": [
    "from selenium import webdriver\n",
    "from webdriver_manager.chrome import ChromeDriverManager\n",
    "from bs4 import BeautifulSoup as bs\n",
    "\n",
    "from selenium.webdriver.common.keys import Keys\n",
    "from selenium.webdriver.common.action_chains import ActionChains"
   ]
  },
  {
   "cell_type": "code",
   "execution_count": 2,
   "metadata": {},
   "outputs": [
    {
     "name": "stderr",
     "output_type": "stream",
     "text": [
      "[WDM] - Downloading: 100%|██████████| 6.68M/6.68M [00:00<00:00, 9.92MB/s]\n"
     ]
    }
   ],
   "source": [
    "driver = webdriver.Chrome(ChromeDriverManager().install())\n",
    "\n",
    "driver.get(\"https://news.sbs.co.kr/news/newsflash.do?plink=NEW&cooper=SBSNEWSMAIN&pageIdx=1\")"
   ]
  },
  {
   "cell_type": "code",
   "execution_count": 32,
   "metadata": {},
   "outputs": [],
   "source": [
    "url_list = []\n",
    "\n",
    "for n in range(1,6):\n",
    "    driver.get(f\"https://news.sbs.co.kr/news/newsflash.do?plink=NEW&cooper=SBSNEWSMAIN&pageIdx={n}\")\n",
    "    \n",
    "    soup = bs(driver.page_source, 'html.parser')\n",
    "    search = soup.select('a.news')\n",
    "    # serch2 = soup.find_all('a', class_='news')\n",
    "    \n",
    "    for i in search:\n",
    "        url_list.append('https://news.sbs.co.kr' + i['href'])"
   ]
  },
  {
   "cell_type": "code",
   "execution_count": 33,
   "metadata": {},
   "outputs": [
    {
     "name": "stdout",
     "output_type": "stream",
     "text": [
      "https://news.sbs.co.kr/news/endPage.do?news_id=N1006896846\n",
      "https://news.sbs.co.kr/news/endPage.do?news_id=N1006896903\n",
      "https://news.sbs.co.kr/news/endPage.do?news_id=N1006896850\n",
      "https://news.sbs.co.kr/news/endPage.do?news_id=N1006896789\n",
      "https://news.sbs.co.kr/news/endPage.do?news_id=N1006896739\n",
      "https://news.sbs.co.kr/news/endPage.do?news_id=N1006896742\n",
      "https://news.sbs.co.kr/news/endPage.do?news_id=N1006896741\n",
      "https://news.sbs.co.kr/news/endPage.do?news_id=N1006896740\n",
      "https://news.sbs.co.kr/news/endPage.do?news_id=N1006896738\n",
      "https://news.sbs.co.kr/news/endPage.do?news_id=N1006896736\n",
      "https://news.sbs.co.kr/news/endPage.do?news_id=N1006896775\n",
      "https://news.sbs.co.kr/news/endPage.do?news_id=N1006896771\n",
      "https://news.sbs.co.kr/news/endPage.do?news_id=N1006896735\n",
      "https://news.sbs.co.kr/news/endPage.do?news_id=N1006896737\n",
      "https://news.sbs.co.kr/news/endPage.do?news_id=N1006896758\n",
      "https://news.sbs.co.kr/news/endPage.do?news_id=N1006896734\n",
      "https://news.sbs.co.kr/news/endPage.do?news_id=N1006896772\n",
      "https://news.sbs.co.kr/news/endPage.do?news_id=N1006896733\n",
      "https://news.sbs.co.kr/news/endPage.do?news_id=N1006896732\n",
      "https://news.sbs.co.kr/news/endPage.do?news_id=N1006896696\n"
     ]
    }
   ],
   "source": [
    "for i in range(20):\n",
    "    print(url_list[i])"
   ]
  }
 ],
 "metadata": {
  "kernelspec": {
   "display_name": "Python 3.9.12 ('base')",
   "language": "python",
   "name": "python3"
  },
  "language_info": {
   "codemirror_mode": {
    "name": "ipython",
    "version": 3
   },
   "file_extension": ".py",
   "mimetype": "text/x-python",
   "name": "python",
   "nbconvert_exporter": "python",
   "pygments_lexer": "ipython3",
   "version": "3.9.12"
  },
  "orig_nbformat": 4,
  "vscode": {
   "interpreter": {
    "hash": "a077222d77dfe082b8f1dd562ad70e458ac2ab76993a0b248ab0476e32e9e8dd"
   }
  }
 },
 "nbformat": 4,
 "nbformat_minor": 2
}
