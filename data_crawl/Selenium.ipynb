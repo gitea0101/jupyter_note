{
 "cells": [
  {
   "cell_type": "code",
   "execution_count": 19,
   "id": "1c647a46",
   "metadata": {},
   "outputs": [
    {
     "name": "stdout",
     "output_type": "stream",
     "text": [
      "Collecting webdriver-manager\n",
      "  Downloading webdriver_manager-3.8.3-py2.py3-none-any.whl (26 kB)\n",
      "Requirement already satisfied: requests in c:\\users\\user\\anaconda3\\lib\\site-packages (from webdriver-manager) (2.27.1)\n",
      "Collecting python-dotenv\n",
      "  Downloading python_dotenv-0.21.0-py3-none-any.whl (18 kB)\n",
      "Requirement already satisfied: tqdm in c:\\users\\user\\anaconda3\\lib\\site-packages (from webdriver-manager) (4.64.0)\n",
      "Requirement already satisfied: urllib3<1.27,>=1.21.1 in c:\\users\\user\\anaconda3\\lib\\site-packages (from requests->webdriver-manager) (1.26.9)\n",
      "Requirement already satisfied: idna<4,>=2.5 in c:\\users\\user\\anaconda3\\lib\\site-packages (from requests->webdriver-manager) (3.3)\n",
      "Requirement already satisfied: certifi>=2017.4.17 in c:\\users\\user\\anaconda3\\lib\\site-packages (from requests->webdriver-manager) (2021.10.8)\n",
      "Requirement already satisfied: charset-normalizer~=2.0.0 in c:\\users\\user\\anaconda3\\lib\\site-packages (from requests->webdriver-manager) (2.0.4)\n",
      "Requirement already satisfied: colorama in c:\\users\\user\\anaconda3\\lib\\site-packages (from tqdm->webdriver-manager) (0.4.4)\n",
      "Installing collected packages: python-dotenv, webdriver-manager\n",
      "Successfully installed python-dotenv-0.21.0 webdriver-manager-3.8.3\n"
     ]
    }
   ],
   "source": [
    "# !pip install selenium==3.141.0\n",
    "# !pip install webdriver-manager"
   ]
  },
  {
   "cell_type": "code",
   "execution_count": 27,
   "id": "ad06c4c7",
   "metadata": {},
   "outputs": [],
   "source": [
    "# from selenium import webdriver\n",
    "\n",
    "# driver = webdriver.Chrome(r\"C:\\Users\\user\\jupyter_note\\data_crawl\\chromedriver.exe\")\n",
    "# driver = webdriver.Edge(r\"C:\\Users\\user\\jupyter_note\\data_crawl\\msedgedriver.exe\")"
   ]
  },
  {
   "cell_type": "code",
   "execution_count": 1,
   "id": "3af17dd1",
   "metadata": {},
   "outputs": [
    {
     "name": "stderr",
     "output_type": "stream",
     "text": [
      "[WDM] - Downloading: 100%|██████████| 6.68M/6.68M [00:00<00:00, 11.0MB/s]\n"
     ]
    }
   ],
   "source": [
    "from selenium import webdriver\n",
    "from webdriver_manager.chrome import ChromeDriverManager\n",
    "\n",
    "driver = webdriver.Chrome(ChromeDriverManager().install())\n",
    "\n",
    "# from selenium import webdriver\n",
    "# from webdriver_manager.microsoft import EdgeChromiumDriverManager\n",
    "\n",
    "# driver = webdriver.Edge(EdgeChromiumDriverManager().install())"
   ]
  },
  {
   "cell_type": "markdown",
   "id": "59f8051b",
   "metadata": {},
   "source": [
    " - 창크기\n",
    "     - 최대화 driver.maximize_window()\n",
    "     - 최소화 driver.minimize_window()\n",
    "\n",
    " - 닫기\n",
    "     - 현재 탭 driver.close()\n",
    "     - 브라우저 sriver.quit()\n",
    "\n",
    " - 뒤로가기 driver.back()\n",
    " - 앞으로가기 driver.forward()\n",
    " - 해당 탭으로 이동 driver.switch_to.window(driver.window_handles[0])\n",
    "     - 0번째 인덱스 = 첫번째 탭으로 이동"
   ]
  },
  {
   "cell_type": "markdown",
   "id": "cf20af65",
   "metadata": {},
   "source": [
    " ### element 해당 선택자에 해당하는 첫번째 하나의 요소가 선택됨\n",
    " - find_elements_by_css_selector('')\n",
    " - find_elements_by_xpath('')\n",
    "     - 절대 주소에 접속\n",
    "\n",
    "\n",
    " ### elements 해당 선택자에 해당하는 모든 요소가 선택됨\n",
    " - find_elements_by_name('')\n",
    " - find_elements_by_id('')\n",
    "\n",
    "  - soup.find ('html 태그', class = '클래스이름')\n",
    "  - soup.find_all"
   ]
  },
  {
   "cell_type": "code",
   "execution_count": 2,
   "id": "b606c1c6",
   "metadata": {},
   "outputs": [],
   "source": [
    "from selenium.webdriver.common.keys import Keys"
   ]
  },
  {
   "cell_type": "markdown",
   "id": "37cd10a7",
   "metadata": {},
   "source": [
    " - search.send_keys('') 문자입력 \n",
    " - search.send_keys(Keys.ENTER) 엔터키\n",
    " - search.click() 마우스 클릭"
   ]
  },
  {
   "cell_type": "code",
   "execution_count": 49,
   "id": "65674478",
   "metadata": {},
   "outputs": [],
   "source": [
    "driver = webdriver.Chrome(ChromeDriverManager().install())"
   ]
  },
  {
   "cell_type": "code",
   "execution_count": 85,
   "id": "4a851708",
   "metadata": {},
   "outputs": [],
   "source": [
    "driver.get(\"https://www.naver.com/\")"
   ]
  },
  {
   "cell_type": "code",
   "execution_count": 71,
   "id": "7251d4c1",
   "metadata": {},
   "outputs": [],
   "source": [
    "#엔터 버튼\n",
    "search = driver.find_element_by_css_selector(\"#query\")\n",
    "search.send_keys(\"코로나\")\n",
    "search.send_keys(Keys.ENTER)"
   ]
  },
  {
   "cell_type": "code",
   "execution_count": 72,
   "id": "6633bc34",
   "metadata": {},
   "outputs": [],
   "source": [
    "driver.back()"
   ]
  },
  {
   "cell_type": "code",
   "execution_count": 73,
   "id": "242a658c",
   "metadata": {},
   "outputs": [],
   "source": [
    "#마우스 클릭\n",
    "search = driver.find_element_by_css_selector(\"#query\")\n",
    "search.send_keys(\"코로나\")\n",
    "\n",
    "btn = driver.find_element_by_xpath('//*[@id=\"search_btn\"]')\n",
    "btn.click()"
   ]
  },
  {
   "cell_type": "code",
   "execution_count": 74,
   "id": "d9c94050",
   "metadata": {},
   "outputs": [],
   "source": [
    "driver.back()\n",
    "# driver.quit()"
   ]
  },
  {
   "cell_type": "code",
   "execution_count": 4,
   "id": "b44b8143",
   "metadata": {},
   "outputs": [],
   "source": [
    "driver.execute_script(\"window.open('https://google.com');\")"
   ]
  },
  {
   "cell_type": "code",
   "execution_count": 5,
   "id": "b90b8e28",
   "metadata": {},
   "outputs": [],
   "source": [
    "# from selenium.webdriver.common.action_chains import ActionChains"
   ]
  },
  {
   "cell_type": "code",
   "execution_count": 6,
   "id": "39c5d713",
   "metadata": {},
   "outputs": [],
   "source": [
    "# actions = ActionChains(driver) 액션 체인 생성\n",
    "# actions.move_to_element() 원하는요소로 마우스를 움직이는 명령어\n",
    "# actions.clilck(버튼 elements path)"
   ]
  },
  {
   "cell_type": "markdown",
   "id": "d0ac389d",
   "metadata": {},
   "source": [
    "## 한솥 도시락 메뉴 크롤링\n",
    "    - 최대화 상태로 수집\n",
    "    - 메뉴이름, 가격 수집\n",
    "    - 더 보기를 눌러 모든 메뉴 수집"
   ]
  },
  {
   "cell_type": "code",
   "execution_count": 60,
   "id": "2d3b0637",
   "metadata": {},
   "outputs": [],
   "source": [
    "from selenium import webdriver\n",
    "from webdriver_manager.chrome import ChromeDriverManager\n",
    "\n",
    "from selenium.webdriver.common.keys import Keys\n",
    "from selenium.webdriver.common.action_chains import ActionChains\n",
    "\n",
    "import time\n",
    "\n",
    "driver = webdriver.Chrome(ChromeDriverManager().install())"
   ]
  },
  {
   "cell_type": "code",
   "execution_count": 61,
   "id": "a645c140",
   "metadata": {},
   "outputs": [],
   "source": [
    "driver.maximize_window()\n",
    "driver.get(\"https://www.hsd.co.kr/\")"
   ]
  },
  {
   "cell_type": "code",
   "execution_count": 62,
   "id": "60ef8191",
   "metadata": {},
   "outputs": [],
   "source": [
    "menu = driver.find_element_by_xpath('//*[@id=\"gnb\"]/div[2]/ul/li[3]/p/a')\n",
    "all_menu = driver.find_element_by_xpath('//*[@id=\"gnb\"]/div[2]/ul/li[3]/div/ul/li[1]/a')"
   ]
  },
  {
   "cell_type": "code",
   "execution_count": 63,
   "id": "864877b9",
   "metadata": {},
   "outputs": [],
   "source": [
    "#액션만들기\n",
    "actions = ActionChains(driver)\n",
    "#메뉴버튼 \n",
    "actions.move_to_element(menu)\n",
    "#전체메뉴 클릭하기\n",
    "actions.click(all_menu)\n",
    "#액션 실행\n",
    "actions.perform()"
   ]
  },
  {
   "cell_type": "code",
   "execution_count": 46,
   "id": "22778c2e",
   "metadata": {},
   "outputs": [],
   "source": [
    "# 더보기 클릭\n",
    "more = driver.find_element_by_xpath('//*[@id=\"btn_more\"]/span/a')\n",
    "while True:\n",
    "    try:\n",
    "        btn = driver.find_element_by_css_selector('#btn_more > span > a')\n",
    "        btn.click()\n",
    "        time.sleep(1)\n",
    "        # actions = ActionChains(driver)\n",
    "        # actions.move_to_element(more)\n",
    "        # actions.click(more)\n",
    "        # actions.perform()\n",
    "    except:\n",
    "        break\n"
   ]
  },
  {
   "cell_type": "code",
   "execution_count": 58,
   "id": "6242b34b",
   "metadata": {},
   "outputs": [
    {
     "data": {
      "text/plain": [
       "94"
      ]
     },
     "execution_count": 58,
     "metadata": {},
     "output_type": "execute_result"
    }
   ],
   "source": [
    "#메뉴 이름 여러개 할때 elements 하나는 element\n",
    "title = driver.find_elements_by_css_selector('div.item-text>h4.h.fz_03')\n",
    "\n",
    "len(title)"
   ]
  },
  {
   "cell_type": "code",
   "execution_count": 48,
   "id": "209d6c38",
   "metadata": {},
   "outputs": [
    {
     "data": {
      "text/plain": [
       "94"
      ]
     },
     "execution_count": 48,
     "metadata": {},
     "output_type": "execute_result"
    }
   ],
   "source": [
    "#가격\n",
    "price = driver.find_elements_by_css_selector('div.item-price>strong')\n",
    "\n",
    "len(title)"
   ]
  },
  {
   "cell_type": "code",
   "execution_count": 55,
   "id": "8fc871c4",
   "metadata": {},
   "outputs": [],
   "source": [
    "title_list = []\n",
    "for i in title:\n",
    "    title_list.append(i.text)\n",
    "    \n",
    "price_list = []\n",
    "for i in price:\n",
    "    price_list.append(i.text)"
   ]
  },
  {
   "cell_type": "code",
   "execution_count": 56,
   "metadata": {},
   "outputs": [],
   "source": [
    "data = {'메뉴명' : title_list, '가격' : price_list}"
   ]
  },
  {
   "cell_type": "code",
   "execution_count": 57,
   "id": "e38262a5",
   "metadata": {},
   "outputs": [
    {
     "data": {
      "text/html": [
       "<div>\n",
       "<style scoped>\n",
       "    .dataframe tbody tr th:only-of-type {\n",
       "        vertical-align: middle;\n",
       "    }\n",
       "\n",
       "    .dataframe tbody tr th {\n",
       "        vertical-align: top;\n",
       "    }\n",
       "\n",
       "    .dataframe thead th {\n",
       "        text-align: right;\n",
       "    }\n",
       "</style>\n",
       "<table border=\"1\" class=\"dataframe\">\n",
       "  <thead>\n",
       "    <tr style=\"text-align: right;\">\n",
       "      <th></th>\n",
       "      <th>메뉴명</th>\n",
       "      <th>가격</th>\n",
       "    </tr>\n",
       "  </thead>\n",
       "  <tbody>\n",
       "    <tr>\n",
       "      <th>0</th>\n",
       "      <td>데미햄버그 불고기 파스타</td>\n",
       "      <td>5,200</td>\n",
       "    </tr>\n",
       "    <tr>\n",
       "      <th>1</th>\n",
       "      <td>데미햄버그 불고기 덮밥</td>\n",
       "      <td>4,800</td>\n",
       "    </tr>\n",
       "    <tr>\n",
       "      <th>2</th>\n",
       "      <td>아보카도 게맛살 명란비빔밥</td>\n",
       "      <td>6,500</td>\n",
       "    </tr>\n",
       "    <tr>\n",
       "      <th>3</th>\n",
       "      <td>아보카도 소고기 명란비빔밥</td>\n",
       "      <td>6,500</td>\n",
       "    </tr>\n",
       "    <tr>\n",
       "      <th>4</th>\n",
       "      <td>핫 치즈 닭갈비덮밥</td>\n",
       "      <td>5,900</td>\n",
       "    </tr>\n",
       "    <tr>\n",
       "      <th>...</th>\n",
       "      <td>...</td>\n",
       "      <td>...</td>\n",
       "    </tr>\n",
       "    <tr>\n",
       "      <th>89</th>\n",
       "      <td>무말랭이 무침</td>\n",
       "      <td>400</td>\n",
       "    </tr>\n",
       "    <tr>\n",
       "      <th>90</th>\n",
       "      <td>한솥밥</td>\n",
       "      <td>1,000</td>\n",
       "    </tr>\n",
       "    <tr>\n",
       "      <th>91</th>\n",
       "      <td>현미밥</td>\n",
       "      <td>1,700</td>\n",
       "    </tr>\n",
       "    <tr>\n",
       "      <th>92</th>\n",
       "      <td>리얼 티라미수 찰떡</td>\n",
       "      <td>1,500</td>\n",
       "    </tr>\n",
       "    <tr>\n",
       "      <th>93</th>\n",
       "      <td>리얼꿀 미니호떡</td>\n",
       "      <td>2,200</td>\n",
       "    </tr>\n",
       "  </tbody>\n",
       "</table>\n",
       "<p>94 rows × 2 columns</p>\n",
       "</div>"
      ],
      "text/plain": [
       "               메뉴명     가격\n",
       "0    데미햄버그 불고기 파스타  5,200\n",
       "1     데미햄버그 불고기 덮밥  4,800\n",
       "2   아보카도 게맛살 명란비빔밥  6,500\n",
       "3   아보카도 소고기 명란비빔밥  6,500\n",
       "4       핫 치즈 닭갈비덮밥  5,900\n",
       "..             ...    ...\n",
       "89         무말랭이 무침    400\n",
       "90             한솥밥  1,000\n",
       "91             현미밥  1,700\n",
       "92      리얼 티라미수 찰떡  1,500\n",
       "93        리얼꿀 미니호떡  2,200\n",
       "\n",
       "[94 rows x 2 columns]"
      ]
     },
     "execution_count": 57,
     "metadata": {},
     "output_type": "execute_result"
    }
   ],
   "source": [
    "import pandas as pd\n",
    "food = pd.DataFrame(data)\n",
    "food"
   ]
  },
  {
   "cell_type": "markdown",
   "id": "7a48d820",
   "metadata": {},
   "source": [
    "### BeautifulSoup으로 진행"
   ]
  },
  {
   "cell_type": "code",
   "execution_count": 70,
   "id": "5e96107a",
   "metadata": {},
   "outputs": [],
   "source": [
    "from bs4 import BeautifulSoup as bs\n",
    "\n",
    "driver = webdriver.Chrome(ChromeDriverManager().install())\n",
    "\n",
    "driver.maximize_window()\n",
    "driver.get(\"https://www.hsd.co.kr/\")\n",
    "\n",
    "menu = driver.find_element_by_xpath('//*[@id=\"gnb\"]/div[2]/ul/li[3]/p/a')\n",
    "all_menu = driver.find_element_by_xpath('//*[@id=\"gnb\"]/div[2]/ul/li[3]/div/ul/li[1]/a')\n",
    "\n",
    "#액션만들기\n",
    "actions = ActionChains(driver)\n",
    "#메뉴버튼 \n",
    "actions.move_to_element(menu)\n",
    "#전체메뉴 클릭하기\n",
    "actions.click(all_menu)\n",
    "#액션 실행\n",
    "actions.perform()\n",
    "\n",
    "# 더보기 클릭\n",
    "more = driver.find_element_by_xpath('//*[@id=\"btn_more\"]/span/a')\n",
    "while True:\n",
    "    try:\n",
    "        btn = driver.find_element_by_css_selector('#btn_more > span > a')\n",
    "        btn.click()\n",
    "        time.sleep(1)\n",
    "    except:\n",
    "        break"
   ]
  },
  {
   "cell_type": "code",
   "execution_count": 71,
   "id": "cf3ec005",
   "metadata": {},
   "outputs": [
    {
     "data": {
      "text/plain": [
       "(94, 94)"
      ]
     },
     "execution_count": 71,
     "metadata": {},
     "output_type": "execute_result"
    }
   ],
   "source": [
    "soup = bs(driver.page_source, 'html.parser')\n",
    "\n",
    "title_bs = soup.select('h4.h.fz_03')\n",
    "price_bs = soup.select('div.item-price>strong')\n",
    "\n",
    "len(title_bs) , len(price_bs)"
   ]
  },
  {
   "cell_type": "code",
   "execution_count": 72,
   "id": "1d46e828",
   "metadata": {},
   "outputs": [
    {
     "data": {
      "text/html": [
       "<div>\n",
       "<style scoped>\n",
       "    .dataframe tbody tr th:only-of-type {\n",
       "        vertical-align: middle;\n",
       "    }\n",
       "\n",
       "    .dataframe tbody tr th {\n",
       "        vertical-align: top;\n",
       "    }\n",
       "\n",
       "    .dataframe thead th {\n",
       "        text-align: right;\n",
       "    }\n",
       "</style>\n",
       "<table border=\"1\" class=\"dataframe\">\n",
       "  <thead>\n",
       "    <tr style=\"text-align: right;\">\n",
       "      <th></th>\n",
       "      <th>메뉴명</th>\n",
       "      <th>가격</th>\n",
       "    </tr>\n",
       "  </thead>\n",
       "  <tbody>\n",
       "    <tr>\n",
       "      <th>0</th>\n",
       "      <td>데미햄버그 불고기 파스타</td>\n",
       "      <td>5,200</td>\n",
       "    </tr>\n",
       "    <tr>\n",
       "      <th>1</th>\n",
       "      <td>데미햄버그 불고기 덮밥</td>\n",
       "      <td>4,800</td>\n",
       "    </tr>\n",
       "    <tr>\n",
       "      <th>2</th>\n",
       "      <td>아보카도 게맛살 명란비빔밥</td>\n",
       "      <td>6,500</td>\n",
       "    </tr>\n",
       "    <tr>\n",
       "      <th>3</th>\n",
       "      <td>아보카도 소고기 명란비빔밥</td>\n",
       "      <td>6,500</td>\n",
       "    </tr>\n",
       "    <tr>\n",
       "      <th>4</th>\n",
       "      <td>핫 치즈 닭갈비덮밥</td>\n",
       "      <td>5,900</td>\n",
       "    </tr>\n",
       "    <tr>\n",
       "      <th>...</th>\n",
       "      <td>...</td>\n",
       "      <td>...</td>\n",
       "    </tr>\n",
       "    <tr>\n",
       "      <th>89</th>\n",
       "      <td>무말랭이 무침</td>\n",
       "      <td>400</td>\n",
       "    </tr>\n",
       "    <tr>\n",
       "      <th>90</th>\n",
       "      <td>한솥밥</td>\n",
       "      <td>1,000</td>\n",
       "    </tr>\n",
       "    <tr>\n",
       "      <th>91</th>\n",
       "      <td>현미밥</td>\n",
       "      <td>1,700</td>\n",
       "    </tr>\n",
       "    <tr>\n",
       "      <th>92</th>\n",
       "      <td>리얼 티라미수 찰떡</td>\n",
       "      <td>1,500</td>\n",
       "    </tr>\n",
       "    <tr>\n",
       "      <th>93</th>\n",
       "      <td>리얼꿀 미니호떡</td>\n",
       "      <td>2,200</td>\n",
       "    </tr>\n",
       "  </tbody>\n",
       "</table>\n",
       "<p>94 rows × 2 columns</p>\n",
       "</div>"
      ],
      "text/plain": [
       "               메뉴명     가격\n",
       "0    데미햄버그 불고기 파스타  5,200\n",
       "1     데미햄버그 불고기 덮밥  4,800\n",
       "2   아보카도 게맛살 명란비빔밥  6,500\n",
       "3   아보카도 소고기 명란비빔밥  6,500\n",
       "4       핫 치즈 닭갈비덮밥  5,900\n",
       "..             ...    ...\n",
       "89         무말랭이 무침    400\n",
       "90             한솥밥  1,000\n",
       "91             현미밥  1,700\n",
       "92      리얼 티라미수 찰떡  1,500\n",
       "93        리얼꿀 미니호떡  2,200\n",
       "\n",
       "[94 rows x 2 columns]"
      ]
     },
     "execution_count": 72,
     "metadata": {},
     "output_type": "execute_result"
    }
   ],
   "source": [
    "title_list = []\n",
    "for i in title_bs:\n",
    "    title_list.append(i.text)\n",
    "    \n",
    "price_list = []\n",
    "for i in price_bs:\n",
    "    price_list.append(i.text)\n",
    "    \n",
    "data = {'메뉴명' : title_list, '가격' : price_list}\n",
    "\n",
    "food = pd.DataFrame(data)\n",
    "food"
   ]
  },
  {
   "cell_type": "markdown",
   "id": "71caa92c",
   "metadata": {},
   "source": [
    "## Gmarket 베스트셀러\n",
    "    - 상품이름, 가격, 카테고리"
   ]
  },
  {
   "cell_type": "code",
   "execution_count": 147,
   "id": "5859ca19",
   "metadata": {},
   "outputs": [],
   "source": [
    "driver = webdriver.Chrome(ChromeDriverManager().install())\n",
    "driver.maximize_window()\n",
    "driver.get('https://corners.gmarket.co.kr/Bestsellers/')"
   ]
  },
  {
   "cell_type": "code",
   "execution_count": 152,
   "id": "498c791b",
   "metadata": {},
   "outputs": [],
   "source": [
    "category_list =[]\n",
    "price_list=[]\n",
    "name_list=[]\n",
    "\n",
    "for i in range(200):\n",
    "    \n",
    "    a = driver.find_element_by_css_selector(f'li:nth-child({i+1}) > div.thumb > a > img')\n",
    "    a.click()\n",
    "    \n",
    "    driver.implicitly_wait(5)\n",
    "    \n",
    "    category = driver.find_element_by_css_selector('li.on > a')\n",
    "    price = driver.find_element_by_css_selector('strong.price_real')\n",
    "    name = driver.find_element_by_css_selector('h1.itemtit')\n",
    "\n",
    "    category_list.append(category.text)\n",
    "    price_list.append(price.text)\n",
    "    name_list.append(name.text)\n",
    "    driver.back()\n",
    "    \n",
    "    driver.implicitly_wait(5)\n",
    "\n",
    "# category_list2 =[]\n",
    "# price_list2=[]\n",
    "# name_list2=[]\n",
    "\n",
    "# for i in range(200):\n",
    "    \n",
    "#     img = driver.find_elements_by_css_selector('img.lagy')\n",
    "#     img[i].click()\n",
    "    \n",
    "#     driver.implicitly_wait(5)\n",
    "    \n",
    "#     category = driver.find_element_by_css_selector('li.on > a')\n",
    "#     price = driver.find_element_by_css_selector('strong.price_real')\n",
    "#     name = driver.find_element_by_css_selector('h1.itemtit')\n",
    "\n",
    "#     category_list.append(category.text)\n",
    "#     price_list.append(price.text)\n",
    "#     name_list.append(name.text)\n",
    "#     driver.back()\n",
    "    \n",
    "#     driver.implicitly_wait(5)"
   ]
  },
  {
   "cell_type": "code",
   "execution_count": 153,
   "metadata": {},
   "outputs": [
    {
     "data": {
      "text/plain": [
       "(200, 200, 200)"
      ]
     },
     "execution_count": 153,
     "metadata": {},
     "output_type": "execute_result"
    }
   ],
   "source": [
    "len(price_list), len(name_list) , len(category_list)\n"
   ]
  },
  {
   "cell_type": "code",
   "execution_count": 155,
   "id": "64df3b67",
   "metadata": {},
   "outputs": [
    {
     "data": {
      "text/html": [
       "<div>\n",
       "<style scoped>\n",
       "    .dataframe tbody tr th:only-of-type {\n",
       "        vertical-align: middle;\n",
       "    }\n",
       "\n",
       "    .dataframe tbody tr th {\n",
       "        vertical-align: top;\n",
       "    }\n",
       "\n",
       "    .dataframe thead th {\n",
       "        text-align: right;\n",
       "    }\n",
       "</style>\n",
       "<table border=\"1\" class=\"dataframe\">\n",
       "  <thead>\n",
       "    <tr style=\"text-align: right;\">\n",
       "      <th></th>\n",
       "      <th>카테고리</th>\n",
       "      <th>제품명</th>\n",
       "      <th>가격</th>\n",
       "    </tr>\n",
       "  </thead>\n",
       "  <tbody>\n",
       "    <tr>\n",
       "      <th>0</th>\n",
       "      <td>메가박스</td>\n",
       "      <td>(스마일클럽)일반예매권2D-주중/주말</td>\n",
       "      <td>8,500원</td>\n",
       "    </tr>\n",
       "    <tr>\n",
       "      <th>1</th>\n",
       "      <td>생수</td>\n",
       "      <td>스파클생수 2L 30병</td>\n",
       "      <td>15,900원</td>\n",
       "    </tr>\n",
       "    <tr>\n",
       "      <th>2</th>\n",
       "      <td>새우</td>\n",
       "      <td>생물 새우 1kg 35-45미/14900원(중복할인20%+스마일12% 쿠폰가)/국내산</td>\n",
       "      <td>21,900원</td>\n",
       "    </tr>\n",
       "    <tr>\n",
       "      <th>3</th>\n",
       "      <td>브이넥니트</td>\n",
       "      <td>너의지금 20%쿠폰 신상니트 가디건/롱/세트/가을신상/크롭/박스/루즈핏/긴팔</td>\n",
       "      <td>8,900원</td>\n",
       "    </tr>\n",
       "    <tr>\n",
       "      <th>4</th>\n",
       "      <td>전집/세트</td>\n",
       "      <td>(타임주니어) Around the World / Magic of mirror 선택구매</td>\n",
       "      <td>42,300원</td>\n",
       "    </tr>\n",
       "    <tr>\n",
       "      <th>...</th>\n",
       "      <td>...</td>\n",
       "      <td>...</td>\n",
       "      <td>...</td>\n",
       "    </tr>\n",
       "    <tr>\n",
       "      <th>195</th>\n",
       "      <td>포도</td>\n",
       "      <td>고당도 산지직송 15브릭스이상 샤인머스켓 2kg 3~4입 쿠폰가 31600원</td>\n",
       "      <td>39,500원</td>\n",
       "    </tr>\n",
       "    <tr>\n",
       "      <th>196</th>\n",
       "      <td>복사용지</td>\n",
       "      <td>더블에이 A4 복사용지 80g 4000매 2BOX/A4용지</td>\n",
       "      <td>48,110원</td>\n",
       "    </tr>\n",
       "    <tr>\n",
       "      <th>197</th>\n",
       "      <td>수건/타월</td>\n",
       "      <td>호텔수건 초고중량 타올 220g 수건 10장 수건세트 두툼한 호텔타올</td>\n",
       "      <td>37,680원</td>\n",
       "    </tr>\n",
       "    <tr>\n",
       "      <th>198</th>\n",
       "      <td>커피믹스</td>\n",
       "      <td>맥심 카누 미니 마일드로스트 아메리카노150T</td>\n",
       "      <td>29,800원</td>\n",
       "    </tr>\n",
       "    <tr>\n",
       "      <th>199</th>\n",
       "      <td>학습교구</td>\n",
       "      <td>LEGO 사이언스 스타트 2종(판타스틱 머신 + 기어 봇)</td>\n",
       "      <td>58,000원</td>\n",
       "    </tr>\n",
       "  </tbody>\n",
       "</table>\n",
       "<p>200 rows × 3 columns</p>\n",
       "</div>"
      ],
      "text/plain": [
       "      카테고리                                              제품명       가격\n",
       "0     메가박스                             (스마일클럽)일반예매권2D-주중/주말   8,500원\n",
       "1       생수                                     스파클생수 2L 30병  15,900원\n",
       "2       새우  생물 새우 1kg 35-45미/14900원(중복할인20%+스마일12% 쿠폰가)/국내산  21,900원\n",
       "3    브이넥니트       너의지금 20%쿠폰 신상니트 가디건/롱/세트/가을신상/크롭/박스/루즈핏/긴팔   8,900원\n",
       "4    전집/세트  (타임주니어) Around the World / Magic of mirror 선택구매  42,300원\n",
       "..     ...                                              ...      ...\n",
       "195     포도       고당도 산지직송 15브릭스이상 샤인머스켓 2kg 3~4입 쿠폰가 31600원  39,500원\n",
       "196   복사용지                 더블에이 A4 복사용지 80g 4000매 2BOX/A4용지  48,110원\n",
       "197  수건/타월           호텔수건 초고중량 타올 220g 수건 10장 수건세트 두툼한 호텔타올  37,680원\n",
       "198   커피믹스                        맥심 카누 미니 마일드로스트 아메리카노150T  29,800원\n",
       "199   학습교구                 LEGO 사이언스 스타트 2종(판타스틱 머신 + 기어 봇)  58,000원\n",
       "\n",
       "[200 rows x 3 columns]"
      ]
     },
     "execution_count": 155,
     "metadata": {},
     "output_type": "execute_result"
    }
   ],
   "source": [
    "data = {'카테고리' : category_list, '제품명' : name_list, '가격' : price_list}\n",
    "df = pd.DataFrame(data)\n",
    "df"
   ]
  },
  {
   "cell_type": "code",
   "execution_count": null,
   "id": "33ba0181",
   "metadata": {},
   "outputs": [],
   "source": []
  }
 ],
 "metadata": {
  "kernelspec": {
   "display_name": "Python 3.9.12 ('base')",
   "language": "python",
   "name": "python3"
  },
  "language_info": {
   "codemirror_mode": {
    "name": "ipython",
    "version": 3
   },
   "file_extension": ".py",
   "mimetype": "text/x-python",
   "name": "python",
   "nbconvert_exporter": "python",
   "pygments_lexer": "ipython3",
   "version": "3.9.12"
  },
  "vscode": {
   "interpreter": {
    "hash": "a077222d77dfe082b8f1dd562ad70e458ac2ab76993a0b248ab0476e32e9e8dd"
   }
  }
 },
 "nbformat": 4,
 "nbformat_minor": 5
}
