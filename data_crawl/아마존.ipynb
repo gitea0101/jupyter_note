{
 "cells": [
  {
   "cell_type": "code",
   "execution_count": 6,
   "metadata": {},
   "outputs": [],
   "source": [
    "from selenium import webdriver\n",
    "from webdriver_manager.chrome import ChromeDriverManager\n",
    "from bs4 import BeautifulSoup as bs\n",
    "\n",
    "import time\n",
    "from selenium.webdriver.common.keys import Keys\n",
    "from selenium.webdriver.common.action_chains import ActionChains"
   ]
  },
  {
   "cell_type": "code",
   "execution_count": 2,
   "metadata": {},
   "outputs": [
    {
     "name": "stderr",
     "output_type": "stream",
     "text": [
      "[WDM] - Downloading: 100%|██████████| 6.68M/6.68M [00:00<00:00, 11.4MB/s]\n"
     ]
    }
   ],
   "source": [
    "driver = webdriver.Chrome(ChromeDriverManager().install())\n",
    "\n",
    "driver.get(\"https://www.amazon.com/\")"
   ]
  },
  {
   "cell_type": "code",
   "execution_count": 23,
   "metadata": {},
   "outputs": [],
   "source": [
    "a = driver.find_element_by_css_selector('#twotabsearchtextbox')\n",
    "\n",
    "a.click()\n",
    "a.send_keys('nature republic')\n",
    "a.send_keys(Keys.ENTER)\n",
    "time.sleep(1)\n",
    "soup = bs(driver.page_source, 'html.parser')\n",
    "search = soup.select('span > a.a-link-normal.s-no-outline')\n",
    "time.sleep(1)\n",
    "\n",
    "n=0\n",
    "for i in search:\n",
    "    if (n < 8):\n",
    "        n= n+1\n",
    "        continue\n",
    "    elif(n > 10):\n",
    "        break\n",
    "    driver.get('https://www.amazon.com' + i['href'])\n",
    "    time.sleep(0.3)\n",
    "    driver.back()\n",
    "    time.sleep(0.3)\n",
    "    n= n+1"
   ]
  }
 ],
 "metadata": {
  "kernelspec": {
   "display_name": "Python 3.9.12 ('base')",
   "language": "python",
   "name": "python3"
  },
  "language_info": {
   "codemirror_mode": {
    "name": "ipython",
    "version": 3
   },
   "file_extension": ".py",
   "mimetype": "text/x-python",
   "name": "python",
   "nbconvert_exporter": "python",
   "pygments_lexer": "ipython3",
   "version": "3.9.12"
  },
  "orig_nbformat": 4,
  "vscode": {
   "interpreter": {
    "hash": "a077222d77dfe082b8f1dd562ad70e458ac2ab76993a0b248ab0476e32e9e8dd"
   }
  }
 },
 "nbformat": 4,
 "nbformat_minor": 2
}
