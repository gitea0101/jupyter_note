{
 "cells": [
  {
   "cell_type": "markdown",
   "metadata": {},
   "source": [
    "### 텍스트 정제\n",
    "- 형태소 분석 (split)\n",
    "    - 태그만 추출, 사용\n",
    "- .morphs() : 형태소 단위로 분리\n",
    "- .nouns() : 명사만 추출\n",
    "- .pos() : 품사 태깅"
   ]
  },
  {
   "cell_type": "markdown",
   "metadata": {},
   "source": [
    "### okt 만 제공하는 함수\n",
    "- 문장 정규화 okt.morphs(text, norm=True)\n",
    "- 어간 추출 okt.morphs(text, stem=True)\n",
    "- 동시사용 okt.morphs(text, norm=True,stem=true)"
   ]
  },
  {
   "cell_type": "code",
   "execution_count": 8,
   "metadata": {},
   "outputs": [
    {
     "data": {
      "text/plain": [
       "['설치', '가', '잘', '되었는지', '확인', '해봅시다', '.']"
      ]
     },
     "execution_count": 8,
     "metadata": {},
     "output_type": "execute_result"
    }
   ],
   "source": [
    "from konlpy.tag import Okt\n",
    "okt=Okt()\n",
    "\n",
    "okt.morphs('설치가 잘 되었는지 확인 해봅시다.')\n"
   ]
  },
  {
   "cell_type": "code",
   "execution_count": 15,
   "metadata": {},
   "outputs": [
    {
     "data": {
      "text/plain": [
       "['나', '는', '오늘', '친구', '와', '함께', '영화', '를', '볼', '계획', '이다', '.']"
      ]
     },
     "execution_count": 15,
     "metadata": {},
     "output_type": "execute_result"
    }
   ],
   "source": [
    "text = '나는 오늘 친구와 함께 영화를 볼 계획이다.'\n",
    "\n",
    "okt.morphs(text)"
   ]
  },
  {
   "cell_type": "code",
   "execution_count": 16,
   "metadata": {},
   "outputs": [
    {
     "data": {
      "text/plain": [
       "[('나', 'Noun'),\n",
       " ('는', 'Josa'),\n",
       " ('오늘', 'Noun'),\n",
       " ('친구', 'Noun'),\n",
       " ('와', 'Josa'),\n",
       " ('함께', 'Adverb'),\n",
       " ('영화', 'Noun'),\n",
       " ('를', 'Josa'),\n",
       " ('볼', 'Noun'),\n",
       " ('계획', 'Noun'),\n",
       " ('이다', 'Josa'),\n",
       " ('.', 'Punctuation')]"
      ]
     },
     "execution_count": 16,
     "metadata": {},
     "output_type": "execute_result"
    }
   ],
   "source": [
    "okt.pos(text)"
   ]
  },
  {
   "cell_type": "code",
   "execution_count": 17,
   "metadata": {},
   "outputs": [
    {
     "data": {
      "text/plain": [
       "['나', '오늘', '친구', '영화', '볼', '계획']"
      ]
     },
     "execution_count": 17,
     "metadata": {},
     "output_type": "execute_result"
    }
   ],
   "source": [
    "okt.nouns(text)"
   ]
  },
  {
   "cell_type": "code",
   "execution_count": 18,
   "metadata": {},
   "outputs": [
    {
     "data": {
      "text/plain": [
       "['나', '는', '오늘', '끝나다', '저녁', '맛있다', '먹다', '얔', 'ㅋㅋㅋ']"
      ]
     },
     "execution_count": 18,
     "metadata": {},
     "output_type": "execute_result"
    }
   ],
   "source": [
    "text='나는 오늘 끝나고 저녁 맛있는거 먹을꺼얔ㅋㅋㅋ'\n",
    "\n",
    "okt.morphs(text, stem=True)"
   ]
  },
  {
   "cell_type": "code",
   "execution_count": 19,
   "metadata": {},
   "outputs": [
    {
     "data": {
      "text/plain": [
       "['나', '는', '오늘', '끝나고', '저녁', '맛있는거', '먹을꺼야', 'ㅋㅋㅋ']"
      ]
     },
     "execution_count": 19,
     "metadata": {},
     "output_type": "execute_result"
    }
   ],
   "source": [
    "okt.morphs(text, norm=True)"
   ]
  },
  {
   "cell_type": "code",
   "execution_count": 21,
   "metadata": {},
   "outputs": [
    {
     "data": {
      "text/plain": [
       "['나', '는', '오늘', '끝나다', '저녁', '맛있다', '먹다', 'ㅋㅋㅋ']"
      ]
     },
     "execution_count": 21,
     "metadata": {},
     "output_type": "execute_result"
    }
   ],
   "source": [
    "okt.morphs(text, norm=True, stem=True)"
   ]
  },
  {
   "cell_type": "code",
   "execution_count": 30,
   "metadata": {},
   "outputs": [
    {
     "data": {
      "text/plain": [
       "[('나', 'Noun'),\n",
       " ('는', 'Josa'),\n",
       " ('오늘', 'Noun'),\n",
       " ('끝나다', 'Verb'),\n",
       " ('저녁', 'Noun'),\n",
       " ('맛있다', 'Adjective'),\n",
       " ('먹다', 'Verb'),\n",
       " ('ㅋㅋㅋ', 'KoreanParticle')]"
      ]
     },
     "execution_count": 30,
     "metadata": {},
     "output_type": "execute_result"
    }
   ],
   "source": [
    "okt.pos(text, norm=True, stem=True)"
   ]
  },
  {
   "cell_type": "markdown",
   "metadata": {},
   "source": [
    "## 불용어 제거하기\n",
    "- 자주 사용되지만 특별한 의미 부여가 어려운 단어들을 제거\n",
    "- 일반적으로 불용어 사전은 리스트 형태를 만들어 사용\n",
    "- 불용어 사전이 있다고 가정했을 때 불용어를 제거하는 define 함수를 만들어보자\n",
    "- 불용어가 제거되고, 형용사와 동사만 추출할 수 있는 define 함수를 만들어 보자\n",
    "- 태그이름 형용사 : 'Adjective', 동사 : 'Verb', 명사 : 'Noun'"
   ]
  },
  {
   "cell_type": "code",
   "execution_count": 47,
   "metadata": {},
   "outputs": [
    {
     "data": {
      "text/plain": [
       "['배고프다', '되다', '하다']"
      ]
     },
     "execution_count": 47,
     "metadata": {},
     "output_type": "execute_result"
    }
   ],
   "source": [
    "stopwords = ['있다', '되다', '하다']\n",
    "\n",
    "text = '배고파있다. 된장이되다. 잉여하다.'\n",
    "def extract_tags(value):\n",
    "    v_pos = okt.pos(value, stem=True)\n",
    "    \n",
    "    n=0\n",
    "    n_list =[]\n",
    "    while len(value)< n:\n",
    "        \n",
    "        for j in stopwords:\n",
    "            if v_pos[n][0] == j:\n",
    "                n_list.append(n)\n",
    "    \n",
    "    for i in n_list:\n",
    "        del v_pos[i]\n",
    "        \n",
    "    end =[]\n",
    "    for i in v_pos:\n",
    "        if i[1] == 'Adjective' or i[1] == 'Verb':\n",
    "            end.append(i[0])\n",
    "    return end\n",
    "\n",
    "b = extract_tags(text)\n",
    "b"
   ]
  },
  {
   "cell_type": "code",
   "execution_count": null,
   "metadata": {},
   "outputs": [],
   "source": []
  }
 ],
 "metadata": {
  "kernelspec": {
   "display_name": "Python 3.9.12 ('base')",
   "language": "python",
   "name": "python3"
  },
  "language_info": {
   "codemirror_mode": {
    "name": "ipython",
    "version": 3
   },
   "file_extension": ".py",
   "mimetype": "text/x-python",
   "name": "python",
   "nbconvert_exporter": "python",
   "pygments_lexer": "ipython3",
   "version": "3.9.12"
  },
  "orig_nbformat": 4,
  "vscode": {
   "interpreter": {
    "hash": "a077222d77dfe082b8f1dd562ad70e458ac2ab76993a0b248ab0476e32e9e8dd"
   }
  }
 },
 "nbformat": 4,
 "nbformat_minor": 2
}
