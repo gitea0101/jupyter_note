{
 "cells": [
  {
   "cell_type": "code",
   "execution_count": 21,
   "id": "df6281ea",
   "metadata": {},
   "outputs": [
    {
     "name": "stdout",
     "output_type": "stream",
     "text": [
      "오늘의 메뉴는 꽈배기와 짬뽕입니다.\n"
     ]
    }
   ],
   "source": [
    "lunch_menu=\"곱창볶음\"\n",
    "lunch_menu2=\"꽈배기\"\n",
    "lunch_menu3=\"짬뽕\"\n",
    "\n",
    "print(\"오늘의 메뉴는 %s와 %s입니다.\"%(lunch_menu2, lunch_menu3))  # %s 문자열 %d 숫자"
   ]
  },
  {
   "cell_type": "code",
   "execution_count": 23,
   "id": "4fdb6cc3",
   "metadata": {},
   "outputs": [
    {
     "name": "stdout",
     "output_type": "stream",
     "text": [
      "오늘의 메뉴는 짬뽕와 꽈배기입니다.\n",
      "오늘의 메뉴는 짬뽕와 꽈배기입니다.\n"
     ]
    }
   ],
   "source": [
    "print(\"오늘의 메뉴는 {1}와 {0}입니다.\".format(lunch_menu2, lunch_menu3))  # .format() 자료형 상관없음\n",
    "\n",
    "print(f\"오늘의 메뉴는 {lunch_menu3}와 {lunch_menu2}입니다.\")"
   ]
  },
  {
   "cell_type": "markdown",
   "id": "bc859fb5",
   "metadata": {},
   "source": [
    "### 변수 x에 100을 대입하고, 변수 y에 200을 대입한 뒤, 변수 add에 x와 y의 합을 대입합니다.\n",
    " - 그 후, 대입한 변수를 바탕으로 아래 문자를 출력합니다.\n",
    " - \"100과 200의 합은 300입니다.\""
   ]
  },
  {
   "cell_type": "code",
   "execution_count": 24,
   "id": "ef243727",
   "metadata": {},
   "outputs": [
    {
     "name": "stdout",
     "output_type": "stream",
     "text": [
      "100과 200의 합은 300입니다.\n"
     ]
    }
   ],
   "source": [
    "x = 100\n",
    "y = 200\n",
    "add = x+y\n",
    "\n",
    "print(\"{}과 {}의 합은 {}입니다.\".format(x, y, add))"
   ]
  },
  {
   "cell_type": "code",
   "execution_count": 39,
   "id": "d365ddda",
   "metadata": {},
   "outputs": [],
   "source": [
    "song = \"tell me tell me tetetete tell me\""
   ]
  },
  {
   "cell_type": "code",
   "execution_count": 40,
   "id": "7c381b9e",
   "metadata": {},
   "outputs": [
    {
     "data": {
      "text/plain": [
       "3"
      ]
     },
     "execution_count": 40,
     "metadata": {},
     "output_type": "execute_result"
    }
   ],
   "source": [
    "song.count(\"tell me\")"
   ]
  },
  {
   "cell_type": "code",
   "execution_count": 41,
   "id": "5d4625b9",
   "metadata": {},
   "outputs": [
    {
     "data": {
      "text/plain": [
       "'TELL ME TELL ME TETETETE TELL ME'"
      ]
     },
     "execution_count": 41,
     "metadata": {},
     "output_type": "execute_result"
    }
   ],
   "source": [
    "song.upper()"
   ]
  },
  {
   "cell_type": "code",
   "execution_count": 42,
   "id": "ec10a6c7",
   "metadata": {},
   "outputs": [
    {
     "data": {
      "text/plain": [
       "'TELL ME TELL ME TETETETE TELL ME'"
      ]
     },
     "execution_count": 42,
     "metadata": {},
     "output_type": "execute_result"
    }
   ],
   "source": [
    "song = song.upper()\n",
    "song"
   ]
  },
  {
   "cell_type": "code",
   "execution_count": 43,
   "id": "b6470843",
   "metadata": {},
   "outputs": [
    {
     "data": {
      "text/plain": [
       "'tell me tell me tetetete tell me'"
      ]
     },
     "execution_count": 43,
     "metadata": {},
     "output_type": "execute_result"
    }
   ],
   "source": [
    "song.lower()"
   ]
  },
  {
   "cell_type": "code",
   "execution_count": 44,
   "id": "d24dc1f4",
   "metadata": {},
   "outputs": [
    {
     "data": {
      "text/plain": [
       "'tell me tell me tetetete tell me'"
      ]
     },
     "execution_count": 44,
     "metadata": {},
     "output_type": "execute_result"
    }
   ],
   "source": [
    "song = song.lower()\n",
    "song"
   ]
  },
  {
   "cell_type": "code",
   "execution_count": 45,
   "id": "d6bcce7e",
   "metadata": {},
   "outputs": [
    {
     "data": {
      "text/plain": [
       "'Tell Me Tell Me Tetetete Tell Me'"
      ]
     },
     "execution_count": 45,
     "metadata": {},
     "output_type": "execute_result"
    }
   ],
   "source": [
    "song.title()"
   ]
  },
  {
   "cell_type": "code",
   "execution_count": 46,
   "id": "0cf5c6da",
   "metadata": {},
   "outputs": [
    {
     "data": {
      "text/plain": [
       "'yell me yell me yeyeyeye yell me'"
      ]
     },
     "execution_count": 46,
     "metadata": {},
     "output_type": "execute_result"
    }
   ],
   "source": [
    "song.replace(\"t\", \"y\")"
   ]
  },
  {
   "cell_type": "code",
   "execution_count": 47,
   "id": "1b0de525",
   "metadata": {},
   "outputs": [
    {
     "data": {
      "text/plain": [
       "['tell', 'me', 'tell', 'me', 'tetetete', 'tell', 'me']"
      ]
     },
     "execution_count": 47,
     "metadata": {},
     "output_type": "execute_result"
    }
   ],
   "source": [
    "song.split(\" \")"
   ]
  },
  {
   "cell_type": "code",
   "execution_count": 48,
   "id": "63f5b8e5",
   "metadata": {},
   "outputs": [
    {
     "data": {
      "text/plain": [
       "['나는 밥을 먹었다', '아주 맛이 있었다.']"
      ]
     },
     "execution_count": 48,
     "metadata": {},
     "output_type": "execute_result"
    }
   ],
   "source": [
    "sen = \"나는 밥을 먹었다. 아주 맛이 있었다.\"\n",
    "sen.split(\". \")"
   ]
  },
  {
   "cell_type": "code",
   "execution_count": 49,
   "id": "ef4c98c8",
   "metadata": {},
   "outputs": [
    {
     "data": {
      "text/plain": [
       "'          tell'"
      ]
     },
     "execution_count": 49,
     "metadata": {},
     "output_type": "execute_result"
    }
   ],
   "source": [
    "ah_ryeon = \"          tell          \"\n",
    "ah_ryeon.rstrip()"
   ]
  },
  {
   "cell_type": "code",
   "execution_count": 37,
   "id": "74dd1af1",
   "metadata": {},
   "outputs": [
    {
     "data": {
      "text/plain": [
       "'tell..........'"
      ]
     },
     "execution_count": 37,
     "metadata": {},
     "output_type": "execute_result"
    }
   ],
   "source": [
    "ah_ryeon = \"..........tell..........\"\n",
    "ah_ryeon.lstrip(\".\")"
   ]
  },
  {
   "cell_type": "code",
   "execution_count": 38,
   "id": "39021158",
   "metadata": {},
   "outputs": [
    {
     "data": {
      "text/plain": [
       "'\\nasd\\nasd\\nasd\\nasd\\n'"
      ]
     },
     "execution_count": 38,
     "metadata": {},
     "output_type": "execute_result"
    }
   ],
   "source": [
    "\"\"\"\n",
    "asd\n",
    "asd\n",
    "asd\n",
    "asd\n",
    "\"\"\""
   ]
  },
  {
   "cell_type": "code",
   "execution_count": null,
   "id": "fe1ba462",
   "metadata": {},
   "outputs": [],
   "source": []
  }
 ],
 "metadata": {
  "kernelspec": {
   "display_name": "Python 3 (ipykernel)",
   "language": "python",
   "name": "python3"
  },
  "language_info": {
   "codemirror_mode": {
    "name": "ipython",
    "version": 3
   },
   "file_extension": ".py",
   "mimetype": "text/x-python",
   "name": "python",
   "nbconvert_exporter": "python",
   "pygments_lexer": "ipython3",
   "version": "3.9.12"
  }
 },
 "nbformat": 4,
 "nbformat_minor": 5
}
